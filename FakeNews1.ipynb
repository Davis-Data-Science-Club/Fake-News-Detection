{
 "cells": [
  {
   "cell_type": "markdown",
   "id": "97896fdd-82e6-4469-b0e0-5861b3b4d30c",
   "metadata": {},
   "source": [
    "# Setting up virtual environment"
   ]
  },
  {
   "cell_type": "markdown",
   "id": "5445a5cc-a1a3-454b-b8f7-4d0012eff62e",
   "metadata": {},
   "source": [
    "Install Mambaforge https://mamba.readthedocs.io/en/latest/installation.html\n",
    "If you're on MacOS you can run `brew install mambaforge`"
   ]
  },
  {
   "cell_type": "markdown",
   "id": "61c7debb-f773-49b7-a332-a76248db8a03",
   "metadata": {},
   "source": [
    "Create a virtual environment for the project\n",
    "`mamba create -n fakenews python=3.10`"
   ]
  },
  {
   "cell_type": "markdown",
   "id": "4287f82d-4a7a-460c-935e-13a1311bf4d0",
   "metadata": {},
   "source": [
    "Activate the env `mamba activate fakenews`"
   ]
  },
  {
   "cell_type": "markdown",
   "id": "db41f471-d982-42a7-be5e-90c0db011000",
   "metadata": {},
   "source": [
    "Install dependencies we'll need for the project\n",
    "`mamba install -c huggingface transformers=4.26.0 datasets evaluate jupyterlab scikit-learn`\n",
    "\n"
   ]
  },
  {
   "cell_type": "markdown",
   "id": "1f81626d-7b99-486a-b1c6-e36503c89e3b",
   "metadata": {},
   "source": [
    "Run jupyterlab:\n",
    "`jupyter lab`"
   ]
  },
  {
   "cell_type": "code",
   "execution_count": 13,
   "id": "da8b7ce3-816e-4b15-92ba-0fdaf571a885",
   "metadata": {},
   "outputs": [
    {
     "name": "stdout",
     "output_type": "stream",
     "text": [
      "Collecting package metadata (current_repodata.json): ...working... done\n",
      "Solving environment: ...working... done\n",
      "\n",
      "## Package Plan ##\n",
      "\n",
      "  environment location: C:\\Users\\Erick\\anaconda3\\envs\\fakenews\n",
      "\n",
      "  added / updated specs:\n",
      "    - pytorch\n",
      "\n",
      "\n",
      "The following packages will be downloaded:\n",
      "\n",
      "    package                    |            build\n",
      "    ---------------------------|-----------------\n",
      "    future-0.18.2              |  py310haa95532_1         672 KB\n",
      "    libuv-1.40.0               |       he774522_0         255 KB\n",
      "    ninja-1.10.2               |       haa95532_5          14 KB\n",
      "    ninja-base-1.10.2          |       h6d14046_5         255 KB\n",
      "    pytorch-1.12.1             |cpu_py310h5e1f01c_0        80.7 MB\n",
      "    ------------------------------------------------------------\n",
      "                                           Total:        81.9 MB\n",
      "\n",
      "The following NEW packages will be INSTALLED:\n",
      "\n",
      "  future             pkgs/main/win-64::future-0.18.2-py310haa95532_1\n",
      "  libuv              pkgs/main/win-64::libuv-1.40.0-he774522_0\n",
      "  ninja              pkgs/main/win-64::ninja-1.10.2-haa95532_5\n",
      "  ninja-base         pkgs/main/win-64::ninja-base-1.10.2-h6d14046_5\n",
      "  pytorch            pkgs/main/win-64::pytorch-1.12.1-cpu_py310h5e1f01c_0\n",
      "\n",
      "\n",
      "\n",
      "Downloading and Extracting Packages\n",
      "\n",
      "pytorch-1.12.1       | 80.7 MB   |            |   0% \n",
      "pytorch-1.12.1       | 80.7 MB   |            |   0% \n",
      "pytorch-1.12.1       | 80.7 MB   |            |   0% \n",
      "pytorch-1.12.1       | 80.7 MB   |            |   1% \n",
      "pytorch-1.12.1       | 80.7 MB   | 1          |   2% \n",
      "pytorch-1.12.1       | 80.7 MB   | 2          |   3% \n",
      "pytorch-1.12.1       | 80.7 MB   | 4          |   5% \n",
      "pytorch-1.12.1       | 80.7 MB   | 6          |   6% \n",
      "pytorch-1.12.1       | 80.7 MB   | 8          |   8% \n",
      "pytorch-1.12.1       | 80.7 MB   | 9          |  10% \n",
      "pytorch-1.12.1       | 80.7 MB   | #1         |  12% \n",
      "pytorch-1.12.1       | 80.7 MB   | #3         |  14% \n",
      "pytorch-1.12.1       | 80.7 MB   | #5         |  16% \n",
      "pytorch-1.12.1       | 80.7 MB   | #7         |  18% \n",
      "pytorch-1.12.1       | 80.7 MB   | #9         |  20% \n",
      "pytorch-1.12.1       | 80.7 MB   | ##1        |  22% \n",
      "pytorch-1.12.1       | 80.7 MB   | ##3        |  23% \n",
      "pytorch-1.12.1       | 80.7 MB   | ##4        |  24% \n",
      "pytorch-1.12.1       | 80.7 MB   | ##5        |  25% \n",
      "pytorch-1.12.1       | 80.7 MB   | ##6        |  26% \n",
      "pytorch-1.12.1       | 80.7 MB   | ##7        |  28% \n",
      "pytorch-1.12.1       | 80.7 MB   | ##9        |  29% \n",
      "pytorch-1.12.1       | 80.7 MB   | ###        |  30% \n",
      "pytorch-1.12.1       | 80.7 MB   | ###2       |  32% \n",
      "pytorch-1.12.1       | 80.7 MB   | ###4       |  34% \n",
      "pytorch-1.12.1       | 80.7 MB   | ###6       |  36% \n",
      "pytorch-1.12.1       | 80.7 MB   | ###8       |  38% \n",
      "pytorch-1.12.1       | 80.7 MB   | ####       |  40% \n",
      "pytorch-1.12.1       | 80.7 MB   | ####1      |  42% \n",
      "pytorch-1.12.1       | 80.7 MB   | ####3      |  43% \n",
      "pytorch-1.12.1       | 80.7 MB   | ####4      |  44% \n",
      "pytorch-1.12.1       | 80.7 MB   | ####5      |  46% \n",
      "pytorch-1.12.1       | 80.7 MB   | ####6      |  47% \n",
      "pytorch-1.12.1       | 80.7 MB   | ####7      |  48% \n",
      "pytorch-1.12.1       | 80.7 MB   | ####9      |  49% \n",
      "pytorch-1.12.1       | 80.7 MB   | #####1     |  51% \n",
      "pytorch-1.12.1       | 80.7 MB   | #####3     |  53% \n",
      "pytorch-1.12.1       | 80.7 MB   | #####4     |  55% \n",
      "pytorch-1.12.1       | 80.7 MB   | #####6     |  57% \n",
      "pytorch-1.12.1       | 80.7 MB   | #####8     |  59% \n",
      "pytorch-1.12.1       | 80.7 MB   | ######     |  61% \n",
      "pytorch-1.12.1       | 80.7 MB   | ######2    |  62% \n",
      "pytorch-1.12.1       | 80.7 MB   | ######4    |  65% \n",
      "pytorch-1.12.1       | 80.7 MB   | ######6    |  66% \n",
      "pytorch-1.12.1       | 80.7 MB   | ######8    |  68% \n",
      "pytorch-1.12.1       | 80.7 MB   | #######    |  70% \n",
      "pytorch-1.12.1       | 80.7 MB   | #######2   |  73% \n",
      "pytorch-1.12.1       | 80.7 MB   | #######4   |  75% \n",
      "pytorch-1.12.1       | 80.7 MB   | #######6   |  77% \n",
      "pytorch-1.12.1       | 80.7 MB   | #######8   |  79% \n",
      "pytorch-1.12.1       | 80.7 MB   | ########   |  81% \n",
      "pytorch-1.12.1       | 80.7 MB   | ########2  |  83% \n",
      "pytorch-1.12.1       | 80.7 MB   | ########5  |  85% \n",
      "pytorch-1.12.1       | 80.7 MB   | ########7  |  87% \n",
      "pytorch-1.12.1       | 80.7 MB   | ########9  |  89% \n",
      "pytorch-1.12.1       | 80.7 MB   | #########1 |  91% \n",
      "pytorch-1.12.1       | 80.7 MB   | #########3 |  93% \n",
      "pytorch-1.12.1       | 80.7 MB   | #########5 |  95% \n",
      "pytorch-1.12.1       | 80.7 MB   | #########7 |  97% \n",
      "pytorch-1.12.1       | 80.7 MB   | #########9 |  99% \n",
      "pytorch-1.12.1       | 80.7 MB   | ########## | 100% \n",
      "\n",
      "ninja-base-1.10.2    | 255 KB    |            |   0% \n",
      "ninja-base-1.10.2    | 255 KB    | ########## | 100% \n",
      "ninja-base-1.10.2    | 255 KB    | ########## | 100% \n",
      "\n",
      "future-0.18.2        | 672 KB    |            |   0% \n",
      "future-0.18.2        | 672 KB    | ########## | 100% \n",
      "future-0.18.2        | 672 KB    | ########## | 100% \n",
      "\n",
      "ninja-1.10.2         | 14 KB     |            |   0% \n",
      "ninja-1.10.2         | 14 KB     | ########## | 100% \n",
      "\n",
      "libuv-1.40.0         | 255 KB    |            |   0% \n",
      "libuv-1.40.0         | 255 KB    | ########## | 100% \n",
      "libuv-1.40.0         | 255 KB    | ########## | 100% \n",
      "Preparing transaction: ...working... done\n",
      "Verifying transaction: ...working... done\n",
      "Executing transaction: ...working... done\n",
      "\n",
      "Note: you may need to restart the kernel to use updated packages.\n"
     ]
    },
    {
     "name": "stderr",
     "output_type": "stream",
     "text": [
      "\n",
      "\n",
      "==> WARNING: A newer version of conda exists. <==\n",
      "  current version: 4.12.0\n",
      "  latest version: 23.1.0\n",
      "\n",
      "Please update conda by running\n",
      "\n",
      "    $ conda update -n base -c defaults conda\n",
      "\n",
      "\n"
     ]
    }
   ],
   "source": [
    "conda install pytorch"
   ]
  },
  {
   "cell_type": "code",
   "execution_count": 1,
   "id": "5e825345-22e0-4716-8d95-a7759aca619b",
   "metadata": {},
   "outputs": [
    {
     "ename": "ModuleNotFoundError",
     "evalue": "No module named 'torch'",
     "output_type": "error",
     "traceback": [
      "\u001b[1;31m---------------------------------------------------------------------------\u001b[0m",
      "\u001b[1;31mModuleNotFoundError\u001b[0m                       Traceback (most recent call last)",
      "Cell \u001b[1;32mIn[1], line 1\u001b[0m\n\u001b[1;32m----> 1\u001b[0m \u001b[38;5;28;01mimport\u001b[39;00m \u001b[38;5;21;01mtorch\u001b[39;00m\n\u001b[0;32m      2\u001b[0m \u001b[38;5;28;01mif\u001b[39;00m torch\u001b[38;5;241m.\u001b[39mbackends\u001b[38;5;241m.\u001b[39mmps\u001b[38;5;241m.\u001b[39mis_available():\n\u001b[0;32m      3\u001b[0m     mps_device \u001b[38;5;241m=\u001b[39m torch\u001b[38;5;241m.\u001b[39mdevice(\u001b[38;5;124m\"\u001b[39m\u001b[38;5;124mmps\u001b[39m\u001b[38;5;124m\"\u001b[39m)\n",
      "\u001b[1;31mModuleNotFoundError\u001b[0m: No module named 'torch'"
     ]
    }
   ],
   "source": [
    "import torch\n",
    "if torch.backends.mps.is_available():\n",
    "    mps_device = torch.device(\"mps\")\n",
    "    x = torch.ones(1, device=mps_device)\n",
    "    print (x)\n",
    "else:\n",
    "    print (\"MPS device not found.\")"
   ]
  },
  {
   "cell_type": "code",
   "execution_count": 1,
   "id": "95e05d36-a44a-493a-bc53-4659b446d63b",
   "metadata": {},
   "outputs": [
    {
     "name": "stderr",
     "output_type": "stream",
     "text": [
      "C:\\Users\\Erick\\anaconda3\\envs\\fakenews\\lib\\site-packages\\tqdm\\auto.py:22: TqdmWarning: IProgress not found. Please update jupyter and ipywidgets. See https://ipywidgets.readthedocs.io/en/stable/user_install.html\n",
      "  from .autonotebook import tqdm as notebook_tqdm\n"
     ]
    }
   ],
   "source": [
    "from datasets import load_dataset, load_from_disk"
   ]
  },
  {
   "cell_type": "code",
   "execution_count": 2,
   "id": "2ce7960c-7be8-4dbc-a376-e28df6a5a5f5",
   "metadata": {},
   "outputs": [
    {
     "name": "stderr",
     "output_type": "stream",
     "text": [
      "Found cached dataset liar (C:/Users/Erick/.cache/huggingface/datasets/liar/default/1.0.0/479463e757b7991eed50ffa7504d7788d6218631a484442e2098dabbf3b44514)\n",
      "100%|███████████████████████████████████████████████████████████████████████████████████| 3/3 [00:00<00:00, 251.43it/s]\n"
     ]
    }
   ],
   "source": [
    "dataset = load_dataset(\"liar\")"
   ]
  },
  {
   "cell_type": "code",
   "execution_count": 3,
   "id": "4fca8042-0852-4e1b-8628-d268babfc48d",
   "metadata": {},
   "outputs": [
    {
     "name": "stderr",
     "output_type": "stream",
     "text": [
      "Using custom data configuration default-16166e5dc31fa63c\n",
      "Found cached dataset csv (C:/Users/Erick/.cache/huggingface/datasets/csv/default-16166e5dc31fa63c/0.0.0/6b34fb8fcf56f7c8ba51dc895bfa2bfbe43546f190a60fcf74bb5e8afdcc2317)\n",
      "100%|███████████████████████████████████████████████████████████████████████████████████| 1/1 [00:00<00:00, 125.26it/s]\n"
     ]
    }
   ],
   "source": [
    "fake_csv = load_dataset(\"csv\", data_files=\"news.csv\")"
   ]
  },
  {
   "cell_type": "code",
   "execution_count": 4,
   "id": "37ac3dec-55d3-4002-a269-49345e2a7e69",
   "metadata": {},
   "outputs": [
    {
     "data": {
      "text/plain": [
       "DatasetDict({\n",
       "    train: Dataset({\n",
       "        features: ['Unnamed: 0', 'title', 'text', 'label'],\n",
       "        num_rows: 6335\n",
       "    })\n",
       "})"
      ]
     },
     "execution_count": 4,
     "metadata": {},
     "output_type": "execute_result"
    }
   ],
   "source": [
    "fake_csv"
   ]
  },
  {
   "cell_type": "code",
   "execution_count": 5,
   "id": "9efbad4f-e784-4996-abc7-5621c43294b1",
   "metadata": {},
   "outputs": [],
   "source": [
    "fake_csv_split = fake_csv[\"train\"].train_test_split(test_size=0.1)"
   ]
  },
  {
   "cell_type": "code",
   "execution_count": 6,
   "id": "a3ec57da-d63c-4564-82e7-d385a6a3cf47",
   "metadata": {},
   "outputs": [
    {
     "data": {
      "text/plain": [
       "DatasetDict({\n",
       "    train: Dataset({\n",
       "        features: ['Unnamed: 0', 'title', 'text', 'label'],\n",
       "        num_rows: 5701\n",
       "    })\n",
       "    test: Dataset({\n",
       "        features: ['Unnamed: 0', 'title', 'text', 'label'],\n",
       "        num_rows: 634\n",
       "    })\n",
       "})"
      ]
     },
     "execution_count": 6,
     "metadata": {},
     "output_type": "execute_result"
    }
   ],
   "source": [
    "fake_csv_split"
   ]
  },
  {
   "cell_type": "code",
   "execution_count": 7,
   "id": "e9617324-3499-4d6a-9919-00260c78132d",
   "metadata": {},
   "outputs": [],
   "source": [
    "from transformers import AutoTokenizer\n",
    "\n",
    "# Load DistilBERT tokenizer and tokenize (encode) the texts\n",
    "tokenizer = AutoTokenizer.from_pretrained(\"distilbert-base-uncased\")"
   ]
  },
  {
   "cell_type": "code",
   "execution_count": 8,
   "id": "13c914c4-1f3a-46cc-8acf-462cc9bc08f1",
   "metadata": {},
   "outputs": [
    {
     "name": "stderr",
     "output_type": "stream",
     "text": [
      "100%|████████████████████████████████████████████████████████████████████████████| 5701/5701 [00:01<00:00, 5433.81ex/s]\n",
      "100%|██████████████████████████████████████████████████████████████████████████████| 634/634 [00:00<00:00, 6832.71ex/s]\n"
     ]
    }
   ],
   "source": [
    "fake_csv_split = fake_csv_split.map(lambda x: {\"label\": 1 if x[\"label\"] == \"FAKE\" else 0})"
   ]
  },
  {
   "cell_type": "code",
   "execution_count": 9,
   "id": "2a8a2045-3739-4adf-9a4c-a7af7d6ef3d6",
   "metadata": {},
   "outputs": [],
   "source": [
    "from transformers import AutoTokenizer\n",
    "def tokenize(batch):\n",
    "    from transformers import AutoTokenizer\n",
    "    tokenizer = AutoTokenizer.from_pretrained(\"distilbert-base-uncased\")\n",
    "    tokenized_batch = tokenizer(batch['text'], padding=True, truncation=True, max_length=128)\n",
    "    return tokenized_batch"
   ]
  },
  {
   "cell_type": "code",
   "execution_count": 10,
   "id": "ca97a6f9-11ca-4c3e-b101-7f2c64d9fdf5",
   "metadata": {},
   "outputs": [
    {
     "data": {
      "text/plain": [
       "DatasetDict({\n",
       "    train: Dataset({\n",
       "        features: ['label', 'input_ids', 'attention_mask'],\n",
       "        num_rows: 5701\n",
       "    })\n",
       "    test: Dataset({\n",
       "        features: ['label', 'input_ids', 'attention_mask'],\n",
       "        num_rows: 634\n",
       "    })\n",
       "})"
      ]
     },
     "execution_count": 10,
     "metadata": {},
     "output_type": "execute_result"
    }
   ],
   "source": [
    "fake_csv_split.map(tokenize, remove_columns=['Unnamed: 0', 'title', 'text'], batched=True, num_proc=4)"
   ]
  },
  {
   "cell_type": "code",
   "execution_count": 11,
   "id": "652820ed-8fa6-4f3a-9163-8f0002880eb3",
   "metadata": {
    "tags": []
   },
   "outputs": [
    {
     "name": "stderr",
     "output_type": "stream",
     "text": [
      "Loading cached processed dataset at C:\\Users\\Erick\\.cache\\huggingface\\datasets\\csv\\default-16166e5dc31fa63c\\0.0.0\\6b34fb8fcf56f7c8ba51dc895bfa2bfbe43546f190a60fcf74bb5e8afdcc2317\\cache-50286481a9f1f581.arrow\n",
      "Loading cached processed dataset at C:\\Users\\Erick\\.cache\\huggingface\\datasets\\csv\\default-16166e5dc31fa63c\\0.0.0\\6b34fb8fcf56f7c8ba51dc895bfa2bfbe43546f190a60fcf74bb5e8afdcc2317\\cache-b1870c906afc97a0.arrow\n",
      "Loading cached processed dataset at C:\\Users\\Erick\\.cache\\huggingface\\datasets\\csv\\default-16166e5dc31fa63c\\0.0.0\\6b34fb8fcf56f7c8ba51dc895bfa2bfbe43546f190a60fcf74bb5e8afdcc2317\\cache-a4dc9cc34e37af29.arrow\n",
      "Loading cached processed dataset at C:\\Users\\Erick\\.cache\\huggingface\\datasets\\csv\\default-16166e5dc31fa63c\\0.0.0\\6b34fb8fcf56f7c8ba51dc895bfa2bfbe43546f190a60fcf74bb5e8afdcc2317\\cache-0e9cd019af4684c8.arrow\n",
      "Loading cached processed dataset at C:\\Users\\Erick\\.cache\\huggingface\\datasets\\csv\\default-16166e5dc31fa63c\\0.0.0\\6b34fb8fcf56f7c8ba51dc895bfa2bfbe43546f190a60fcf74bb5e8afdcc2317\\cache-c629d449fbd1d967.arrow\n",
      "Loading cached processed dataset at C:\\Users\\Erick\\.cache\\huggingface\\datasets\\csv\\default-16166e5dc31fa63c\\0.0.0\\6b34fb8fcf56f7c8ba51dc895bfa2bfbe43546f190a60fcf74bb5e8afdcc2317\\cache-8668fb5d1cc561c9.arrow\n",
      "Loading cached processed dataset at C:\\Users\\Erick\\.cache\\huggingface\\datasets\\csv\\default-16166e5dc31fa63c\\0.0.0\\6b34fb8fcf56f7c8ba51dc895bfa2bfbe43546f190a60fcf74bb5e8afdcc2317\\cache-194968e0a899c90e.arrow\n",
      "Loading cached processed dataset at C:\\Users\\Erick\\.cache\\huggingface\\datasets\\csv\\default-16166e5dc31fa63c\\0.0.0\\6b34fb8fcf56f7c8ba51dc895bfa2bfbe43546f190a60fcf74bb5e8afdcc2317\\cache-b159a183d0a0102d.arrow\n"
     ]
    },
    {
     "name": "stdout",
     "output_type": "stream",
     "text": [
      "['label', 'input_ids', 'attention_mask']\n"
     ]
    }
   ],
   "source": [
    "# Tokenize and encode the dataset\n",
    "\n",
    "\n",
    "dataset_enc = fake_csv_split.map(tokenize, remove_columns=['Unnamed: 0', 'title', 'text'], batched=True, num_proc=4)\n",
    "\n",
    "# Set dataset format for PyTorch\n",
    "dataset_enc.set_format('torch', columns=['input_ids', 'attention_mask', 'label'])\n",
    "\n",
    "# Check the output\n",
    "print(dataset_enc[\"train\"].column_names)"
   ]
  },
  {
   "cell_type": "code",
   "execution_count": 12,
   "id": "60b4923d-b09c-4e47-b96d-26fc469f0992",
   "metadata": {},
   "outputs": [],
   "source": [
    "from transformers import DataCollatorWithPadding\n",
    "from torch.utils.data import DataLoader\n",
    "\n",
    "# Instantiate a data collator with dynamic padding\n",
    "data_collator = DataCollatorWithPadding(tokenizer=tokenizer)"
   ]
  },
  {
   "cell_type": "code",
   "execution_count": 13,
   "id": "0b8ed82c-301b-4247-bb71-c657808952b4",
   "metadata": {},
   "outputs": [
    {
     "name": "stderr",
     "output_type": "stream",
     "text": [
      "Downloading (…)\"pytorch_model.bin\";: 100%|██████████████████████████████████████████| 268M/268M [00:16<00:00, 16.0MB/s]\n",
      "C:\\Users\\Erick\\anaconda3\\envs\\fakenews\\lib\\site-packages\\huggingface_hub-0.12.0-py3.8.egg\\huggingface_hub\\file_download.py:129: UserWarning: `huggingface_hub` cache-system uses symlinks by default to efficiently store duplicated files but your machine does not support them in C:\\Users\\Erick\\.cache\\huggingface\\hub. Caching files will still work but in a degraded version that might require more space on your disk. This warning can be disabled by setting the `HF_HUB_DISABLE_SYMLINKS_WARNING` environment variable. For more details, see https://huggingface.co/docs/huggingface_hub/how-to-cache#limitations.\n",
      "To support symlinks on Windows, you either need to activate Developer Mode or to run Python as an administrator. In order to see activate developer mode, see this article: https://docs.microsoft.com/en-us/windows/apps/get-started/enable-your-device-for-development\n",
      "Some weights of the model checkpoint at distilbert-base-uncased were not used when initializing DistilBertForSequenceClassification: ['vocab_transform.bias', 'vocab_layer_norm.bias', 'vocab_projector.weight', 'vocab_projector.bias', 'vocab_transform.weight', 'vocab_layer_norm.weight']\n",
      "- This IS expected if you are initializing DistilBertForSequenceClassification from the checkpoint of a model trained on another task or with another architecture (e.g. initializing a BertForSequenceClassification model from a BertForPreTraining model).\n",
      "- This IS NOT expected if you are initializing DistilBertForSequenceClassification from the checkpoint of a model that you expect to be exactly identical (initializing a BertForSequenceClassification model from a BertForSequenceClassification model).\n",
      "Some weights of DistilBertForSequenceClassification were not initialized from the model checkpoint at distilbert-base-uncased and are newly initialized: ['classifier.weight', 'pre_classifier.bias', 'classifier.bias', 'pre_classifier.weight']\n",
      "You should probably TRAIN this model on a down-stream task to be able to use it for predictions and inference.\n"
     ]
    }
   ],
   "source": [
    "from transformers import AutoTokenizer, AutoModelForSequenceClassification\n",
    "from transformers import AutoModelForSequenceClassification\n",
    "\n",
    "# Load model from checkpoint\\n\",\n",
    "model = AutoModelForSequenceClassification.from_pretrained(\"distilbert-base-uncased\",\n",
    "                                                           num_labels=2)"
   ]
  },
  {
   "cell_type": "code",
   "execution_count": 14,
   "id": "f9f9884d-77da-4b23-8c79-eb6820adc030",
   "metadata": {
    "tags": []
   },
   "outputs": [
    {
     "ename": "RuntimeError",
     "evalue": "PyTorch is not linked with support for mps devices",
     "output_type": "error",
     "traceback": [
      "\u001b[1;31m---------------------------------------------------------------------------\u001b[0m",
      "\u001b[1;31mRuntimeError\u001b[0m                              Traceback (most recent call last)",
      "Cell \u001b[1;32mIn[14], line 1\u001b[0m\n\u001b[1;32m----> 1\u001b[0m \u001b[43mmodel\u001b[49m\u001b[38;5;241;43m.\u001b[39;49m\u001b[43mto\u001b[49m\u001b[43m(\u001b[49m\u001b[38;5;124;43m\"\u001b[39;49m\u001b[38;5;124;43mmps\u001b[39;49m\u001b[38;5;124;43m\"\u001b[39;49m\u001b[43m)\u001b[49m\n",
      "File \u001b[1;32m~\\anaconda3\\envs\\fakenews\\lib\\site-packages\\transformers\\modeling_utils.py:1749\u001b[0m, in \u001b[0;36mPreTrainedModel.to\u001b[1;34m(self, *args, **kwargs)\u001b[0m\n\u001b[0;32m   1744\u001b[0m     \u001b[38;5;28;01mraise\u001b[39;00m \u001b[38;5;167;01mValueError\u001b[39;00m(\n\u001b[0;32m   1745\u001b[0m         \u001b[38;5;124m\"\u001b[39m\u001b[38;5;124m`.to` is not supported for `8-bit` models. Please use the model as it is, since the\u001b[39m\u001b[38;5;124m\"\u001b[39m\n\u001b[0;32m   1746\u001b[0m         \u001b[38;5;124m\"\u001b[39m\u001b[38;5;124m model has already been set to the correct devices and casted to the correct `dtype`.\u001b[39m\u001b[38;5;124m\"\u001b[39m\n\u001b[0;32m   1747\u001b[0m     )\n\u001b[0;32m   1748\u001b[0m \u001b[38;5;28;01melse\u001b[39;00m:\n\u001b[1;32m-> 1749\u001b[0m     \u001b[38;5;28;01mreturn\u001b[39;00m \u001b[38;5;28msuper\u001b[39m()\u001b[38;5;241m.\u001b[39mto(\u001b[38;5;241m*\u001b[39margs, \u001b[38;5;241m*\u001b[39m\u001b[38;5;241m*\u001b[39mkwargs)\n",
      "File \u001b[1;32m~\\anaconda3\\envs\\fakenews\\lib\\site-packages\\torch\\nn\\modules\\module.py:927\u001b[0m, in \u001b[0;36mModule.to\u001b[1;34m(self, *args, **kwargs)\u001b[0m\n\u001b[0;32m    923\u001b[0m         \u001b[38;5;28;01mreturn\u001b[39;00m t\u001b[38;5;241m.\u001b[39mto(device, dtype \u001b[38;5;28;01mif\u001b[39;00m t\u001b[38;5;241m.\u001b[39mis_floating_point() \u001b[38;5;129;01mor\u001b[39;00m t\u001b[38;5;241m.\u001b[39mis_complex() \u001b[38;5;28;01melse\u001b[39;00m \u001b[38;5;28;01mNone\u001b[39;00m,\n\u001b[0;32m    924\u001b[0m                     non_blocking, memory_format\u001b[38;5;241m=\u001b[39mconvert_to_format)\n\u001b[0;32m    925\u001b[0m     \u001b[38;5;28;01mreturn\u001b[39;00m t\u001b[38;5;241m.\u001b[39mto(device, dtype \u001b[38;5;28;01mif\u001b[39;00m t\u001b[38;5;241m.\u001b[39mis_floating_point() \u001b[38;5;129;01mor\u001b[39;00m t\u001b[38;5;241m.\u001b[39mis_complex() \u001b[38;5;28;01melse\u001b[39;00m \u001b[38;5;28;01mNone\u001b[39;00m, non_blocking)\n\u001b[1;32m--> 927\u001b[0m \u001b[38;5;28;01mreturn\u001b[39;00m \u001b[38;5;28;43mself\u001b[39;49m\u001b[38;5;241;43m.\u001b[39;49m\u001b[43m_apply\u001b[49m\u001b[43m(\u001b[49m\u001b[43mconvert\u001b[49m\u001b[43m)\u001b[49m\n",
      "File \u001b[1;32m~\\anaconda3\\envs\\fakenews\\lib\\site-packages\\torch\\nn\\modules\\module.py:579\u001b[0m, in \u001b[0;36mModule._apply\u001b[1;34m(self, fn)\u001b[0m\n\u001b[0;32m    577\u001b[0m \u001b[38;5;28;01mdef\u001b[39;00m \u001b[38;5;21m_apply\u001b[39m(\u001b[38;5;28mself\u001b[39m, fn):\n\u001b[0;32m    578\u001b[0m     \u001b[38;5;28;01mfor\u001b[39;00m module \u001b[38;5;129;01min\u001b[39;00m \u001b[38;5;28mself\u001b[39m\u001b[38;5;241m.\u001b[39mchildren():\n\u001b[1;32m--> 579\u001b[0m         \u001b[43mmodule\u001b[49m\u001b[38;5;241;43m.\u001b[39;49m\u001b[43m_apply\u001b[49m\u001b[43m(\u001b[49m\u001b[43mfn\u001b[49m\u001b[43m)\u001b[49m\n\u001b[0;32m    581\u001b[0m     \u001b[38;5;28;01mdef\u001b[39;00m \u001b[38;5;21mcompute_should_use_set_data\u001b[39m(tensor, tensor_applied):\n\u001b[0;32m    582\u001b[0m         \u001b[38;5;28;01mif\u001b[39;00m torch\u001b[38;5;241m.\u001b[39m_has_compatible_shallow_copy_type(tensor, tensor_applied):\n\u001b[0;32m    583\u001b[0m             \u001b[38;5;66;03m# If the new tensor has compatible tensor type as the existing tensor,\u001b[39;00m\n\u001b[0;32m    584\u001b[0m             \u001b[38;5;66;03m# the current behavior is to change the tensor in-place using `.data =`,\u001b[39;00m\n\u001b[1;32m   (...)\u001b[0m\n\u001b[0;32m    589\u001b[0m             \u001b[38;5;66;03m# global flag to let the user control whether they want the future\u001b[39;00m\n\u001b[0;32m    590\u001b[0m             \u001b[38;5;66;03m# behavior of overwriting the existing tensor or not.\u001b[39;00m\n",
      "File \u001b[1;32m~\\anaconda3\\envs\\fakenews\\lib\\site-packages\\torch\\nn\\modules\\module.py:579\u001b[0m, in \u001b[0;36mModule._apply\u001b[1;34m(self, fn)\u001b[0m\n\u001b[0;32m    577\u001b[0m \u001b[38;5;28;01mdef\u001b[39;00m \u001b[38;5;21m_apply\u001b[39m(\u001b[38;5;28mself\u001b[39m, fn):\n\u001b[0;32m    578\u001b[0m     \u001b[38;5;28;01mfor\u001b[39;00m module \u001b[38;5;129;01min\u001b[39;00m \u001b[38;5;28mself\u001b[39m\u001b[38;5;241m.\u001b[39mchildren():\n\u001b[1;32m--> 579\u001b[0m         \u001b[43mmodule\u001b[49m\u001b[38;5;241;43m.\u001b[39;49m\u001b[43m_apply\u001b[49m\u001b[43m(\u001b[49m\u001b[43mfn\u001b[49m\u001b[43m)\u001b[49m\n\u001b[0;32m    581\u001b[0m     \u001b[38;5;28;01mdef\u001b[39;00m \u001b[38;5;21mcompute_should_use_set_data\u001b[39m(tensor, tensor_applied):\n\u001b[0;32m    582\u001b[0m         \u001b[38;5;28;01mif\u001b[39;00m torch\u001b[38;5;241m.\u001b[39m_has_compatible_shallow_copy_type(tensor, tensor_applied):\n\u001b[0;32m    583\u001b[0m             \u001b[38;5;66;03m# If the new tensor has compatible tensor type as the existing tensor,\u001b[39;00m\n\u001b[0;32m    584\u001b[0m             \u001b[38;5;66;03m# the current behavior is to change the tensor in-place using `.data =`,\u001b[39;00m\n\u001b[1;32m   (...)\u001b[0m\n\u001b[0;32m    589\u001b[0m             \u001b[38;5;66;03m# global flag to let the user control whether they want the future\u001b[39;00m\n\u001b[0;32m    590\u001b[0m             \u001b[38;5;66;03m# behavior of overwriting the existing tensor or not.\u001b[39;00m\n",
      "File \u001b[1;32m~\\anaconda3\\envs\\fakenews\\lib\\site-packages\\torch\\nn\\modules\\module.py:579\u001b[0m, in \u001b[0;36mModule._apply\u001b[1;34m(self, fn)\u001b[0m\n\u001b[0;32m    577\u001b[0m \u001b[38;5;28;01mdef\u001b[39;00m \u001b[38;5;21m_apply\u001b[39m(\u001b[38;5;28mself\u001b[39m, fn):\n\u001b[0;32m    578\u001b[0m     \u001b[38;5;28;01mfor\u001b[39;00m module \u001b[38;5;129;01min\u001b[39;00m \u001b[38;5;28mself\u001b[39m\u001b[38;5;241m.\u001b[39mchildren():\n\u001b[1;32m--> 579\u001b[0m         \u001b[43mmodule\u001b[49m\u001b[38;5;241;43m.\u001b[39;49m\u001b[43m_apply\u001b[49m\u001b[43m(\u001b[49m\u001b[43mfn\u001b[49m\u001b[43m)\u001b[49m\n\u001b[0;32m    581\u001b[0m     \u001b[38;5;28;01mdef\u001b[39;00m \u001b[38;5;21mcompute_should_use_set_data\u001b[39m(tensor, tensor_applied):\n\u001b[0;32m    582\u001b[0m         \u001b[38;5;28;01mif\u001b[39;00m torch\u001b[38;5;241m.\u001b[39m_has_compatible_shallow_copy_type(tensor, tensor_applied):\n\u001b[0;32m    583\u001b[0m             \u001b[38;5;66;03m# If the new tensor has compatible tensor type as the existing tensor,\u001b[39;00m\n\u001b[0;32m    584\u001b[0m             \u001b[38;5;66;03m# the current behavior is to change the tensor in-place using `.data =`,\u001b[39;00m\n\u001b[1;32m   (...)\u001b[0m\n\u001b[0;32m    589\u001b[0m             \u001b[38;5;66;03m# global flag to let the user control whether they want the future\u001b[39;00m\n\u001b[0;32m    590\u001b[0m             \u001b[38;5;66;03m# behavior of overwriting the existing tensor or not.\u001b[39;00m\n",
      "File \u001b[1;32m~\\anaconda3\\envs\\fakenews\\lib\\site-packages\\torch\\nn\\modules\\module.py:602\u001b[0m, in \u001b[0;36mModule._apply\u001b[1;34m(self, fn)\u001b[0m\n\u001b[0;32m    598\u001b[0m \u001b[38;5;66;03m# Tensors stored in modules are graph leaves, and we don't want to\u001b[39;00m\n\u001b[0;32m    599\u001b[0m \u001b[38;5;66;03m# track autograd history of `param_applied`, so we have to use\u001b[39;00m\n\u001b[0;32m    600\u001b[0m \u001b[38;5;66;03m# `with torch.no_grad():`\u001b[39;00m\n\u001b[0;32m    601\u001b[0m \u001b[38;5;28;01mwith\u001b[39;00m torch\u001b[38;5;241m.\u001b[39mno_grad():\n\u001b[1;32m--> 602\u001b[0m     param_applied \u001b[38;5;241m=\u001b[39m \u001b[43mfn\u001b[49m\u001b[43m(\u001b[49m\u001b[43mparam\u001b[49m\u001b[43m)\u001b[49m\n\u001b[0;32m    603\u001b[0m should_use_set_data \u001b[38;5;241m=\u001b[39m compute_should_use_set_data(param, param_applied)\n\u001b[0;32m    604\u001b[0m \u001b[38;5;28;01mif\u001b[39;00m should_use_set_data:\n",
      "File \u001b[1;32m~\\anaconda3\\envs\\fakenews\\lib\\site-packages\\torch\\nn\\modules\\module.py:925\u001b[0m, in \u001b[0;36mModule.to.<locals>.convert\u001b[1;34m(t)\u001b[0m\n\u001b[0;32m    922\u001b[0m \u001b[38;5;28;01mif\u001b[39;00m convert_to_format \u001b[38;5;129;01mis\u001b[39;00m \u001b[38;5;129;01mnot\u001b[39;00m \u001b[38;5;28;01mNone\u001b[39;00m \u001b[38;5;129;01mand\u001b[39;00m t\u001b[38;5;241m.\u001b[39mdim() \u001b[38;5;129;01min\u001b[39;00m (\u001b[38;5;241m4\u001b[39m, \u001b[38;5;241m5\u001b[39m):\n\u001b[0;32m    923\u001b[0m     \u001b[38;5;28;01mreturn\u001b[39;00m t\u001b[38;5;241m.\u001b[39mto(device, dtype \u001b[38;5;28;01mif\u001b[39;00m t\u001b[38;5;241m.\u001b[39mis_floating_point() \u001b[38;5;129;01mor\u001b[39;00m t\u001b[38;5;241m.\u001b[39mis_complex() \u001b[38;5;28;01melse\u001b[39;00m \u001b[38;5;28;01mNone\u001b[39;00m,\n\u001b[0;32m    924\u001b[0m                 non_blocking, memory_format\u001b[38;5;241m=\u001b[39mconvert_to_format)\n\u001b[1;32m--> 925\u001b[0m \u001b[38;5;28;01mreturn\u001b[39;00m \u001b[43mt\u001b[49m\u001b[38;5;241;43m.\u001b[39;49m\u001b[43mto\u001b[49m\u001b[43m(\u001b[49m\u001b[43mdevice\u001b[49m\u001b[43m,\u001b[49m\u001b[43m \u001b[49m\u001b[43mdtype\u001b[49m\u001b[43m \u001b[49m\u001b[38;5;28;43;01mif\u001b[39;49;00m\u001b[43m \u001b[49m\u001b[43mt\u001b[49m\u001b[38;5;241;43m.\u001b[39;49m\u001b[43mis_floating_point\u001b[49m\u001b[43m(\u001b[49m\u001b[43m)\u001b[49m\u001b[43m \u001b[49m\u001b[38;5;129;43;01mor\u001b[39;49;00m\u001b[43m \u001b[49m\u001b[43mt\u001b[49m\u001b[38;5;241;43m.\u001b[39;49m\u001b[43mis_complex\u001b[49m\u001b[43m(\u001b[49m\u001b[43m)\u001b[49m\u001b[43m \u001b[49m\u001b[38;5;28;43;01melse\u001b[39;49;00m\u001b[43m \u001b[49m\u001b[38;5;28;43;01mNone\u001b[39;49;00m\u001b[43m,\u001b[49m\u001b[43m \u001b[49m\u001b[43mnon_blocking\u001b[49m\u001b[43m)\u001b[49m\n",
      "\u001b[1;31mRuntimeError\u001b[0m: PyTorch is not linked with support for mps devices"
     ]
    }
   ],
   "source": [
    "model.to(\"mps\")"
   ]
  },
  {
   "cell_type": "code",
   "execution_count": 15,
   "id": "28e624f1-c326-4c1e-9d07-cc2364737595",
   "metadata": {},
   "outputs": [],
   "source": [
    "from transformers import TrainingArguments, Trainer\n",
    "training_args = TrainingArguments(output_dir=\"test_trainer\",  evaluation_strategy=\"epoch\")"
   ]
  },
  {
   "cell_type": "code",
   "execution_count": 16,
   "id": "1b623bd3-6deb-4980-aa13-1551c35e9c7e",
   "metadata": {},
   "outputs": [],
   "source": [
    "import numpy as np\n",
    "import evaluate\n",
    "\n",
    "metric = evaluate.load(\"accuracy\")\n",
    "def compute_metrics(eval_pred):\n",
    "    logits, labels = eval_pred\n",
    "    predictions = np.argmax(logits, axis=-1)\n",
    "    return metric.compute(predictions=predictions, references=labels)"
   ]
  },
  {
   "cell_type": "code",
   "execution_count": 17,
   "id": "343f7b57-a1b1-46ce-ac5f-433494d8a3cd",
   "metadata": {},
   "outputs": [],
   "source": [
    "trainer = Trainer(\n",
    "    model=model,\n",
    "    args=training_args,\n",
    "    train_dataset=dataset_enc[\"train\"],\n",
    "    eval_dataset=dataset_enc[\"test\"],\n",
    "    compute_metrics=compute_metrics,\n",
    ")"
   ]
  },
  {
   "cell_type": "code",
   "execution_count": 49,
   "id": "400a06b1-0c93-48b2-b61f-0d30c9d266da",
   "metadata": {},
   "outputs": [],
   "source": [
    "import json\n",
    "from bs4 import BeautifulSoup\n",
    "import requests\n",
    "import lxml.html as lx\n",
    "import pandas as pd"
   ]
  },
  {
   "cell_type": "code",
   "execution_count": 50,
   "id": "dd217e8d-0dee-43cb-9ab4-f41fe4a4d0fe",
   "metadata": {},
   "outputs": [],
   "source": [
    "url = \"https://www.foxnews.com/politics/ahead-biden-state-union-address-country-dissatisfied-multiple-crises\"\n",
    "response = requests.get(url)"
   ]
  },
  {
   "cell_type": "code",
   "execution_count": 51,
   "id": "6601b329-971c-43d9-af97-2c67ff594d12",
   "metadata": {},
   "outputs": [
    {
     "data": {
      "text/plain": [
       "<bound method Response.raise_for_status of <Response [200]>>"
      ]
     },
     "execution_count": 51,
     "metadata": {},
     "output_type": "execute_result"
    }
   ],
   "source": [
    "response.raise_for_status"
   ]
  },
  {
   "cell_type": "code",
   "execution_count": 52,
   "id": "8b85eedb-89b7-4bc6-98e9-328121ed7e5e",
   "metadata": {},
   "outputs": [
    {
     "data": {
      "text/plain": [
       "<Response [200]>"
      ]
     },
     "execution_count": 52,
     "metadata": {},
     "output_type": "execute_result"
    }
   ],
   "source": [
    "response"
   ]
  },
  {
   "cell_type": "code",
   "execution_count": 53,
   "id": "1ee211fb-39ac-443b-ab3c-36342e8adfa6",
   "metadata": {},
   "outputs": [],
   "source": [
    "text = response.text\n",
    "#text"
   ]
  },
  {
   "cell_type": "code",
   "execution_count": 54,
   "id": "5206e227-10e6-4220-b654-fd4ecb3b74fb",
   "metadata": {},
   "outputs": [
    {
     "data": {
      "text/plain": [
       "'Ahead of Biden State of the Union address, country dissatisfied with state of the union after multiple crises'"
      ]
     },
     "execution_count": 54,
     "metadata": {},
     "output_type": "execute_result"
    }
   ],
   "source": [
    "soup = BeautifulSoup(response.content, \"html.parser\")\n",
    "headline = soup.find_all(class_ = \"headline\")[0]\n",
    "headline = str(headline)\n",
    "headline_clean = headline.replace('<h1 class=\"headline\">',\"\").replace(\"</h1>\",\"\")\n",
    "headline_clean"
   ]
  },
  {
   "cell_type": "code",
   "execution_count": 55,
   "id": "1abbcacf-9eae-4ecc-bf56-3bc163daad92",
   "metadata": {},
   "outputs": [],
   "source": [
    "#text2 = soup.find_all(class_= \"article-body\")\n"
   ]
  },
  {
   "cell_type": "code",
   "execution_count": 56,
   "id": "2d0cdb58-10ab-4549-9622-23a29112a50c",
   "metadata": {},
   "outputs": [
    {
     "data": {
      "text/plain": [
       "<Element html at 0x23e04d3f540>"
      ]
     },
     "execution_count": 56,
     "metadata": {},
     "output_type": "execute_result"
    }
   ],
   "source": [
    "html = lx.fromstring(response.text)\n",
    "html"
   ]
  },
  {
   "cell_type": "code",
   "execution_count": 57,
   "id": "139944a5-3010-4cfa-8ff9-5fb8a442c30a",
   "metadata": {},
   "outputs": [],
   "source": [
    "string = html.xpath('//p')"
   ]
  },
  {
   "cell_type": "code",
   "execution_count": 58,
   "id": "a11dcdc5-1324-4b48-ad62-abed4cbd88a5",
   "metadata": {},
   "outputs": [
    {
     "data": {
      "text/plain": [
       "32"
      ]
     },
     "execution_count": 58,
     "metadata": {},
     "output_type": "execute_result"
    }
   ],
   "source": [
    "len(string)\n"
   ]
  },
  {
   "cell_type": "code",
   "execution_count": 59,
   "id": "347fde32-9ceb-4252-9057-1b2d729f2248",
   "metadata": {},
   "outputs": [],
   "source": [
    "lst  = []   \n",
    "for i in range(0, len(string)):\n",
    "    article_part = html.xpath('//p')[i].text_content()\n",
    "    article_part = str(article_part)\n",
    "    article_part = article_part.replace(\"\\n \",\"\").replace(\"  \", \"\").replace(\"\\'\" , \" \").replace(\"\\xa0\",\"\").replace(\"This material may not be published, broadcast, rewritten, or redistributed. ©2023 FOX News Network, LLC. All rights reserved. Quotes displayed in real-time or delayed by at least 15 minutes. Market data provided by Factset. Powered and implemented by FactSet Digital Solutions.\",\"\").replace(\"©2023 FOX News Network, LLC. All rights reserved. Quotes displayed in real-time or delayed by at least 15 minutes. Market data provided by Factset. Powered and implemented by FactSet Digital Solutions. Legal Statement. Mutual Fund and ETF data provided by Refinitiv Lipper.\",\"\")\n",
    "    lst.append(article_part)           "
   ]
  },
  {
   "cell_type": "code",
   "execution_count": 12,
   "id": "9f16c177-763e-4024-bfcb-5469ac46a13c",
   "metadata": {},
   "outputs": [],
   "source": [
    "#lst"
   ]
  },
  {
   "cell_type": "code",
   "execution_count": 60,
   "id": "58bb6387-4fcd-44ef-bdb1-57400b48ef7a",
   "metadata": {},
   "outputs": [
    {
     "data": {
      "text/plain": [
       "'  Legal Statement. Mutual Fund and ETF data provided by Refinitiv Lipper. Former House Speaker Newt Gingrich joins  Fox & Friends  to discuss President Biden s political future and performance in office ahead of his State of the Union Address.President Biden will have a tough audience among the American people on Tuesday night when he delivers the annual State of the Union address.Speaking from the Capitol, Biden is expected to make the case to the American people in his second State of the Union speech that the country is in a strong and prosperous position now and moving forward.New polling finds that high percentages of the American people feel financially worse off since Biden took office and are unhappy with the direction of the country, highlighting a general pessimism among the population that s been in place for months.President Joe Biden pauses as he listens to a question during a news conference at the White House, March 25, 2021. (AP Photo/Evan Vucci) FOX NEWS POLL: STATE OF THE UNION IS DYSFUNCTION, DISSATISFACTION AND DISAPPROVALOnly 4 in 10 Americans say the state of the union is strong, according to a new Monmouth University poll out Monday. Just 7% call it \"very strong\" while 32% say the country is in a \"somewhat strong\" state. Meanwhile, 32% deem the union \"not too strong\" and 26% say it s \"not at all strong.\"The number of Americans who feel the state of the union is at least somewhat strong has steadily declined over the past five years, from 55% in 2018 to 39% in the latest survey.The Monmouth poll is hardly alone. According to a recent Marist poll, more than 60% of people think the state of the union isn t strong — including 72% of independents.To make matters worse for Biden s speech, Monmouth also found that an overwhelming majority of Americans, 73%, think the country is on the wrong track, compared to just 24% who feel the U.S. is headed in the right direction.A recent NBC News poll similarly found that 71% of Americans say the country is headed in the wrong direction. Dating back to September, NBC News surveys have repeatedly shown each month that no less than 68% of people think the country is on the wrong track — an unprecedented level of sustained pessimism in the poll s 30-year history.73% of voters disapprove of how Democrats are handling inflation. (istock)AS BIDEN TOUTS US ECONOMY, AMERICANS STRUGGLING TO MAKE CAR PAYMENTSLast year, polling consistently found that more than 70% or even 80% of the country saw the U.S. as being on the wrong track and as little as 10% expressing satisfaction with its direction.To add to Biden s uphill climb Tuesday night, a striking 4 in 10 Americans say they ve gotten worse off financially since Biden became president, according to a new ABC News/Washington Post poll. That s the highest amount in the poll s 37-year history.Several polls over the last year have similarly shown a strong plurality or even a majority of Americans saying they re financially worse off under Biden.A likely cause of such economic distress is inflation, which continues to eat away at household income and drive persistent public disapproval in Biden s handling of the economy.President Joe Biden takes part in a virtual meeting during his trip to Jerusalem, on July 14, 2022. (Mandel Ngan/AFP via Getty Images)BIDEN BATTERED BY CRISES SINCE LAST STATE OF THE UNIONThis wave of unfavorable polling comes as Biden s already being battered by a series of domestic and foreign policy crises since declaring the state of the union to be strong during last year s address.Nonetheless, Tuesday night will offer Biden an opportunity to persuade the American people that their pessimism is misplaced. The State of the Union address will also allow the president to make an early pitch for re-election, should he decide to run again in 2024.However, that too may be a tough pitch — even among his own base.Indeed, a striking 62% of Democrats don t want Biden to run for re-election, compared to just 37% who want to see him seek a second term, according to a new Associated Press/NORC Center for Public Affairs Research poll.CLICK HERE TO GET THE FOX NEWS APPThe new survey came one day after the ABC News/Washington Post poll found that by a 58-31% margin, Democrats want their party to nominate someone other than Biden to be their 2024 presidential nominee.The White House did not immediately respond to Fox News Digital s request for comment.Aaron Kliegman is a politics reporter for Fox News Digital.Get the latest updates from the 2024 campaign trail, exclusive interviews and more Fox News politics content.SubscribedYou ve successfully subscribed to this newsletter!  Legal Statement. Mutual Fund and ETF data provided by Refinitiv Lipper. '"
      ]
     },
     "execution_count": 60,
     "metadata": {},
     "output_type": "execute_result"
    }
   ],
   "source": [
    "article_full = \"\".join(lst)\n",
    "article_full"
   ]
  },
  {
   "cell_type": "code",
   "execution_count": 62,
   "id": "59c2c061-12d4-4ce5-80a9-da60a020c021",
   "metadata": {},
   "outputs": [
    {
     "data": {
      "text/plain": [
       "<bound method Response.raise_for_status of <Response [200]>>"
      ]
     },
     "execution_count": 62,
     "metadata": {},
     "output_type": "execute_result"
    }
   ],
   "source": [
    "response = requests.get(\"https://www.foxnews.com/politics\")\n",
    "response.raise_for_status"
   ]
  },
  {
   "cell_type": "code",
   "execution_count": 17,
   "id": "87480ebe-4dbd-4cc9-9d5c-c5f3d8e949aa",
   "metadata": {},
   "outputs": [],
   "source": [
    "#response.text"
   ]
  },
  {
   "cell_type": "code",
   "execution_count": 63,
   "id": "16bfda74-5e45-440a-90e7-e184b56cb8ad",
   "metadata": {},
   "outputs": [],
   "source": [
    "html = lx.fromstring(response.text)\n",
    "lst_links = html.xpath('//h4/a/@href')\n",
    "for i in range(0,len(lst_links)):\n",
    "    if '/politics/' not in  lst_links[i]:\n",
    "        lst_links[i] = ''\n",
    "    else:\n",
    "        continue\n",
    "\n"
   ]
  },
  {
   "cell_type": "code",
   "execution_count": 64,
   "id": "8b77ee4b-ca18-407b-a0b3-12ef6de144e3",
   "metadata": {},
   "outputs": [
    {
     "data": {
      "text/plain": [
       "['/politics/missouri-rep-cori-bush-democrat-marries-campaign-security-guard-reports',\n",
       " '/politics/spending-shock-cbo-debt-projection-stuns-washington',\n",
       " '/politics/rashida-tlaib-squad-linked-committees-pushed-large-sums-anti-israel-activists-consulting-firm',\n",
       " '/politics/paul-ryan-will-skip-rnc-trump-wins-2024-nomination',\n",
       " '/politics/spending-shock-cbo-debt-projection-stuns-washington',\n",
       " '/politics/ny-gov-hochuls-controversial-housing-tax-proposals-have-some-democrats-on-edge-extinction-level-events',\n",
       " '/politics/virginia-fairfax-county-school-board-member-history-controversy-battle-iwo-jima-evil',\n",
       " '/politics/republicans-erupt-energy-dept-reportedly-says-covid-19-likely-came-chinese-lab-need-answers',\n",
       " '/politics/rashida-tlaib-squad-linked-committees-pushed-large-sums-anti-israel-activists-consulting-firm',\n",
       " '/politics/virginia-gov-youngkin-rings-death-knell-ccp-buying-american-land',\n",
       " '/politics/trump-will-have-make-loyalty-pledge-join-rnc-debate-stage-ronna-mcdaniel-says',\n",
       " '/politics/dem-senator-calls-consequences-china-supplies-russia-weapons-fight-ukraine',\n",
       " '/politics/one-year-russian-invasion-condoleezza-rice-warns-against-saying-time-ukrainian-side',\n",
       " '/politics/sullivan-wont-say-whether-us-will-back-ukraine-retaking-crimea',\n",
       " '/politics/dark-money-group-pushing-gas-stove-crackdown-significant-financial-stake-green-energy',\n",
       " '/politics/border-patrol-union-white-house-propagandists-not-telling-full-story-crisis-doesnt-come',\n",
       " '/politics/jill-biden-encourages-safe-sex-condoms-kenya-trip']"
      ]
     },
     "execution_count": 64,
     "metadata": {},
     "output_type": "execute_result"
    }
   ],
   "source": [
    "for j in lst_links[:]:\n",
    "    if j == '':\n",
    "        lst_links.remove(j)\n",
    "lst_links"
   ]
  },
  {
   "cell_type": "code",
   "execution_count": 117,
   "id": "1353d54e-1882-4eba-99de-a128dc6780b5",
   "metadata": {},
   "outputs": [
    {
     "data": {
      "text/plain": [
       "<bound method Response.raise_for_status of <Response [200]>>"
      ]
     },
     "execution_count": 117,
     "metadata": {},
     "output_type": "execute_result"
    }
   ],
   "source": [
    "url = \"https://www.foxnews.com/api/article-search?searchBy=categories&values=fox-news%2Fpolitics&size=1005&from=1005&mediaTags=primary_politics\"\n",
    "response = requests.get(url)\n",
    "response.raise_for_status"
   ]
  },
  {
   "cell_type": "code",
   "execution_count": 118,
   "id": "a1f62cb5-d56e-49cc-be2d-e242639cae37",
   "metadata": {},
   "outputs": [
    {
     "data": {
      "text/plain": [
       "[{'imageUrl': 'https://a57.foxnews.com/static.foxnews.com/foxnews.com/content/uploads/2021/06/348/196/AP21152532625069.jpg?ve=1&tl=1',\n",
       "  'title': \"Rep. Nancy Mace slams Mary Trump for 'racist AF tweet' about Nikki Haley\",\n",
       "  'description': \"Rep. Nancy Mace, R-S.C., on Wednesday lambasted former President Donald Trump's niece, Mary Trump, for what she described as a racist tweet about 2024 presidential candidate Nikki Haley.\",\n",
       "  'url': '/politics/nancy-mace-slams-mary-trump-racist-tweet-nikki-haley',\n",
       "  'publicationDate': '2023-02-15T15:02:17-05:00',\n",
       "  'lastPublishedDate': '2023-02-15T15:02:17-05:00',\n",
       "  'category': {'name': 'Nikki Haley', 'url': '/category/person/nikki-haley'},\n",
       "  'isBreaking': False,\n",
       "  'isLive': False,\n",
       "  'duration': '',\n",
       "  'authors': [{'name': 'Aaron Kliegman'}]},\n",
       " {'imageUrl': 'https://a57.foxnews.com/static.foxnews.com/foxnews.com/content/uploads/2021/08/348/196/jim-jordan.jpg?ve=1&tl=1',\n",
       "  'title': \"Jordan subpoenas Big Tech CEOs for records on 'collusion' with Biden admin to 'suppress free speech'\",\n",
       "  'description': 'House Judiciary Committee Chairman Jim Jordan subpoenaed the chief executive officers of Google, Amazon, Facebook and more for documents on “collusion” with Big Tech companies.',\n",
       "  'url': '/politics/jordan-subpoenas-big-tech-ceos-records-collusion-biden-admin-suppress-free-speech',\n",
       "  'publicationDate': '2023-02-15T14:42:53-05:00',\n",
       "  'lastPublishedDate': '2023-02-15T14:42:53-05:00',\n",
       "  'category': {'name': 'Jim Jordan', 'url': '/category/person/jim-jordan'},\n",
       "  'isBreaking': False,\n",
       "  'isLive': False,\n",
       "  'duration': '',\n",
       "  'authors': [{'name': 'Brooke Singman'}]},\n",
       " {'imageUrl': 'https://a57.foxnews.com/static.foxnews.com/foxnews.com/content/uploads/2021/10/348/196/pete-buttigieg.png?ve=1&tl=1',\n",
       "  'title': \"Pete Buttigieg blames Trump for Ohio train derailment amid criticism: 'We're constrained'\",\n",
       "  'description': 'Transportation Secretary Pete Buttigieg partially blamed the recent derailment of a train carrying toxic chemicals on the Trump administration reversing a safety rule.',\n",
       "  'url': '/politics/pete-buttigieg-blames-trump-ohio-train-derailment-were-constrained',\n",
       "  'publicationDate': '2023-02-15T14:41:08-05:00',\n",
       "  'lastPublishedDate': '2023-02-15T14:41:08-05:00',\n",
       "  'category': {'name': 'Pete Buttigieg',\n",
       "   'url': '/category/person/pete-buttigieg'},\n",
       "  'isBreaking': False,\n",
       "  'isLive': False,\n",
       "  'duration': '',\n",
       "  'authors': [{'name': 'Thomas Catenacci'}]},\n",
       " {'imageUrl': 'https://a57.foxnews.com/static.foxnews.com/foxnews.com/content/uploads/2022/06/348/196/ALL_CUSTOM_FS_LOCAL_NEWS_GA_GENERAL.png?ve=1&tl=1',\n",
       "  'title': 'Georgia senators advance bill to restrict vaping in public spaces',\n",
       "  'description': \"Senators in Georgia have advanced a bill that will restrict vaping in public spaces. The bill states that vaping will go under Georgia's 2005 Smokefree Air Act.\",\n",
       "  'url': '/politics/georgia-senators-advance-bill-restrict-vaping-public-spaces',\n",
       "  'publicationDate': '2023-02-15T14:31:11-05:00',\n",
       "  'lastPublishedDate': '2023-02-15T14:31:11-05:00',\n",
       "  'category': {'name': 'Georgia',\n",
       "   'url': '/category/us/us-regions/southeast/georgia'},\n",
       "  'isBreaking': False,\n",
       "  'isLive': False,\n",
       "  'duration': '',\n",
       "  'authors': []},\n",
       " {'imageUrl': 'https://a57.foxnews.com/static.foxnews.com/foxnews.com/content/uploads/2020/03/348/196/US-Russia-jets-intercepted3.jpg?ve=1&tl=1',\n",
       "  'title': 'NORAD conducts air defense exercise days after Russian aircraft intercepted over Alaska, objects shot down',\n",
       "  'description': 'The North American Aerospace Defense Command, which intercepted four Russian aircraft on Monday, said Wednesday it is holding a planned “air defense” exercise.',\n",
       "  'url': '/politics/norad-conducts-air-defense-exercise-days-russian-aircraft-intercepted-alaska-objects-shot-down',\n",
       "  'publicationDate': '2023-02-15T14:12:27-05:00',\n",
       "  'lastPublishedDate': '2023-02-15T14:12:27-05:00',\n",
       "  'category': {'name': 'MILITARY', 'url': '/category/us/military'},\n",
       "  'isBreaking': False,\n",
       "  'isLive': False,\n",
       "  'duration': '',\n",
       "  'authors': [{'name': 'Greg Norman'}]},\n",
       " {'imageUrl': 'https://a57.foxnews.com/static.foxnews.com/foxnews.com/content/uploads/2023/02/348/196/GettyImages-1247163443.jpg?ve=1&tl=1',\n",
       "  'title': \"Nikki Haley targets Biden administration during 2024 campaign launch: 'Not leading at all'\",\n",
       "  'description': 'Nikki Haley took aim at President Biden, who she said is \"not leading at all,\" during a 2024 campaign event in South Carolina on Wednesday.',\n",
       "  'url': '/politics/nikki-haley-targets-biden-administration-during-2024-campaign-launch-not-leading',\n",
       "  'publicationDate': '2023-02-15T13:59:42-05:00',\n",
       "  'lastPublishedDate': '2023-02-15T13:59:42-05:00',\n",
       "  'category': {'name': 'Nikki Haley', 'url': '/category/person/nikki-haley'},\n",
       "  'isBreaking': False,\n",
       "  'isLive': False,\n",
       "  'duration': '',\n",
       "  'authors': [{'name': 'Kyle Morris'}]},\n",
       " {'imageUrl': 'https://a57.foxnews.com/static.foxnews.com/foxnews.com/content/uploads/2022/06/348/196/ALL_CUSTOM_FS_LOCAL_NEWS_KY_GENERAL.png?ve=1&tl=1',\n",
       "  'title': 'KY Senate advances bill to track relief funds after tornado aid went to people unaffected by the disaster',\n",
       "  'description': 'The Kentucky Senate is advancing a bill that calls for annual reports to track relief funds. The measure was created after tornado aid went to residents who were not affected.',\n",
       "  'url': '/politics/ky-senate-advances-bill-track-relief-funds-tornado-aid-people-unaffected-disaster',\n",
       "  'publicationDate': '2023-02-15T13:49:34-05:00',\n",
       "  'lastPublishedDate': '2023-02-15T13:49:34-05:00',\n",
       "  'category': {'name': 'Kentucky',\n",
       "   'url': '/category/us/us-regions/southeast/kentucky'},\n",
       "  'isBreaking': False,\n",
       "  'isLive': False,\n",
       "  'duration': '',\n",
       "  'authors': []},\n",
       " {'imageUrl': 'https://a57.foxnews.com/static.foxnews.com/foxnews.com/content/uploads/2023/02/348/196/GettyImages-1189431462.jpg?ve=1&tl=1',\n",
       "  'title': \"Otto Warmbier's mother endorses Nikki Haley for president in heartfelt speech\",\n",
       "  'description': \"Cindy Warmbier, the mother of Otto Warmbier, endorsed former South Carolina Gov. Nikki Haley's 2024 presidential run in a heartfelt speech on Wednesday.\",\n",
       "  'url': '/politics/otto-warmbiers-mother-endorses-nikki-haley-president-heartfelt-speech',\n",
       "  'publicationDate': '2023-02-15T13:48:34-05:00',\n",
       "  'lastPublishedDate': '2023-02-15T13:48:34-05:00',\n",
       "  'category': {'name': 'Nikki Haley', 'url': '/category/person/nikki-haley'},\n",
       "  'isBreaking': False,\n",
       "  'isLive': False,\n",
       "  'duration': '',\n",
       "  'authors': [{'name': 'Anders Hagstrom'}]},\n",
       " {'imageUrl': 'https://a57.foxnews.com/static.foxnews.com/foxnews.com/content/uploads/2021/04/348/196/Gaetz-Ginger-Luckey-GETTY.jpg?ve=1&tl=1',\n",
       "  'title': \"DOJ won't charge Matt Gaetz with crimes in sex trafficking probe\",\n",
       "  'description': 'The Justice Department will not charge Rep. Matt Gaetz, R-Fla., after a yearslong probe into sex trafficking allegations.',\n",
       "  'url': '/politics/doj-wont-charge-matt-gaetz-with-crimes-sex-trafficking-probe',\n",
       "  'publicationDate': '2023-02-15T13:11:27-05:00',\n",
       "  'lastPublishedDate': '2023-02-15T13:11:27-05:00',\n",
       "  'category': {'name': 'Justice Department',\n",
       "   'url': '/category/politics/justice-department'},\n",
       "  'isBreaking': False,\n",
       "  'isLive': False,\n",
       "  'duration': '',\n",
       "  'authors': [{'name': 'Brianna Herlihy'}]},\n",
       " {'imageUrl': 'https://a57.foxnews.com/static.foxnews.com/foxnews.com/content/uploads/2023/01/348/196/mccarthy-Monday.jpg?ve=1&tl=1',\n",
       "  'title': 'House, Senate Republicans battle over possible defense cuts in effort to curb spending',\n",
       "  'description': 'Republicans in the House and Senate have been split over whether or not the defense budget should be on the table as they look for ways to rein in federal spending.',\n",
       "  'url': '/politics/house-senate-republicans-battle-possible-defense-cuts-effort-curb-spending',\n",
       "  'publicationDate': '2023-02-15T13:09:57-05:00',\n",
       "  'lastPublishedDate': '2023-02-15T13:09:57-05:00',\n",
       "  'category': {'name': 'Republicans',\n",
       "   'url': '/category/politics/house-of-representatives/republicans'},\n",
       "  'isBreaking': False,\n",
       "  'isLive': False,\n",
       "  'duration': '',\n",
       "  'authors': [{'name': 'Ronn Blitzer'}]},\n",
       " {'imageUrl': 'https://a57.foxnews.com/cf-images.us-east-1.prod.boltdns.net/v1/static/694940094001/aafd0903-597d-46ea-9a4e-d516b2c94e9c/67415900-9e40-4921-b1a3-3bd24fa390d4/1280x720/match/348/196/image.jpg?ve=1&tl=1',\n",
       "  'title': \"Kayleigh McEnany on 2024: Ron DeSantis should 'get in now'\",\n",
       "  'description': \"'Outnumbered' panelists discuss the possible pool of 2024 Republicans after Nikki Haley officially launched her presidential campaign.\\xa0\",\n",
       "  'url': 'https://www.foxnews.com/video/6320484733112',\n",
       "  'publicationDate': '2023-02-15T18:04:41Z',\n",
       "  'lastPublishedDate': '2023-02-15T18:04:41Z',\n",
       "  'category': {'name': 'VIDEO', 'url': ''},\n",
       "  'isBreaking': False,\n",
       "  'duration': '0:10:31',\n",
       "  'authors': []},\n",
       " {'imageUrl': 'https://a57.foxnews.com/static.foxnews.com/foxnews.com/content/uploads/2022/06/348/196/ALL_CUSTOM_FS_LOCAL_NEWS_NE_GENERAL.png?ve=1&tl=1',\n",
       "  'title': 'Nebraska Department of Agriculture names Shery Vinton as new director, becomes first woman to head the agency',\n",
       "  'description': 'The new director of the Nebraska Department of Agriculture is Sherry Vinton. She is the first woman to head the agency after being appointed by Gov. Jim Pillen.',\n",
       "  'url': '/politics/nebraska-department-agriculture-names-shery-vinton-new-director-becomes-first-woman-head-agency',\n",
       "  'publicationDate': '2023-02-15T12:50:48-05:00',\n",
       "  'lastPublishedDate': '2023-02-15T12:50:48-05:00',\n",
       "  'category': {'name': 'Nebraska',\n",
       "   'url': '/category/us/us-regions/midwest/nebraska'},\n",
       "  'isBreaking': False,\n",
       "  'isLive': False,\n",
       "  'duration': '',\n",
       "  'authors': []},\n",
       " {'imageUrl': 'https://a57.foxnews.com/static.foxnews.com/foxnews.com/content/uploads/2022/07/348/196/Supreme-Court-Justice-Clarence-Thomas.jpg?ve=1&tl=1',\n",
       "  'title': \"Dem compares Clarence Thomas to an 'Uncle Tom' as Georgia Senate approves statue of SCOTUS justice\",\n",
       "  'description': 'The Georgia Senate approved a proposal to install a statue of Supreme Court Justice Clarence Thomas at the Georgia state Capitol, triggering backlash from Democrats.',\n",
       "  'url': '/politics/dem-compares-clarence-thomas-uncle-tom-georgia-senate-approves-statue',\n",
       "  'publicationDate': '2023-02-15T12:49:44-05:00',\n",
       "  'lastPublishedDate': '2023-02-15T12:49:44-05:00',\n",
       "  'category': {'name': 'Supreme Court',\n",
       "   'url': '/category/politics/judiciary/supreme-court'},\n",
       "  'isBreaking': False,\n",
       "  'isLive': False,\n",
       "  'duration': '',\n",
       "  'authors': [{'name': 'Aaron Kliegman'}]},\n",
       " {'imageUrl': 'https://a57.foxnews.com/cf-images.us-east-1.prod.boltdns.net/v1/static/694940094001/5cba212b-56e2-445e-bb3c-17b517718101/8a9def67-2d65-45f4-afda-0903a63946d1/1280x720/match/348/196/image.jpg?ve=1&tl=1',\n",
       "  'title': 'Cindy Warmbier endorses Nikki Haley for president in 2024',\n",
       "  'description': \"Cindy Warmbier, the mother of Otto Warmbier, endorses Nikki Haley's 2024 presidential run\",\n",
       "  'url': 'https://www.foxnews.com/video/6320486593112',\n",
       "  'publicationDate': '2023-02-15T17:45:41Z',\n",
       "  'lastPublishedDate': '2023-02-15T17:45:41Z',\n",
       "  'category': {'name': 'VIDEO', 'url': ''},\n",
       "  'isBreaking': False,\n",
       "  'duration': '0:05:17',\n",
       "  'authors': []},\n",
       " {'imageUrl': 'https://a57.foxnews.com/static.foxnews.com/foxnews.com/content/uploads/2022/06/348/196/ALL_CUSTOM_FS_LOCAL_NEWS_NC_GENERAL.png?ve=1&tl=1',\n",
       "  'title': 'NC bill that requires high school students to pass a computer science class advances in Legislature',\n",
       "  'description': 'A North Carolina House committee has approved legislation that would mandate high schoolers to pass a computer science class starting in fall 2024.',\n",
       "  'url': '/politics/nc-bill-requires-high-school-students-pass-computer-science-class-advances-legislature',\n",
       "  'publicationDate': '2023-02-15T12:44:42-05:00',\n",
       "  'lastPublishedDate': '2023-02-15T12:44:42-05:00',\n",
       "  'category': {'name': 'North Carolina',\n",
       "   'url': '/category/us/us-regions/southeast/north-carolina'},\n",
       "  'isBreaking': False,\n",
       "  'isLive': False,\n",
       "  'duration': '',\n",
       "  'authors': []},\n",
       " {'imageUrl': 'https://a57.foxnews.com/static.foxnews.com/foxnews.com/content/uploads/2023/02/348/196/Tony-evers-wisconsin.jpg?ve=1&tl=1',\n",
       "  'title': \"Wisconsin Gov. Tony Evers' budget proposal will include tax cuts, plan to keep the Brewers in their stadium\",\n",
       "  'description': 'Tony Evers will announce a budget proposal that is expected to include a plan to keep the Brewers in their stadium for 20 more years. It will also address tax cuts for the middle class.',\n",
       "  'url': '/politics/wisconsin-gov-tony-evers-budget-proposal-include-tax-cuts-plan-keep-brewers-stadium',\n",
       "  'publicationDate': '2023-02-15T12:40:55-05:00',\n",
       "  'lastPublishedDate': '2023-02-15T12:40:55-05:00',\n",
       "  'category': {'name': 'Wisconsin',\n",
       "   'url': '/category/us/us-regions/midwest/wisconsin'},\n",
       "  'isBreaking': False,\n",
       "  'isLive': False,\n",
       "  'duration': '',\n",
       "  'authors': []},\n",
       " {'imageUrl': 'https://a57.foxnews.com/cf-images.us-east-1.prod.boltdns.net/v1/static/694940094001/d34e6273-6cc0-4b5c-a011-aa7c3e0d5582/2cf969f4-e7c2-4018-a507-bec48240b3e0/1280x720/match/348/196/image.jpg?ve=1&tl=1',\n",
       "  'title': \"Kellyanne Conway: Nikki Haley 'played Hamlet' about her potential support of Trump in 2024\",\n",
       "  'description': \"Fox News contributor Kellyanne Conway joined 'The Faulkner Focus' to discuss Haley's bid for the White House and what she perceives to be challenges associated with her campaign.\\xa0\",\n",
       "  'url': 'https://www.foxnews.com/video/6320481416112',\n",
       "  'publicationDate': '2023-02-15T17:21:25Z',\n",
       "  'lastPublishedDate': '2023-02-15T17:21:25Z',\n",
       "  'category': {'name': 'VIDEO', 'url': ''},\n",
       "  'isBreaking': False,\n",
       "  'duration': '0:08:41',\n",
       "  'authors': []},\n",
       " {'imageUrl': 'https://a57.foxnews.com/static.foxnews.com/foxnews.com/content/uploads/2022/06/348/196/ALL_CUSTOM_FS_LOCAL_NEWS_NM_GENERAL.png?ve=1&tl=1',\n",
       "  'title': 'NM Senate approves landmark bill that would create recurring funds for conservation projects',\n",
       "  'description': 'The New Mexico Senate has approved a bill described as a landmark conservation measure. The bill would create recurring funding for water and land projects.',\n",
       "  'url': '/politics/nm-senate-approves-landmark-bill-create-recurring-funds-conservation-projects',\n",
       "  'publicationDate': '2023-02-15T12:17:56-05:00',\n",
       "  'lastPublishedDate': '2023-02-15T12:17:56-05:00',\n",
       "  'category': {'name': 'New Mexico',\n",
       "   'url': '/category/us/us-regions/southwest/new-mexico'},\n",
       "  'isBreaking': False,\n",
       "  'isLive': False,\n",
       "  'duration': '',\n",
       "  'authors': []},\n",
       " {'imageUrl': 'https://a57.foxnews.com/static.foxnews.com/foxnews.com/content/uploads/2023/02/348/196/grassley.jpg?ve=1&tl=1',\n",
       "  'title': 'Grassley rips Senate’s sleepy work schedule under Dem leadership: ‘Things need to change’',\n",
       "  'description': \"Sen. Chuck Grassley on Wednesday criticized the Senate's work schedule and said working roughly a half a week each week isn't enough time to manage the government.\",\n",
       "  'url': '/politics/grassley-rips-senates-sleepy-work-schedule-under-dem-leadership-things-need-change',\n",
       "  'publicationDate': '2023-02-15T12:09:09-05:00',\n",
       "  'lastPublishedDate': '2023-02-15T12:09:09-05:00',\n",
       "  'category': {'name': 'Chuck Grassley',\n",
       "   'url': '/category/person/chuck-grassley'},\n",
       "  'isBreaking': False,\n",
       "  'isLive': False,\n",
       "  'duration': '',\n",
       "  'authors': [{'name': 'Peter Kasperowicz'}]},\n",
       " {'imageUrl': 'https://a57.foxnews.com/static.foxnews.com/foxnews.com/content/uploads/2018/09/348/196/offshore-wind-farm.jpg?ve=1&tl=1',\n",
       "  'title': 'Fossil fuel profits are vital for green energy projects Dems routinely tout',\n",
       "  'description': 'Oil and utility companies — which earn the vast majority of their profits from fossil fuel production, generation and sales — have invested billions of dollars in offshore wind.',\n",
       "  'url': '/politics/fossil-fuel-profits-vital-green-energy-projects-dems-routinely-tout',\n",
       "  'publicationDate': '2023-02-15T12:00:09-05:00',\n",
       "  'lastPublishedDate': '2023-02-15T12:00:09-05:00',\n",
       "  'category': {'name': 'Energy',\n",
       "   'url': '/category/science/planet-earth/energy'},\n",
       "  'isBreaking': False,\n",
       "  'isLive': False,\n",
       "  'duration': '',\n",
       "  'authors': [{'name': 'Thomas Catenacci'}]},\n",
       " {'imageUrl': 'https://a57.foxnews.com/static.foxnews.com/foxnews.com/content/uploads/2023/02/348/196/nikki-haley-SC-announcement_AP.jpg?ve=1&tl=1',\n",
       "  'title': 'Nikki Haley leaps into 2024 GOP presidential primary at packed campaign rally',\n",
       "  'description': 'Former South Carolina Gov. Nikki Haley formally kicks off her 2024 Republican presidential campaign, joining former President Donald Trump as the only major GOP contenders in the race',\n",
       "  'url': '/politics/nikki-haley-leaps-2024-gop-presidential-primary-campaign-rally',\n",
       "  'publicationDate': '2023-02-15T11:46:48-05:00',\n",
       "  'lastPublishedDate': '2023-02-15T11:46:48-05:00',\n",
       "  'category': {'name': 'Nikki Haley', 'url': '/category/person/nikki-haley'},\n",
       "  'isBreaking': False,\n",
       "  'isLive': False,\n",
       "  'duration': '',\n",
       "  'authors': [{'name': 'Paul Steinhauser'}, {'name': 'Thomas Phippen'}]},\n",
       " {'imageUrl': 'https://a57.foxnews.com/static.foxnews.com/foxnews.com/content/uploads/2022/12/348/196/GettyImages-1213155435.jpg?ve=1&tl=1',\n",
       "  'title': 'Space Force, Space Command pass the buck on UFOs as US airspace security questions swirl',\n",
       "  'description': 'NORAD and NORTHCOM have been taking the lead on information related to the UFOs, while involvement by U.S. space-focused military agencies is not clear.',\n",
       "  'url': '/politics/space-force-space-command-pass-buck-ufos-us-airspace-security-questions-swirl',\n",
       "  'publicationDate': '2023-02-15T11:27:23-05:00',\n",
       "  'lastPublishedDate': '2023-02-15T11:27:23-05:00',\n",
       "  'category': {'name': 'AIR AND SPACE',\n",
       "   'url': '/category/science/air-and-space'},\n",
       "  'isBreaking': False,\n",
       "  'isLive': False,\n",
       "  'duration': '',\n",
       "  'authors': [{'name': 'Kelly Laco'}]},\n",
       " {'imageUrl': 'https://a57.foxnews.com/static.foxnews.com/foxnews.com/content/uploads/2023/01/348/196/IMG_0502.png?ve=1&tl=1',\n",
       "  'title': 'National Archives apologizes to March for Life visitors, offers personal tour',\n",
       "  'description': 'The National Archives and Records Administration has reached a preliminary agreement with March for Live protesters who say they were told they could not wear clothes with pro-life messages at the National Archives Museum.',\n",
       "  'url': '/politics/national-archives-apologizes-march-for-life-visitors-offers-personal-tour',\n",
       "  'publicationDate': '2023-02-15T11:09:40-05:00',\n",
       "  'lastPublishedDate': '2023-02-15T11:09:40-05:00',\n",
       "  'category': {'name': 'Washington DC', 'url': '/category/us/washington-dc'},\n",
       "  'isBreaking': False,\n",
       "  'isLive': False,\n",
       "  'duration': '',\n",
       "  'authors': [{'name': 'Chris Pandolfo'}]},\n",
       " {'imageUrl': 'https://a57.foxnews.com/static.foxnews.com/foxnews.com/content/uploads/2023/01/348/196/close-gun.jpg?ve=1&tl=1',\n",
       "  'title': 'Iran may have gifted thousands of assault rifles to Ukraine: report',\n",
       "  'description': 'The U.S. may transfer thousands of assault rifles to Ukraine after the U.S. Navy confiscated the weapons and ammunition from Iranian smugglers on their way to Yemen.',\n",
       "  'url': '/politics/iran-may-gifted-thousands-assault-rifles-ukraine-report',\n",
       "  'publicationDate': '2023-02-15T10:50:09-05:00',\n",
       "  'lastPublishedDate': '2023-02-15T10:50:09-05:00',\n",
       "  'category': {'name': 'Ukraine', 'url': '/category/world/conflicts/ukraine'},\n",
       "  'isBreaking': False,\n",
       "  'isLive': False,\n",
       "  'duration': '',\n",
       "  'authors': [{'name': 'Anders Hagstrom'}]},\n",
       " {'imageUrl': 'https://a57.foxnews.com/static.foxnews.com/foxnews.com/content/uploads/2023/02/348/196/Dianne-Feinstein-California-Senator-Not-Running-Re-Election.jpg?ve=1&tl=1',\n",
       "  'title': 'FLASHBACK: Dianne Feinstein reminds Green New Deal kids they didn’t vote for her',\n",
       "  'description': \"California Democrat Dianne Feinstein's confrontation with school children protesters over the Green New Deal resurfaced amid the senator's retirement announcement.\",\n",
       "  'url': '/politics/flashback-dianne-feinstein-reminds-green-new-deal-kids-they-didnt-vote-for-her',\n",
       "  'publicationDate': '2023-02-15T10:45:25-05:00',\n",
       "  'lastPublishedDate': '2023-02-15T10:45:25-05:00',\n",
       "  'category': {'name': 'Politics', 'url': '/category/newsedge/politics'},\n",
       "  'isBreaking': False,\n",
       "  'isLive': False,\n",
       "  'duration': '',\n",
       "  'authors': [{'name': 'Houston Keene'}]},\n",
       " {'imageUrl': 'https://a57.foxnews.com/static.foxnews.com/foxnews.com/content/uploads/2023/02/348/196/phillipines-2.jpg?ve=1&tl=1',\n",
       "  'title': 'State Department vows US will defend Philippines if necessary after China ship blinds crew with military laser',\n",
       "  'description': 'The U.S. State Department said it would defend the Philippines if forces come under attack after a Chinese ship shined a laser at a Filipino vessel in the disputed South China Sea.',\n",
       "  'url': '/politics/state-department-vows-us-will-defend-philippines-necessary-china-ship-blinds-crew-military-laser',\n",
       "  'publicationDate': '2023-02-15T10:30:20-05:00',\n",
       "  'lastPublishedDate': '2023-02-15T10:30:20-05:00',\n",
       "  'category': {'name': 'China', 'url': '/category/world/world-regions/china'},\n",
       "  'isBreaking': False,\n",
       "  'isLive': False,\n",
       "  'duration': '',\n",
       "  'authors': [{'name': 'Danielle Wallace'}]},\n",
       " {'imageUrl': 'https://a57.foxnews.com/cf-images.us-east-1.prod.boltdns.net/v1/static/694940094001/76ee6892-07bd-42a2-a4a8-2bda73ba8d9a/0190e60d-67ba-4ac8-9dd3-11767ffcc976/1280x720/match/348/196/image.jpg?ve=1&tl=1',\n",
       "  'title': 'John Kennedy calls on Biden to address Americans over flying objects: ‘The cow is out of the barn’',\n",
       "  'description': 'Sen. John Kennedy, R-La., urges President Biden to speak to the American people on the four flying objects downed earlier this month and reacts to the transportation disaster in Ohio after a train carrying toxic chemicals derailed.',\n",
       "  'url': 'https://www.foxnews.com/video/6320471380112',\n",
       "  'publicationDate': '2023-02-15T15:21:50Z',\n",
       "  'lastPublishedDate': '2023-02-15T15:21:50Z',\n",
       "  'category': {'name': 'VIDEO', 'url': ''},\n",
       "  'isBreaking': False,\n",
       "  'duration': '0:05:07',\n",
       "  'authors': []},\n",
       " {'imageUrl': 'https://a57.foxnews.com/static.foxnews.com/foxnews.com/content/uploads/2023/01/348/196/Screen-Shot-2023-01-08-at-7.21.16-PM.png?ve=1&tl=1',\n",
       "  'title': 'Texas, GOP states seek preliminary injunction against Biden’s migrant parole program',\n",
       "  'description': \"20 GOP states and a top conservative legal group want an immediate block on President Biden's recent humanitarian program, arguing that it exceeds congressional limits.\",\n",
       "  'url': '/politics/texas-gop-states-seek-preliminary-injunction-against-bidens-migrant-parole-program',\n",
       "  'publicationDate': '2023-02-15T10:00:53-05:00',\n",
       "  'lastPublishedDate': '2023-02-15T10:00:53-05:00',\n",
       "  'category': {'name': 'Joe Biden', 'url': '/category/person/joe-biden'},\n",
       "  'isBreaking': False,\n",
       "  'isLive': False,\n",
       "  'duration': '',\n",
       "  'authors': [{'name': 'Adam Shaw'}]},\n",
       " {'imageUrl': 'https://a57.foxnews.com/static.foxnews.com/foxnews.com/content/uploads/2023/02/348/196/defense-secretary-lloyd-austin-nato.jpg?ve=1&tl=1',\n",
       "  'title': \"No new 'objects' reported in last 48 hours, Pentagon says\",\n",
       "  'description': 'The Pentagon on Wednesday said no more unidentified flying \"objects\" have been detected within U.S. airspace since the fourth such object was shot down on Feb. 12.',\n",
       "  'url': '/politics/no-new-objects-reported-last-48-hours-pentagon-says',\n",
       "  'publicationDate': '2023-02-15T09:37:38-05:00',\n",
       "  'lastPublishedDate': '2023-02-15T09:37:38-05:00',\n",
       "  'category': {'name': 'Secretary of Defense',\n",
       "   'url': '/category/politics/defense/secretary-of-defense'},\n",
       "  'isBreaking': False,\n",
       "  'isLive': False,\n",
       "  'duration': '',\n",
       "  'authors': [{'name': 'Chris Pandolfo'}]},\n",
       " {'imageUrl': 'https://a57.foxnews.com/cf-images.us-east-1.prod.boltdns.net/v1/static/694940094001/4df8bdd0-8083-414d-9bd9-1008d8538008/3e7ef2c4-80f5-452a-8a2a-3d80c834da38/1280x720/match/348/196/image.jpg?ve=1&tl=1',\n",
       "  'title': \"No new 'objects' reported in last 48 hours, Pentagon says\",\n",
       "  'description': 'Secretary of Defense Lloyd Austin on Wednesday said there have been no new \"objects\" reported in the last 48 hours.',\n",
       "  'url': 'https://www.foxnews.com/video/6320468042112',\n",
       "  'publicationDate': '2023-02-15T14:26:36Z',\n",
       "  'lastPublishedDate': '2023-02-15T14:26:36Z',\n",
       "  'category': {'name': 'VIDEO', 'url': ''},\n",
       "  'isBreaking': False,\n",
       "  'duration': '0:02:00',\n",
       "  'authors': []}]"
      ]
     },
     "execution_count": 118,
     "metadata": {},
     "output_type": "execute_result"
    }
   ],
   "source": [
    "y = json.loads(response.text)\n",
    "y"
   ]
  },
  {
   "cell_type": "code",
   "execution_count": 119,
   "id": "7aadfc10-3d88-4ea6-9f0e-6652c38f2a76",
   "metadata": {},
   "outputs": [
    {
     "data": {
      "text/plain": [
       "['/politics/nancy-mace-slams-mary-trump-racist-tweet-nikki-haley',\n",
       " '/politics/jordan-subpoenas-big-tech-ceos-records-collusion-biden-admin-suppress-free-speech',\n",
       " '/politics/pete-buttigieg-blames-trump-ohio-train-derailment-were-constrained',\n",
       " '/politics/georgia-senators-advance-bill-restrict-vaping-public-spaces',\n",
       " '/politics/norad-conducts-air-defense-exercise-days-russian-aircraft-intercepted-alaska-objects-shot-down',\n",
       " '/politics/nikki-haley-targets-biden-administration-during-2024-campaign-launch-not-leading',\n",
       " '/politics/ky-senate-advances-bill-track-relief-funds-tornado-aid-people-unaffected-disaster',\n",
       " '/politics/otto-warmbiers-mother-endorses-nikki-haley-president-heartfelt-speech',\n",
       " '/politics/doj-wont-charge-matt-gaetz-with-crimes-sex-trafficking-probe',\n",
       " '/politics/house-senate-republicans-battle-possible-defense-cuts-effort-curb-spending',\n",
       " '/politics/nebraska-department-agriculture-names-shery-vinton-new-director-becomes-first-woman-head-agency',\n",
       " '/politics/dem-compares-clarence-thomas-uncle-tom-georgia-senate-approves-statue',\n",
       " '/politics/nc-bill-requires-high-school-students-pass-computer-science-class-advances-legislature',\n",
       " '/politics/wisconsin-gov-tony-evers-budget-proposal-include-tax-cuts-plan-keep-brewers-stadium',\n",
       " '/politics/nm-senate-approves-landmark-bill-create-recurring-funds-conservation-projects',\n",
       " '/politics/grassley-rips-senates-sleepy-work-schedule-under-dem-leadership-things-need-change',\n",
       " '/politics/fossil-fuel-profits-vital-green-energy-projects-dems-routinely-tout',\n",
       " '/politics/nikki-haley-leaps-2024-gop-presidential-primary-campaign-rally',\n",
       " '/politics/space-force-space-command-pass-buck-ufos-us-airspace-security-questions-swirl',\n",
       " '/politics/national-archives-apologizes-march-for-life-visitors-offers-personal-tour',\n",
       " '/politics/iran-may-gifted-thousands-assault-rifles-ukraine-report',\n",
       " '/politics/flashback-dianne-feinstein-reminds-green-new-deal-kids-they-didnt-vote-for-her',\n",
       " '/politics/state-department-vows-us-will-defend-philippines-necessary-china-ship-blinds-crew-military-laser',\n",
       " '/politics/texas-gop-states-seek-preliminary-injunction-against-bidens-migrant-parole-program',\n",
       " '/politics/no-new-objects-reported-last-48-hours-pentagon-says']"
      ]
     },
     "execution_count": 119,
     "metadata": {},
     "output_type": "execute_result"
    }
   ],
   "source": [
    "\n",
    "lst_url = []\n",
    "for i in range(0,len(y)):\n",
    "    if \"https://www.foxnews.com/video/\" not in y[i]['url']:\n",
    "        lst_url.append(y[i]['url'])\n",
    "lst_url\n",
    "\n"
   ]
  },
  {
   "cell_type": "code",
   "execution_count": 120,
   "id": "d031f6df-910c-46a3-b0a7-5a62cebe99fc",
   "metadata": {},
   "outputs": [],
   "source": [
    "def get_title(url):\n",
    "    find = \"https://www.foxnews.com\" + url\n",
    "    response = requests.get(find)\n",
    "    text = response.text\n",
    "    soup = BeautifulSoup(response.content, \"html.parser\")\n",
    "    headline = soup.find_all(class_ = \"headline\")[0]\n",
    "    headline = str(headline)\n",
    "    headline_clean = headline.replace('<h1 class=\"headline\">',\"\").replace(\"</h1>\",\"\")\n",
    "    return headline_clean\n",
    "    "
   ]
  },
  {
   "cell_type": "code",
   "execution_count": 121,
   "id": "29366555-a40e-4f82-8764-b8b34bf4caeb",
   "metadata": {},
   "outputs": [],
   "source": [
    "def get_body(url):\n",
    "    find = \"https://www.foxnews.com\" + url\n",
    "    response = requests.get(find)\n",
    "    html = lx.fromstring(response.text)\n",
    "    string = html.xpath('//p')\n",
    "    lst  = []   \n",
    "    for i in range(0, len(string)):\n",
    "        article_part = html.xpath('//p')[i].text_content()\n",
    "        article_part = str(article_part)\n",
    "        article_part = article_part.replace(\"\\n \",\"\").replace(\"  \", \"\").replace(\"\\'\" , \" \").replace(\"\\xa0\",\"\").replace(\"This material may not be published, broadcast, rewritten, or redistributed. ©2023 FOX News Network, LLC. All rights reserved. Quotes displayed in real-time or delayed by at least 15 minutes. Market data provided by Factset. Powered and implemented by FactSet Digital Solutions.\",\"\").replace(\"©2023 FOX News Network, LLC. All rights reserved. Quotes displayed in real-time or delayed by at least 15 minutes. Market data provided by Factset. Powered and implemented by FactSet Digital Solutions. Legal Statement. Mutual Fund and ETF data provided by Refinitiv Lipper.\",\"\").replace(\"Legal Statement. Mutual Fund and ETF data provided by Refinitiv Lipper.\",\"\")\n",
    "        lst.append(article_part)\n",
    "    article_full = \"\".join(lst)\n",
    "    return article_full\n",
    "    "
   ]
  },
  {
   "cell_type": "code",
   "execution_count": 97,
   "id": "5c5be601-1b8f-4a56-8b1e-c55ba204602a",
   "metadata": {},
   "outputs": [],
   "source": [
    "#print(get_title(lst_url[1]))"
   ]
  },
  {
   "cell_type": "code",
   "execution_count": 98,
   "id": "6ba7f092-6c53-4de5-86a3-51b6b9c906e4",
   "metadata": {},
   "outputs": [],
   "source": [
    "#print(get_body(lst_url[1]))"
   ]
  },
  {
   "cell_type": "code",
   "execution_count": 122,
   "id": "7aea8ab2-5351-48c6-92ec-20dd3c2ae36f",
   "metadata": {},
   "outputs": [],
   "source": [
    "data = []\n",
    "\n",
    "for i in range(0,len(lst_url)):\n",
    "    lst_data = []\n",
    "    lst_data.append(get_title(lst_url[i]))\n",
    "    lst_data.append(get_body(lst_url[i]))\n",
    "    lst_data.append(\"https://www.foxnews.com\" + lst_url[i])\n",
    "    data.append(lst_data)\n"
   ]
  },
  {
   "cell_type": "code",
   "execution_count": 123,
   "id": "30dcaecb",
   "metadata": {},
   "outputs": [],
   "source": [
    "df = pd.DataFrame(data)\n",
    "df.columns = [\"Headline\",\"Article_Body\", \"url\"]"
   ]
  },
  {
   "cell_type": "code",
   "execution_count": 124,
   "id": "942cee6d",
   "metadata": {},
   "outputs": [
    {
     "data": {
      "text/html": [
       "<div>\n",
       "<style scoped>\n",
       "    .dataframe tbody tr th:only-of-type {\n",
       "        vertical-align: middle;\n",
       "    }\n",
       "\n",
       "    .dataframe tbody tr th {\n",
       "        vertical-align: top;\n",
       "    }\n",
       "\n",
       "    .dataframe thead th {\n",
       "        text-align: right;\n",
       "    }\n",
       "</style>\n",
       "<table border=\"1\" class=\"dataframe\">\n",
       "  <thead>\n",
       "    <tr style=\"text-align: right;\">\n",
       "      <th></th>\n",
       "      <th>Headline</th>\n",
       "      <th>Article_Body</th>\n",
       "      <th>url</th>\n",
       "    </tr>\n",
       "  </thead>\n",
       "  <tbody>\n",
       "    <tr>\n",
       "      <th>0</th>\n",
       "      <td>Rep. Nancy Mace slams Mary Trump for 'racist A...</td>\n",
       "      <td>MSNBC s Joy Reid attacked Nikki Haley follo...</td>\n",
       "      <td>https://www.foxnews.com/politics/nancy-mace-sl...</td>\n",
       "    </tr>\n",
       "    <tr>\n",
       "      <th>1</th>\n",
       "      <td>Jordan subpoenas Big Tech CEOs for records on ...</td>\n",
       "      <td>Outnumbered  panelists weigh in after the ...</td>\n",
       "      <td>https://www.foxnews.com/politics/jordan-subpoe...</td>\n",
       "    </tr>\n",
       "    <tr>\n",
       "      <th>2</th>\n",
       "      <td>Pete Buttigieg blames Trump for Ohio train der...</td>\n",
       "      <td>All-star panelists Marc Thiessen, Stef Knig...</td>\n",
       "      <td>https://www.foxnews.com/politics/pete-buttigie...</td>\n",
       "    </tr>\n",
       "    <tr>\n",
       "      <th>3</th>\n",
       "      <td>Georgia senators advance bill to restrict vapi...</td>\n",
       "      <td>Fox News Flash top headlines are here. Chec...</td>\n",
       "      <td>https://www.foxnews.com/politics/georgia-senat...</td>\n",
       "    </tr>\n",
       "    <tr>\n",
       "      <th>4</th>\n",
       "      <td>NORAD conducts air defense exercise days after...</td>\n",
       "      <td>Sen. John Kennedy, R-La., urges President B...</td>\n",
       "      <td>https://www.foxnews.com/politics/norad-conduct...</td>\n",
       "    </tr>\n",
       "    <tr>\n",
       "      <th>5</th>\n",
       "      <td>Nikki Haley targets Biden administration durin...</td>\n",
       "      <td>Cindy Warmbier, the mother of Otto Warmbier...</td>\n",
       "      <td>https://www.foxnews.com/politics/nikki-haley-t...</td>\n",
       "    </tr>\n",
       "    <tr>\n",
       "      <th>6</th>\n",
       "      <td>KY Senate advances bill to track relief funds ...</td>\n",
       "      <td>Fox News Flash top headlines are here. Chec...</td>\n",
       "      <td>https://www.foxnews.com/politics/ky-senate-adv...</td>\n",
       "    </tr>\n",
       "    <tr>\n",
       "      <th>7</th>\n",
       "      <td>Otto Warmbier's mother endorses Nikki Haley fo...</td>\n",
       "      <td>Cindy Warmbier, the mother of Otto Warmbier...</td>\n",
       "      <td>https://www.foxnews.com/politics/otto-warmbier...</td>\n",
       "    </tr>\n",
       "    <tr>\n",
       "      <th>8</th>\n",
       "      <td>DOJ won't charge Matt Gaetz with crimes in sex...</td>\n",
       "      <td>Reps. Jim Jordan and Matt Gaetz discuss the...</td>\n",
       "      <td>https://www.foxnews.com/politics/doj-wont-char...</td>\n",
       "    </tr>\n",
       "    <tr>\n",
       "      <th>9</th>\n",
       "      <td>House, Senate Republicans battle over possible...</td>\n",
       "      <td>Fox News Flash top headlines are here. Chec...</td>\n",
       "      <td>https://www.foxnews.com/politics/house-senate-...</td>\n",
       "    </tr>\n",
       "    <tr>\n",
       "      <th>10</th>\n",
       "      <td>Nebraska Department of Agriculture names Shery...</td>\n",
       "      <td>Fox News Flash top headlines are here. Chec...</td>\n",
       "      <td>https://www.foxnews.com/politics/nebraska-depa...</td>\n",
       "    </tr>\n",
       "    <tr>\n",
       "      <th>11</th>\n",
       "      <td>Dem compares Clarence Thomas to an 'Uncle Tom'...</td>\n",
       "      <td>MSNBC host Tiffany Cross referred to Suprem...</td>\n",
       "      <td>https://www.foxnews.com/politics/dem-compares-...</td>\n",
       "    </tr>\n",
       "    <tr>\n",
       "      <th>12</th>\n",
       "      <td>NC bill that requires high school students to ...</td>\n",
       "      <td>Fox News Flash top headlines are here. Chec...</td>\n",
       "      <td>https://www.foxnews.com/politics/nc-bill-requi...</td>\n",
       "    </tr>\n",
       "    <tr>\n",
       "      <th>13</th>\n",
       "      <td>Wisconsin Gov. Tony Evers' budget proposal wil...</td>\n",
       "      <td>Fox News Flash top headlines are here. Chec...</td>\n",
       "      <td>https://www.foxnews.com/politics/wisconsin-gov...</td>\n",
       "    </tr>\n",
       "    <tr>\n",
       "      <th>14</th>\n",
       "      <td>NM Senate approves landmark bill that would cr...</td>\n",
       "      <td>Fox News Flash top headlines are here. Chec...</td>\n",
       "      <td>https://www.foxnews.com/politics/nm-senate-app...</td>\n",
       "    </tr>\n",
       "    <tr>\n",
       "      <th>15</th>\n",
       "      <td>Grassley rips Senate’s sleepy work schedule un...</td>\n",
       "      <td>Sen. Chuck Schumer defended the delayed rea...</td>\n",
       "      <td>https://www.foxnews.com/politics/grassley-rips...</td>\n",
       "    </tr>\n",
       "    <tr>\n",
       "      <th>16</th>\n",
       "      <td>Fossil fuel profits are vital for green energy...</td>\n",
       "      <td>Meghan Lapp of the Center for Sustainable F...</td>\n",
       "      <td>https://www.foxnews.com/politics/fossil-fuel-p...</td>\n",
       "    </tr>\n",
       "    <tr>\n",
       "      <th>17</th>\n",
       "      <td>Nikki Haley leaps into 2024 GOP presidential p...</td>\n",
       "      <td>During the campaign launch, former South Ca...</td>\n",
       "      <td>https://www.foxnews.com/politics/nikki-haley-l...</td>\n",
       "    </tr>\n",
       "    <tr>\n",
       "      <th>18</th>\n",
       "      <td>Space Force, Space Command pass the buck on UF...</td>\n",
       "      <td>Secretary of Defense Lloyd Austin on Wednes...</td>\n",
       "      <td>https://www.foxnews.com/politics/space-force-s...</td>\n",
       "    </tr>\n",
       "    <tr>\n",
       "      <th>19</th>\n",
       "      <td>National Archives apologizes to March for Life...</td>\n",
       "      <td>Former Deputy Assistant Attorney General To...</td>\n",
       "      <td>https://www.foxnews.com/politics/national-arch...</td>\n",
       "    </tr>\n",
       "    <tr>\n",
       "      <th>20</th>\n",
       "      <td>Iran may have gifted thousands of assault rifl...</td>\n",
       "      <td>Fox News’ Rich Edson reports on Russia and ...</td>\n",
       "      <td>https://www.foxnews.com/politics/iran-may-gift...</td>\n",
       "    </tr>\n",
       "    <tr>\n",
       "      <th>21</th>\n",
       "      <td>FLASHBACK: Dianne Feinstein reminds Green New ...</td>\n",
       "      <td>A panel of senior citizens join  Fox &amp; Frie...</td>\n",
       "      <td>https://www.foxnews.com/politics/flashback-dia...</td>\n",
       "    </tr>\n",
       "    <tr>\n",
       "      <th>22</th>\n",
       "      <td>State Department vows US will defend Philippin...</td>\n",
       "      <td>Fox News Flash top headlines are here. Chec...</td>\n",
       "      <td>https://www.foxnews.com/politics/state-departm...</td>\n",
       "    </tr>\n",
       "    <tr>\n",
       "      <th>23</th>\n",
       "      <td>Texas, GOP states seek preliminary injunction ...</td>\n",
       "      <td>Fox News correspondent Griff Jenkins has th...</td>\n",
       "      <td>https://www.foxnews.com/politics/texas-gop-sta...</td>\n",
       "    </tr>\n",
       "    <tr>\n",
       "      <th>24</th>\n",
       "      <td>No new 'objects' reported in last 48 hours, Pe...</td>\n",
       "      <td>Secretary of Defense Lloyd Austin on Wednes...</td>\n",
       "      <td>https://www.foxnews.com/politics/no-new-object...</td>\n",
       "    </tr>\n",
       "  </tbody>\n",
       "</table>\n",
       "</div>"
      ],
      "text/plain": [
       "                                             Headline  \\\n",
       "0   Rep. Nancy Mace slams Mary Trump for 'racist A...   \n",
       "1   Jordan subpoenas Big Tech CEOs for records on ...   \n",
       "2   Pete Buttigieg blames Trump for Ohio train der...   \n",
       "3   Georgia senators advance bill to restrict vapi...   \n",
       "4   NORAD conducts air defense exercise days after...   \n",
       "5   Nikki Haley targets Biden administration durin...   \n",
       "6   KY Senate advances bill to track relief funds ...   \n",
       "7   Otto Warmbier's mother endorses Nikki Haley fo...   \n",
       "8   DOJ won't charge Matt Gaetz with crimes in sex...   \n",
       "9   House, Senate Republicans battle over possible...   \n",
       "10  Nebraska Department of Agriculture names Shery...   \n",
       "11  Dem compares Clarence Thomas to an 'Uncle Tom'...   \n",
       "12  NC bill that requires high school students to ...   \n",
       "13  Wisconsin Gov. Tony Evers' budget proposal wil...   \n",
       "14  NM Senate approves landmark bill that would cr...   \n",
       "15  Grassley rips Senate’s sleepy work schedule un...   \n",
       "16  Fossil fuel profits are vital for green energy...   \n",
       "17  Nikki Haley leaps into 2024 GOP presidential p...   \n",
       "18  Space Force, Space Command pass the buck on UF...   \n",
       "19  National Archives apologizes to March for Life...   \n",
       "20  Iran may have gifted thousands of assault rifl...   \n",
       "21  FLASHBACK: Dianne Feinstein reminds Green New ...   \n",
       "22  State Department vows US will defend Philippin...   \n",
       "23  Texas, GOP states seek preliminary injunction ...   \n",
       "24  No new 'objects' reported in last 48 hours, Pe...   \n",
       "\n",
       "                                         Article_Body  \\\n",
       "0      MSNBC s Joy Reid attacked Nikki Haley follo...   \n",
       "1       Outnumbered  panelists weigh in after the ...   \n",
       "2      All-star panelists Marc Thiessen, Stef Knig...   \n",
       "3      Fox News Flash top headlines are here. Chec...   \n",
       "4      Sen. John Kennedy, R-La., urges President B...   \n",
       "5      Cindy Warmbier, the mother of Otto Warmbier...   \n",
       "6      Fox News Flash top headlines are here. Chec...   \n",
       "7      Cindy Warmbier, the mother of Otto Warmbier...   \n",
       "8      Reps. Jim Jordan and Matt Gaetz discuss the...   \n",
       "9      Fox News Flash top headlines are here. Chec...   \n",
       "10     Fox News Flash top headlines are here. Chec...   \n",
       "11     MSNBC host Tiffany Cross referred to Suprem...   \n",
       "12     Fox News Flash top headlines are here. Chec...   \n",
       "13     Fox News Flash top headlines are here. Chec...   \n",
       "14     Fox News Flash top headlines are here. Chec...   \n",
       "15     Sen. Chuck Schumer defended the delayed rea...   \n",
       "16     Meghan Lapp of the Center for Sustainable F...   \n",
       "17     During the campaign launch, former South Ca...   \n",
       "18     Secretary of Defense Lloyd Austin on Wednes...   \n",
       "19     Former Deputy Assistant Attorney General To...   \n",
       "20     Fox News’ Rich Edson reports on Russia and ...   \n",
       "21     A panel of senior citizens join  Fox & Frie...   \n",
       "22     Fox News Flash top headlines are here. Chec...   \n",
       "23     Fox News correspondent Griff Jenkins has th...   \n",
       "24     Secretary of Defense Lloyd Austin on Wednes...   \n",
       "\n",
       "                                                  url  \n",
       "0   https://www.foxnews.com/politics/nancy-mace-sl...  \n",
       "1   https://www.foxnews.com/politics/jordan-subpoe...  \n",
       "2   https://www.foxnews.com/politics/pete-buttigie...  \n",
       "3   https://www.foxnews.com/politics/georgia-senat...  \n",
       "4   https://www.foxnews.com/politics/norad-conduct...  \n",
       "5   https://www.foxnews.com/politics/nikki-haley-t...  \n",
       "6   https://www.foxnews.com/politics/ky-senate-adv...  \n",
       "7   https://www.foxnews.com/politics/otto-warmbier...  \n",
       "8   https://www.foxnews.com/politics/doj-wont-char...  \n",
       "9   https://www.foxnews.com/politics/house-senate-...  \n",
       "10  https://www.foxnews.com/politics/nebraska-depa...  \n",
       "11  https://www.foxnews.com/politics/dem-compares-...  \n",
       "12  https://www.foxnews.com/politics/nc-bill-requi...  \n",
       "13  https://www.foxnews.com/politics/wisconsin-gov...  \n",
       "14  https://www.foxnews.com/politics/nm-senate-app...  \n",
       "15  https://www.foxnews.com/politics/grassley-rips...  \n",
       "16  https://www.foxnews.com/politics/fossil-fuel-p...  \n",
       "17  https://www.foxnews.com/politics/nikki-haley-l...  \n",
       "18  https://www.foxnews.com/politics/space-force-s...  \n",
       "19  https://www.foxnews.com/politics/national-arch...  \n",
       "20  https://www.foxnews.com/politics/iran-may-gift...  \n",
       "21  https://www.foxnews.com/politics/flashback-dia...  \n",
       "22  https://www.foxnews.com/politics/state-departm...  \n",
       "23  https://www.foxnews.com/politics/texas-gop-sta...  \n",
       "24  https://www.foxnews.com/politics/no-new-object...  "
      ]
     },
     "execution_count": 124,
     "metadata": {},
     "output_type": "execute_result"
    }
   ],
   "source": [
    "df"
   ]
  },
  {
   "cell_type": "code",
   "execution_count": 128,
   "id": "739a6a08",
   "metadata": {},
   "outputs": [],
   "source": [
    "df.to_csv(\"News_Data_set.csv\")"
   ]
  },
  {
   "cell_type": "code",
   "execution_count": 153,
   "id": "394a2042",
   "metadata": {},
   "outputs": [],
   "source": [
    "master_df = []\n",
    "for i in range(0,9970,1000):\n",
    "    url = (\"https://www.foxnews.com/api/article-search?searchBy=categories&\"\n",
    "          + f\"values=fox-news%2Fpolitics&size=1000&from={i}&mediaTags=primary_politics\")\n",
    "    response = requests.get(url)\n",
    "    lst_url = []\n",
    "    y = json.loads(response.text)\n",
    "    for x in range(0,len(y)):\n",
    "        if \"https://www.foxnews.com/video/\" not in y[x]['url']:\n",
    "            lst_url.append(y[x]['url'])\n",
    "    for j in range(0,len(lst_url)):\n",
    "        df_dict = {\"title\":get_title(lst_url[j]) , \"body\":get_body(lst_url[j]) , \"Url\":\"https://www.foxnews.com\" + lst_url[j]}\n",
    "        master_df.append(df_dict)"
   ]
  },
  {
   "cell_type": "code",
   "execution_count": 154,
   "id": "8b32729b",
   "metadata": {},
   "outputs": [],
   "source": [
    "master_pd_df = pd.DataFrame.from_records(master_df)"
   ]
  },
  {
   "cell_type": "code",
   "execution_count": 155,
   "id": "a89cca73",
   "metadata": {},
   "outputs": [
    {
     "data": {
      "text/html": [
       "<div>\n",
       "<style scoped>\n",
       "    .dataframe tbody tr th:only-of-type {\n",
       "        vertical-align: middle;\n",
       "    }\n",
       "\n",
       "    .dataframe tbody tr th {\n",
       "        vertical-align: top;\n",
       "    }\n",
       "\n",
       "    .dataframe thead th {\n",
       "        text-align: right;\n",
       "    }\n",
       "</style>\n",
       "<table border=\"1\" class=\"dataframe\">\n",
       "  <thead>\n",
       "    <tr style=\"text-align: right;\">\n",
       "      <th></th>\n",
       "      <th>title</th>\n",
       "      <th>body</th>\n",
       "      <th>Url</th>\n",
       "    </tr>\n",
       "  </thead>\n",
       "  <tbody>\n",
       "    <tr>\n",
       "      <th>0</th>\n",
       "      <td>Massachusetts Democrats decide fate of lawmake...</td>\n",
       "      <td>A Democrat official in Framingham, Massachu...</td>\n",
       "      <td>https://www.foxnews.com/politics/massachusetts...</td>\n",
       "    </tr>\n",
       "    <tr>\n",
       "      <th>1</th>\n",
       "      <td>Democrat Ohio senator fundraises in Hollywood ...</td>\n",
       "      <td>Ohio residents tell Dr. Marc Siegel it’s li...</td>\n",
       "      <td>https://www.foxnews.com/politics/democrat-ohio...</td>\n",
       "    </tr>\n",
       "    <tr>\n",
       "      <th>2</th>\n",
       "      <td>DeSantis slams China’s COVID-19 ‘cover-up’ in ...</td>\n",
       "      <td>Axiom Strategies Founder and CEO Jeff Roe t...</td>\n",
       "      <td>https://www.foxnews.com/politics/desantis-slam...</td>\n",
       "    </tr>\n",
       "    <tr>\n",
       "      <th>3</th>\n",
       "      <td>Biden admin quietly admits White House's 9,000...</td>\n",
       "      <td>CEO of Alaska Oil &amp; Gas Association Kara Mo...</td>\n",
       "      <td>https://www.foxnews.com/politics/biden-admin-q...</td>\n",
       "    </tr>\n",
       "    <tr>\n",
       "      <th>4</th>\n",
       "      <td>COVID lab leak theory: Rand Paul says Biden sh...</td>\n",
       "      <td>The Big Sunday Show  co-hosts weigh in on ...</td>\n",
       "      <td>https://www.foxnews.com/politics/covid-lab-lea...</td>\n",
       "    </tr>\n",
       "    <tr>\n",
       "      <th>...</th>\n",
       "      <td>...</td>\n",
       "      <td>...</td>\n",
       "      <td>...</td>\n",
       "    </tr>\n",
       "    <tr>\n",
       "      <th>159</th>\n",
       "      <td>Time is running out</td>\n",
       "      <td>Fox News congressional correspondent Chad P...</td>\n",
       "      <td>https://www.foxnews.com/politics/time-running-out</td>\n",
       "    </tr>\n",
       "    <tr>\n",
       "      <th>160</th>\n",
       "      <td>Trump mocks DeSantis at Pennsylvania rally: 'R...</td>\n",
       "      <td>Former President Trump mocked Gov. Ron DeSa...</td>\n",
       "      <td>https://www.foxnews.com/politics/trump-mocks-d...</td>\n",
       "    </tr>\n",
       "    <tr>\n",
       "      <th>161</th>\n",
       "      <td>Fetterman says he supports 'codifying' Roe v. ...</td>\n",
       "      <td>Pennsylvania U.S. Senate candidate John Fet...</td>\n",
       "      <td>https://www.foxnews.com/politics/fetterman-say...</td>\n",
       "    </tr>\n",
       "    <tr>\n",
       "      <th>162</th>\n",
       "      <td>Iowa poll shows Chuck Grassley ahead of Mike F...</td>\n",
       "      <td>Sen. Chuck Grassley, R-Iowa., on pressing f...</td>\n",
       "      <td>https://www.foxnews.com/politics/iowa-poll-sho...</td>\n",
       "    </tr>\n",
       "    <tr>\n",
       "      <th>163</th>\n",
       "      <td>Rep. Maloney recalls 'eating Chef Boyardee' as...</td>\n",
       "      <td>Republican candidate for NY-17 House candid...</td>\n",
       "      <td>https://www.foxnews.com/politics/rep-maloney-r...</td>\n",
       "    </tr>\n",
       "  </tbody>\n",
       "</table>\n",
       "<p>164 rows × 3 columns</p>\n",
       "</div>"
      ],
      "text/plain": [
       "                                                 title  \\\n",
       "0    Massachusetts Democrats decide fate of lawmake...   \n",
       "1    Democrat Ohio senator fundraises in Hollywood ...   \n",
       "2    DeSantis slams China’s COVID-19 ‘cover-up’ in ...   \n",
       "3    Biden admin quietly admits White House's 9,000...   \n",
       "4    COVID lab leak theory: Rand Paul says Biden sh...   \n",
       "..                                                 ...   \n",
       "159                                Time is running out   \n",
       "160  Trump mocks DeSantis at Pennsylvania rally: 'R...   \n",
       "161  Fetterman says he supports 'codifying' Roe v. ...   \n",
       "162  Iowa poll shows Chuck Grassley ahead of Mike F...   \n",
       "163  Rep. Maloney recalls 'eating Chef Boyardee' as...   \n",
       "\n",
       "                                                  body  \\\n",
       "0       A Democrat official in Framingham, Massachu...   \n",
       "1       Ohio residents tell Dr. Marc Siegel it’s li...   \n",
       "2       Axiom Strategies Founder and CEO Jeff Roe t...   \n",
       "3       CEO of Alaska Oil & Gas Association Kara Mo...   \n",
       "4        The Big Sunday Show  co-hosts weigh in on ...   \n",
       "..                                                 ...   \n",
       "159     Fox News congressional correspondent Chad P...   \n",
       "160     Former President Trump mocked Gov. Ron DeSa...   \n",
       "161     Pennsylvania U.S. Senate candidate John Fet...   \n",
       "162     Sen. Chuck Grassley, R-Iowa., on pressing f...   \n",
       "163     Republican candidate for NY-17 House candid...   \n",
       "\n",
       "                                                   Url  \n",
       "0    https://www.foxnews.com/politics/massachusetts...  \n",
       "1    https://www.foxnews.com/politics/democrat-ohio...  \n",
       "2    https://www.foxnews.com/politics/desantis-slam...  \n",
       "3    https://www.foxnews.com/politics/biden-admin-q...  \n",
       "4    https://www.foxnews.com/politics/covid-lab-lea...  \n",
       "..                                                 ...  \n",
       "159  https://www.foxnews.com/politics/time-running-out  \n",
       "160  https://www.foxnews.com/politics/trump-mocks-d...  \n",
       "161  https://www.foxnews.com/politics/fetterman-say...  \n",
       "162  https://www.foxnews.com/politics/iowa-poll-sho...  \n",
       "163  https://www.foxnews.com/politics/rep-maloney-r...  \n",
       "\n",
       "[164 rows x 3 columns]"
      ]
     },
     "execution_count": 155,
     "metadata": {},
     "output_type": "execute_result"
    }
   ],
   "source": [
    "master_pd_df"
   ]
  },
  {
   "cell_type": "code",
   "execution_count": 156,
   "id": "70c4c85b",
   "metadata": {},
   "outputs": [],
   "source": [
    "master_pd_df.to_csv(\"164_articles.csv\")"
   ]
  },
  {
   "cell_type": "code",
   "execution_count": 159,
   "id": "985e0f16",
   "metadata": {},
   "outputs": [
    {
     "name": "stdout",
     "output_type": "stream",
     "text": [
      "{'message': 'success', 'meta': {'start': 0, 'end': 10, 'of': 56498, 'total': 10, 'maxScore': 0, 'duration': 0}, 'result': [{'path': 'https://www.cnn.com/videos/us/2023/02/27/trey-louis-american-idol-audition-katy-perry-contd-orig-zt.cnn', 'type': 'video', 'headline': \"'Our country has f***ing failed us': Katy Perry breaks down during 'American Idol' audition\", 'thumbnail': 'https://cdn.cnn.com/cnnnext/dam/assets/230227143046-idolaudition2-story-body.jpg', 'sourceId': 'video_A97B4975-4525-928A-54E2-9461F53CA92A', 'url': 'https://www.cnn.com/videos/us/2023/02/27/trey-louis-american-idol-audition-katy-perry-contd-orig-zt.cnn', 'lastModifiedDate': '2023-02-27T19:59:18Z', 'body': 'Trey Louis, a 21-year-old mattress salesman and school shooting survivor from Santa Fe, TX, brought \"American Idol\" judges to tears during an emotional audition.'}, {'path': 'https://www.cnn.com/videos/business/2023/02/27/shark-tank-barbara-corcoran-1-million-in-a-single-day-cprog-orig-ht.cnn-business', 'type': 'video', 'headline': \"'A buying frenzy': 'Shark Tank' star unveils how she made $1M in one day\", 'thumbnail': 'https://cdn.cnn.com/cnnnext/dam/assets/230227143226-barbara-corcoran-story-body.jpg', 'sourceId': 'video_EE7B5732-2BA7-7566-BB2E-945AFEACABE8', 'url': 'https://www.cnn.com/videos/business/2023/02/27/shark-tank-barbara-corcoran-1-million-in-a-single-day-cprog-orig-ht.cnn-business', 'lastModifiedDate': '2023-02-27T19:45:22Z', 'body': 'In a recent \"Get Ready With Me\" TikTok video, \"Shark Tank\" star and entrepreneur Barbara Corcoran revealed how she made $1 million in a day to prevent her real estate company from bankruptcy.'}, {'path': 'https://www.cnn.com/videos/tv/2023/02/27/amanpour-martinez-transit-ban-asylum-newton.cnn', 'type': 'video', 'headline': \"New Biden rule perpetuates 'Refugee Hunger Games'\", 'thumbnail': 'https://cdn.cnn.com/cnnnext/dam/assets/230227132557-amanpour-martinez-story-body.jpg', 'sourceId': 'video_A2038A84-6818-AEEB-24B6-941F59BDC949', 'url': 'https://www.cnn.com/videos/tv/2023/02/27/amanpour-martinez-transit-ban-asylum-newton.cnn', 'lastModifiedDate': '2023-02-27T19:17:23Z', 'body': \"Immigration attorney Andrea Martinez joins Paula Newton to discuss the impact of the Biden administration's controversial transit ban for asylum seekers. \"}, {'path': 'https://www.cnn.com/videos/world/2023/02/27/exp-sag-awards-everything-everywhere-foster-022704aseg1-cnni-world.cnn', 'type': 'video', 'headline': '\"Everything everywhere...\" actors make historic wins', 'thumbnail': 'https://cdn.cnn.com/cnnnext/dam/assets/230227134045-exp-sag-awards-everything-everywhere-foster-022704aseg1-cnni-world-00002001-story-body.png', 'sourceId': 'video_A3E7AF75-58DE-175E-E225-942AD228A1ED', 'url': 'https://www.cnn.com/videos/world/2023/02/27/exp-sag-awards-everything-everywhere-foster-022704aseg1-cnni-world.cnn', 'lastModifiedDate': '2023-02-27T18:45:31Z', 'body': 'Max Foster recaps the SAG awards.'}, {'path': 'https://www.cnn.com/videos/us/2023/02/27/driver-saves-child-exit-school-bus-whio-pkg-contd-vpx.whio', 'type': 'video', 'headline': 'See driver leap into action to save child exiting school bus', 'thumbnail': 'https://cdn.cnn.com/cnnnext/dam/assets/230227122927-school-bus-story-body.jpg', 'sourceId': 'video_F181937B-8877-05E8-959B-93E6CA907DA9', 'url': 'https://www.cnn.com/videos/us/2023/02/27/driver-saves-child-exit-school-bus-whio-pkg-contd-vpx.whio', 'lastModifiedDate': '2023-02-27T18:14:16Z', 'body': 'An alert bus driver may have averted tragedy in Ohio as she grabbed a child as he was getting off the bus when she saw a car approaching. CNN affiliate WHIO has the story.'}, {'path': 'https://www.cnn.com/videos/business/2023/02/27/meta-sextortion-take-it-down-tool-jg-orig.cnn-business', 'type': 'video', 'headline': 'Meta is launching this new tool to stop the spread of explicit images', 'thumbnail': 'https://cdn.cnn.com/cnnnext/dam/assets/230227123803-facebook-logo-website-corner-story-body.jpg', 'sourceId': 'video_7557744A-B2B1-F521-4F1A-93ECE242F8A5', 'url': 'https://www.cnn.com/videos/business/2023/02/27/meta-sextortion-take-it-down-tool-jg-orig.cnn-business', 'lastModifiedDate': '2023-02-27T18:03:53Z', 'body': 'Meta has rolled out a new tool, developed by the National Center for Missing & Exploited Children, on Facebook and Instagram called \"Take it Down,\" that it says will help prevent the spread of explicit images of minors uploaded without consent.'}, {'path': 'https://www.cnn.com/2023/02/27/homes/pending-home-sales-january/index.html', 'type': 'article', 'headline': 'Pending home sales blew past expectations last month as buyers pounced on lower rates', 'thumbnail': 'https://cdn.cnn.com/cnnnext/dam/assets/230227110805-01-pending-home-sales-january-story-body.jpg', 'sourceId': 'article_50199D1A-7394-84E6-05E0-9399CD01C045', 'url': 'https://www.cnn.com/2023/02/27/homes/pending-home-sales-january/index.html', 'lastModifiedDate': '2023-02-27T17:50:38Z', 'body': 'Pending home sales crushed expectations in January, when mortgage rates dropped from recent highs of more than 7% and home buyers jumped at the opportunity.'}, {'path': 'https://www.cnn.com/videos/world/2023/02/27/exp-ukraine-railway-kamyshin-intv-022701aseg1-cnni-world.cnn', 'type': 'video', 'headline': 'Ukrainian rail system used by 200+ diplomatic missions since war began', 'thumbnail': 'https://cdn.cnn.com/cnnnext/dam/assets/230227122707-exp-ukraine-railway-kamyshin-intv-022701aseg1-cnni-world-00002001-story-body.png', 'sourceId': 'video_4C76E906-EECF-08C7-0147-93E487BC2005', 'url': 'https://www.cnn.com/videos/world/2023/02/27/exp-ukraine-railway-kamyshin-intv-022701aseg1-cnni-world.cnn', 'lastModifiedDate': '2023-02-27T17:46:16Z', 'body': 'Laila Harrak talks with Alexander Kamyshin, Head of Ukrainian Railways.'}, {'path': 'https://www.cnn.com/videos/entertainment/2023/02/27/bel-air-season-two-jabari-banks.cnn', 'type': 'video', 'headline': \"'Bel-Air' brings more drama in season two\", 'thumbnail': 'https://cdn.cnn.com/cnnnext/dam/assets/230227082531-bel-air-season-2-story-body.jpg', 'sourceId': 'video_83F1ECC3-1044-E8A1-D90B-93B3BCCE0AB8', 'url': 'https://www.cnn.com/videos/entertainment/2023/02/27/bel-air-season-two-jabari-banks.cnn', 'lastModifiedDate': '2023-02-27T16:38:28Z', 'body': \"Will's journey from the streets of West Philadelphia to the gated mansions of L.A. puts him at a crossroads as the Peacock series returns. David Daniel has a look.\"}, {'path': 'https://www.cnn.com/2023/02/27/investing/dow-stock-market-today/index.html', 'type': 'article', 'headline': 'Why the 2023 stock market rally may be over already', 'thumbnail': 'https://cdn.cnn.com/cnnnext/dam/assets/230227091000-nyse-022223-story-body.jpg', 'sourceId': 'article_0E3726E8-A68D-732A-2E5B-9302C25F649A', 'url': 'https://www.cnn.com/2023/02/27/investing/dow-stock-market-today/index.html', 'lastModifiedDate': '2023-02-27T16:28:24Z', 'body': 'So much for that big stock market comeback this year.'}]}\n",
      "{'message': 'success', 'meta': {'start': 1000, 'end': 1010, 'of': 63320, 'total': 10, 'maxScore': 0, 'duration': 0}, 'result': [{'path': 'https://www.cnn.com/2023/02/02/us/groundhog-day-punxsutawney-phil-2023-trnd/index.html', 'type': 'article', 'headline': \"Punxsutawney Phil left his burrow for his annual prediction. Here's how much longer winter will last according to the legend\", 'thumbnail': 'https://cdn.cnn.com/cnnnext/dam/assets/230202075836-01-punxsutawney-phil-groundhog-day-020223-story-body.jpg', 'sourceId': 'article_FC5FE83B-BDA1-D399-8B5D-0DB3C5913913', 'url': 'https://www.cnn.com/2023/02/02/us/groundhog-day-punxsutawney-phil-2023-trnd/index.html', 'lastModifiedDate': '2023-02-02T14:02:26Z', 'body': 'Punxsutawney Phil -- the legendary groundhog weather watcher -- woke up and saw his shadow Thursday morning, calling for six more weeks of winter.'}, {'path': 'https://www.cnn.com/videos/us/2023/02/02/groundhog-day-punxsutawney-phil-2023-sot-vpx.cnn', 'type': 'video', 'headline': 'See what Punxsutawney Phil predicted on Groundhog Day', 'thumbnail': 'https://cdn.cnn.com/cnnnext/dam/assets/230202084206-punxsutawney-phil-groundhog-day-2023-story-body.jpg', 'sourceId': 'video_FF66659C-2E8A-FDE0-89D9-123F8C8C6DD4', 'url': 'https://www.cnn.com/videos/us/2023/02/02/groundhog-day-punxsutawney-phil-2023-sot-vpx.cnn', 'lastModifiedDate': '2023-02-02T13:57:16Z', 'body': \"Each February 2, on Groundhog Day, the members of the Punxsutawney Groundhog Club make the pilgrimage to Gobbler's Knob, Punxsutawney Phil's official home. The legendary weather watcher woke up and saw his shadow this year, calling for six more weeks of winter.\"}, {'path': 'https://www.cnn.com/2023/02/02/tech/senator-apple-google-tiktok-ban/index.html', 'type': 'article', 'headline': 'Democratic senator urges Apple and Google to ban TikTok from their app stores', 'thumbnail': 'https://cdn.cnn.com/cnnnext/dam/assets/230201123756-colorado-sen-michael-bennett-1108-file-story-body.jpg', 'sourceId': 'article_5028350D-9C96-65E1-0C22-0E07039C9E1E', 'url': 'https://www.cnn.com/2023/02/02/tech/senator-apple-google-tiktok-ban/index.html', 'lastModifiedDate': '2023-02-02T13:42:17Z', 'body': 'A member of the Senate Intelligence Committee is calling on Apple and Google to remove TikTok from their app stores over concerns about national security, in the latest indication of mounting scrutiny on the short-form video app from members of Congress.'}, {'path': 'https://www.cnn.com/2023/02/02/politics/senate-judicial-nominations-blue-slips-durbin/index.html', 'type': 'article', 'headline': \"Senate Democrats grapple with pressure to remove GOP's 'blue slip' authority on judges\", 'thumbnail': 'https://cdn.cnn.com/cnnnext/dam/assets/220404161017-03-scotus-committee-meeting-0404-story-body.jpg', 'sourceId': 'article_D5D861F1-04E4-9786-F9FB-0459DB390229', 'url': 'https://www.cnn.com/2023/02/02/politics/senate-judicial-nominations-blue-slips-durbin/index.html', 'lastModifiedDate': '2023-02-02T13:07:06Z', 'body': \"When the Senate Judiciary Committee meets Thursday to vote on another slate of President Joe Biden's judicial nominees, Democrats will be benefiting from more than their two additional years of Senate control.\"}, {'path': 'https://www.cnn.com/videos/media/2023/02/02/bbc-guest-phone-ringing-cprog-lon-orig-tp.cnn', 'type': 'video', 'headline': \"See what presenter does after guest's phone keeps ringing on air\", 'thumbnail': 'https://cdn.cnn.com/cnnnext/dam/assets/230202121811-video-thumbnail-kenneth-baker-bbc-phone-rinigng-story-body.jpg', 'sourceId': 'video_BE5B144B-5823-7A49-3F02-120CD5DEFC72', 'url': 'https://www.cnn.com/videos/media/2023/02/02/bbc-guest-phone-ringing-cprog-lon-orig-tp.cnn', 'lastModifiedDate': '2023-02-02T12:58:41Z', 'body': \"A British lawmaker's phone went off four times during an interview with BBC Newsnight's Victoria Derbyshire.\"}, {'path': 'https://www.cnn.com/2023/02/02/opinions/patrick-noack-future-long-term-thinking-spc-intl/index.html', 'type': 'article', 'headline': \"Humans are terrible at planning for the future: Here's how we can change that\", 'thumbnail': 'https://cdn.cnn.com/cnnnext/dam/assets/230202122135-20230202-decoded-opinion-pagetop-story-body.jpg', 'sourceId': 'article_0B2B9E83-45E8-6FBC-8B50-0C7F5DEB1AC9', 'url': 'https://www.cnn.com/2023/02/02/opinions/patrick-noack-future-long-term-thinking-spc-intl/index.html', 'lastModifiedDate': '2023-02-02T12:54:48Z', 'body': 'We have a tendency to favor immediate rewards over future benefits, writes Dr. Patrick Noack. But a change in perspective is needed -- and possible.'}, {'path': 'https://www.cnn.com/2023/02/02/us/five-things-february-2-trnd/index.html', 'type': 'article', 'headline': '5 things to know for February 2: Ice storm, Debt limit, Middle East, Abortion, Crypto', 'thumbnail': 'https://cdn.cnn.com/cnnnext/dam/assets/230201102830-08-winter-weather-0131-texas-story-body.jpg', 'sourceId': 'article_4F526844-3FCF-5B83-AC3E-BCD301D240B1', 'url': 'https://www.cnn.com/2023/02/02/us/five-things-february-2-trnd/index.html', 'lastModifiedDate': '2023-02-02T12:41:31Z', 'body': \"Here's what else you need to know to Get Up to Speed and On with Your Day.\"}, {'path': 'https://www.cnn.com/2023/02/02/football/middle-school-basketball-game-brawl-death-spt-intl/index.html', 'type': 'article', 'headline': 'Man dies following brawl at middle school basketball game', 'thumbnail': 'https://cdn.cnn.com/cnnnext/dam/assets/230202065137-fatal-brawl-vermont-basketball-020223-screengrab-story-body.jpg', 'sourceId': 'article_16D3B295-C88A-D9E7-6518-117CB7C3DCDC', 'url': 'https://www.cnn.com/2023/02/02/football/middle-school-basketball-game-brawl-death-spt-intl/index.html', 'lastModifiedDate': '2023-02-02T12:23:10Z', 'body': 'A 60-year-old man died following a brawl that broke out on Tuesday night in the town of Alburgh during a middle school basketball game, Vermont State Police (VST) said in a statement Wednesday.'}, {'path': 'https://www.cnn.com/style/article/gillian-anderson-fantasies-scli-intl/index.html', 'type': 'article', 'headline': 'Gillian Anderson asks women to send her their sexual fantasies', 'thumbnail': 'https://cdn.cnn.com/cnnnext/dam/assets/230202092425-01-gillian-anderson-fantasies-story-body.jpg', 'sourceId': 'article_19413555-FDDE-E002-3AA9-1198E6397426', 'url': 'https://www.cnn.com/style/article/gillian-anderson-fantasies-scli-intl/index.html', 'lastModifiedDate': '2023-02-02T11:57:04Z', 'body': 'Gillian Anderson has called on women around the world to contact her anonymously about their sexual fantasies.'}, {'path': 'https://www.cnn.com/travel/gallery/people-who-live-on-planes-photos/index.html', 'type': 'gallery', 'headline': 'How to live in an airplane (photos)', 'thumbnail': 'https://cdn.cnn.com/cnnnext/dam/assets/230201154849-01-people-who-live-on-planes-ussery-story-body.jpg', 'sourceId': 'gallery_77F7AAC9-5500-CF1B-076B-0ECBD5CF5D2C', 'url': 'https://www.cnn.com/travel/gallery/people-who-live-on-planes-photos/index.html', 'lastModifiedDate': '2023-02-02T11:17:15Z', 'body': ''}]}\n",
      "{'message': 'success', 'meta': {'start': 2000, 'end': 2010, 'of': 56498, 'total': 10, 'maxScore': 0, 'duration': 0}, 'result': [{'path': 'https://www.cnn.com/2023/01/09/tech/seattle-school-district-social-media-lawsuit/index.html', 'type': 'article', 'headline': \"Seattle public schools sue social media companies for allegedly harming students' mental health\", 'thumbnail': 'https://cdn.cnn.com/cnnnext/dam/assets/230109100855-teenager-phone-social-media-stock-story-body.jpeg', 'sourceId': 'article_EFE46244-C0C6-CEAC-5FC9-97195CDDF9A6', 'url': 'https://www.cnn.com/2023/01/09/tech/seattle-school-district-social-media-lawsuit/index.html', 'lastModifiedDate': '2023-01-09T18:14:47Z', 'body': 'Seattle\\'s public school system on Friday filed a lawsuit against several Big Tech companies alleging their platforms have a negative impact on students\\' mental health and claiming that has impeded the ability of its schools \"to fulfill its educational mission.\"'}, {'path': 'https://www.cnn.com/2023/01/09/entertainment/sex-pistol-john-lydon-eurovision-ireland-intl-scli-gbr/index.html', 'type': 'article', 'headline': 'Ex-Sex Pistol John Lydon is bidding to represent Ireland in Eurovision Song Contest', 'thumbnail': 'https://cdn.cnn.com/cnnnext/dam/assets/230109111450-john-lydon-file-restricted-061623-story-body.jpg', 'sourceId': 'article_EE3238C2-B033-D4CB-6229-9751FBE53151', 'url': 'https://www.cnn.com/2023/01/09/entertainment/sex-pistol-john-lydon-eurovision-ireland-intl-scli-gbr/index.html', 'lastModifiedDate': '2023-01-09T17:59:33Z', 'body': \"Former Sex Pistols lead singer John Lydon, better known to many as Johnny Rotten, will compete to represent Ireland in this year's Eurovision Song Contest.\"}, {'path': 'https://www.cnn.com/videos/entertainment/2023/01/09/awards-nsfc-tar-blanchett-field-banshees-farrell-condon.cnn', 'type': 'video', 'headline': \"Hollywood Minute: 'TÁR,' 'Banshees' top National Film Critics awards\", 'thumbnail': 'https://cdn.cnn.com/cnnnext/dam/assets/221026095649-cate-blanchett-tr-story-body.jpg', 'sourceId': 'video_F677CD78-DF2A-991E-784A-978699BF83CC', 'url': 'https://www.cnn.com/videos/entertainment/2023/01/09/awards-nsfc-tar-blanchett-field-banshees-farrell-condon.cnn', 'lastModifiedDate': '2023-01-09T17:30:43Z', 'body': \"'TÁR' and 'The Banshees of Inisherin' take top honors from the National Society of Film Critics, and Don Cheadle's time pressure in joining the MCU. David Daniel reports.\"}, {'path': 'https://www.cnn.com/videos/health/2023/01/06/mediterranean-chickpea-soup-recipe-lbb-orig.cnn', 'type': 'video', 'headline': \"VIDEO: A soup that's truly satisfying? This key Mediterranean ingredient does the trick\", 'thumbnail': 'https://cdn.cnn.com/cnnnext/dam/assets/230106163644-chickpea-soup-recipe-suzy-wide-story-body.jpg', 'sourceId': 'video_AD57715B-2760-3953-CD6F-88D1A0AE7189', 'url': 'https://www.cnn.com/videos/health/2023/01/06/mediterranean-chickpea-soup-recipe-lbb-orig.cnn', 'lastModifiedDate': '2023-01-09T17:19:01Z', 'body': \"Soups are the easiest meals to make but we often think they're not quite filling enough. This Mediterranean soup uses a key, non-meat ingredient that has more fiber than black beans and more iron than a T-bone steak. Find this and other recipes at themediterraneandish.com.\"}, {'path': 'https://www.cnn.com/videos/us/2023/01/09/husband-ana-walshe-missing-massachusetts-mother-court-cleaning-supplies-contd-nr-vpx.cnn', 'type': 'video', 'headline': 'Lawyer says husband of missing mother bought $450 worth of cleaning supplies', 'thumbnail': 'https://cdn.cnn.com/cnnnext/dam/assets/230109112651-brian-walshe-ana-walshe-split-story-body.jpg', 'sourceId': 'video_1B6B5D12-5341-FE7B-A541-974818614F54', 'url': 'https://www.cnn.com/videos/us/2023/01/09/husband-ana-walshe-missing-massachusetts-mother-court-cleaning-supplies-contd-nr-vpx.cnn', 'lastModifiedDate': '2023-01-09T16:50:41Z', 'body': \"CNN's Jim Sciutto and Erica Hill speak with former senior FBI profiler Mary Ellen O'Toole about the latest revelations on the arrest of Brian Walshe, the husband of missing Massachusetts woman Ana Walshe, and what could happen next.\"}, {'path': 'https://www.cnn.com/videos/world/2023/01/09/anderson-cooper-reflects-on-prince-harry-interview-contd-cnntm-vpx.cnn', 'type': 'video', 'headline': 'Anderson Cooper reflects on his interview with Prince Harry', 'thumbnail': 'https://cdn.cnn.com/cnnnext/dam/assets/230109113655-anderson-harry-split-video-thumb-vpx-story-body.jpg', 'sourceId': 'video_934A2F60-5303-0622-BB27-96BEA3C763B7', 'url': 'https://www.cnn.com/videos/world/2023/01/09/anderson-cooper-reflects-on-prince-harry-interview-contd-cnntm-vpx.cnn', 'lastModifiedDate': '2023-01-09T18:41:28Z', 'body': 'Anderson Cooper joins \"CNN This Morning\" to talk about his latest interview with Prince Harry on \"60 Minutes,\" in which he details dealing with the loss of his mother, Princess Diana.   '}, {'path': 'https://www.cnn.com/2023/01/09/tech/silicon-valley-layoffs-continue/index.html', 'type': 'article', 'headline': 'Silicon Valley layoffs go from bad to worse', 'thumbnail': 'https://cdn.cnn.com/cnnnext/dam/assets/230106131037-silicon-valley-amazon-building-file-story-body.jpg', 'sourceId': 'article_5FA88918-577C-EF86-00ED-882D13A6DDEF', 'url': 'https://www.cnn.com/2023/01/09/tech/silicon-valley-layoffs-continue/index.html', 'lastModifiedDate': '2023-01-09T16:37:07Z', 'body': 'Shortly before Thanksgiving, Amazon CEO Andy Jassy confirmed rumors that layoffs had begun in multiple departments at the e-commerce giant and said it would review staffing needs into the new year.'}, {'path': 'https://www.cnn.com/videos/us/2023/01/09/bumble-date-alleged-kidnapper-lawyer-statement-nr-lavandera-contd-vpx.cnn', 'type': 'video', 'headline': 'Man charged after allegedly kidnapping, assaulting Bumble date. Hear from his attorney', 'thumbnail': 'https://cdn.cnn.com/cnnnext/dam/assets/230107093322-houston-man-charged-kidnapping-bumble-story-body.jpg', 'sourceId': 'video_A5179ED6-F66C-AAB1-82D3-97019F13D4F7', 'url': 'https://www.cnn.com/videos/us/2023/01/09/bumble-date-alleged-kidnapper-lawyer-statement-nr-lavandera-contd-vpx.cnn', 'lastModifiedDate': '2023-01-09T16:26:47Z', 'body': 'A Houston area man has been charged with aggravated kidnapping after holding a woman he met on a dating app captive for five days around Christmas and physically assaulting her before she escaped, according to charging documents. CNN Senior National Correspondent Ed Lavandera reports.'}, {'path': 'https://www.cnn.com/videos/tv/2023/01/09/the-new-york-catskills-otbp.cnn', 'type': 'video', 'headline': \"Exploring New York's Catskills\", 'thumbnail': 'https://cdn.cnn.com/cnnnext/dam/assets/230109104617-the-new-york-catskills-otbp-00003822-story-body.png', 'sourceId': 'video_1CD59F56-CE75-5165-09A7-9720D42ED94D', 'url': 'https://www.cnn.com/videos/tv/2023/01/09/the-new-york-catskills-otbp.cnn', 'lastModifiedDate': '2023-01-09T15:55:12Z', 'body': 'The Catskills are known for picturesque nature. But there\\'s a lot more to these upstate New York mountains than meets the eye. It\\'s today\\'s \"Off the Beaten Path.\"'}, {'path': 'https://www.cnn.com/2023/01/08/opinions/buffalo-city-of-neighbors-nfl-damar-hamlin-bailey-ctpr/index.html', 'type': 'article', 'headline': \"Opinion: Hamlin's scare reminded me what Buffalo's all about\", 'thumbnail': 'https://cdn.cnn.com/cnnnext/dam/assets/230106124340-buffalo-bills-vigil-hamlin-file-010323-story-body.jpg', 'sourceId': 'article_5F2C7F68-494D-1B59-B6A2-8A038D68A6D3', 'url': 'https://www.cnn.com/2023/01/08/opinions/buffalo-city-of-neighbors-nfl-damar-hamlin-bailey-ctpr/index.html', 'lastModifiedDate': '2023-01-09T15:51:30Z', 'body': \"In May, a White gunman walked into a supermarket in a historically African American community, killing 10 people. Last month, the Blizzard of '22 claimed 42 lives in Buffalo and its environs. Now the city is grappling with a grievous injury to a player on its beloved Buffalo Bills. The collective pain is almost too much to bear. And yet, it's the kind of adversity Buffalonians are well rehearsed in dealing with, writes Sharon Bailey.\"}]}\n",
      "{'message': 'success', 'meta': {'start': 3000, 'end': 3010, 'of': 63320, 'total': 10, 'maxScore': 0, 'duration': 0}, 'result': [{'path': 'https://www.cnn.com/2022/12/12/football/superyacht-qatar-2022-accommodation-world-cup-spt-intl/index.html', 'type': 'article', 'headline': '$480,000-per-week yacht plays host to super rich at Qatar 2022', 'thumbnail': 'https://cdn.cnn.com/cnnnext/dam/assets/221206182203-04-saluzi-super-yacht-story-body.jpg', 'sourceId': 'article_FF0B41B6-6A3E-AC15-4B6C-E49114425A8A', 'url': 'https://www.cnn.com/2022/12/12/football/superyacht-qatar-2022-accommodation-world-cup-spt-intl/index.html', 'lastModifiedDate': '2022-12-13T10:27:24Z', 'body': \"It's been dubbed the 'Arabian Riviera,' where the streets are immaculate and are interspersed with luxury hotels offering shimmering views across the marina. Welcome to 'The Pearl.'\"}, {'path': 'https://www.cnn.com/2022/12/12/tech/microsoft-london-stock-exchange-deal/index.html', 'type': 'article', 'headline': 'Microsoft buys stake in London Stock Exchange owner in cloud data deal', 'thumbnail': 'https://cdn.cnn.com/cnnnext/dam/assets/221212100821-london-stock-exchange-building-file-010220-story-body.jpg', 'sourceId': 'article_EB9425C7-979B-12BC-FDAB-05C004B532AC', 'url': 'https://www.cnn.com/2022/12/12/tech/microsoft-london-stock-exchange-deal/index.html', 'lastModifiedDate': '2022-12-13T10:15:47Z', 'body': \"Microsoft is buying a 4% stake in the London Stock Exchange Group as part of a deal that will see the market operator spend at least $2.8 billion over 10 years on the software provider's cloud services.\"}, {'path': 'https://www.cnn.com/2022/12/12/us/university-of-texas-chris-beard-arrest/index.html', 'type': 'article', 'headline': \"University of Texas men's basketball head coach arrested and charged with felony assault\", 'thumbnail': 'https://cdn.cnn.com/cnnnext/dam/assets/221212212936-01-chris-beard-112622-story-body.jpg', 'sourceId': 'article_9C03440F-B988-DD83-69ED-0946CB754A03', 'url': 'https://www.cnn.com/2022/12/12/us/university-of-texas-chris-beard-arrest/index.html', 'lastModifiedDate': '2022-12-13T09:44:20Z', 'body': 'Chris Beard was arrested and charged with a third-degree felony assault in Texas on Monday.'}, {'path': 'https://www.cnn.com/2022/12/10/europe/viktor-bout-supports-ukraine-war-intl/index.html', 'type': 'article', 'headline': \"Freed Russian arms dealer Viktor Bout says he 'wholeheartedly' supports Ukraine war and would volunteer if he could\", 'thumbnail': 'https://cdn.cnn.com/cnnnext/dam/assets/221208202557-viktor-bout-story-body.jpg', 'sourceId': 'article_3DD02648-5B55-86BA-E381-FCD672D2FF9D', 'url': 'https://www.cnn.com/2022/12/10/europe/viktor-bout-supports-ukraine-war-intl/index.html', 'lastModifiedDate': '2022-12-13T09:20:18Z', 'body': 'Freed Russian arms dealer Viktor Bout said on Saturday he \"wholeheartedly\" supports Moscow\\'s so-called \"military operation\" in Ukraine and that if he had the opportunity and necessary skills, he would \"certainly go as a volunteer.\"'}, {'path': 'https://www.cnn.com/2022/12/12/us/kenny-deland-missing-student-france/index.html', 'type': 'article', 'headline': 'French prosecutor investigating disappearance of New York college student studying in France', 'thumbnail': 'https://cdn.cnn.com/cnnnext/dam/assets/221212103416-kenny-deland-jr-selfie-story-body.jpg', 'sourceId': 'article_982097DF-2E21-A2DB-BFFF-05CA35C7E51E', 'url': 'https://www.cnn.com/2022/12/12/us/kenny-deland-missing-student-france/index.html', 'lastModifiedDate': '2022-12-13T08:35:03Z', 'body': 'A prosecutor in France has opened an investigation into the disappearance of an American college student who, his family says, has not been heard from in more than two weeks.'}, {'path': 'https://www.cnn.com/2022/12/12/politics/kyrsten-sinema-senate-democratic-reaction/index.html', 'type': 'article', 'headline': \"Kyrsten Sinema's potential 2024 run creates anxiety in Senate Democratic ranks\", 'thumbnail': 'https://cdn.cnn.com/cnnnext/dam/assets/220805052204-01-kyrsten-sinema-080422-story-body.jpg', 'sourceId': 'article_21A0A3DD-6892-11D1-1377-093EE1AED873', 'url': 'https://www.cnn.com/2022/12/12/politics/kyrsten-sinema-senate-democratic-reaction/index.html', 'lastModifiedDate': '2022-12-13T08:11:43Z', 'body': \"Sen. Kyrsten Sinema's surprise decision to become an independent has Democratic leaders struggling to answer a basic question: How should they deal with her if she runs for reelection in Arizona?\"}, {'path': 'https://www.cnn.com/2022/12/13/politics/trump-investigations-doj-analysis/index.html', 'type': 'article', 'headline': 'A moment of truth is fast approaching for both Trump and the DOJ', 'thumbnail': 'https://cdn.cnn.com/cnnnext/dam/assets/221208090544-trump-110722-file-story-body.jpg', 'sourceId': 'article_53487B92-1E46-F080-7499-0971CEF2FCC2', 'url': 'https://www.cnn.com/2022/12/13/politics/trump-investigations-doj-analysis/index.html', 'lastModifiedDate': '2022-12-13T08:01:11Z', 'body': 'Donald Trump is heading for a period of maximum legal and political risk over his role in the US Capitol insurrection and hoarding of classified documents that will collide with his efforts to electrify a low wattage 2024 White House bid.'}, {'path': 'https://www.cnn.com/videos/weather/2022/12/13/daily-weather-forecast-blizzard-snow-rain-flood-tornado-west-south-hail-wind.cnn', 'type': 'video', 'headline': 'Heavy snow and ice for the North and severe storm threat for the South', 'thumbnail': 'https://cdn.cnn.com/cnnnext/dam/assets/221213023251-rain-and-snow-story-body.jpg', 'sourceId': 'video_579B1395-2860-10C6-12E8-0A5FF2BB0149', 'url': 'https://www.cnn.com/videos/weather/2022/12/13/daily-weather-forecast-blizzard-snow-rain-flood-tornado-west-south-hail-wind.cnn', 'lastModifiedDate': '2022-12-13T07:39:50Z', 'body': 'The powerful storm continues to shift east, bringing ice and snow to parts of the North and a tornado and severe storm threat to the South. CNN meteorologist Britley Ritz has the forecast. '}, {'path': 'https://www.cnn.com/videos/world/2022/12/13/vadim-krasikov-moscow-prisoner-swap-paul-whelan-pleitgen-dnt-ac360-vpx.cnn', 'type': 'video', 'headline': \"Russia wanted this assassin set free in exchange for Whelan. See why he's in jail\", 'thumbnail': 'https://cdn.cnn.com/cnnnext/dam/assets/221212225334-vadim-krasikov-story-body.jpeg', 'sourceId': 'video_8F31775E-AF40-F110-9CC5-096731073097', 'url': 'https://www.cnn.com/videos/world/2022/12/13/vadim-krasikov-moscow-prisoner-swap-paul-whelan-pleitgen-dnt-ac360-vpx.cnn', 'lastModifiedDate': '2022-12-13T06:52:40Z', 'body': \"CNN's Fred Pleitgen explains who Vadim Krasikov, the Russian assassin Moscow officials want to trade for Paul Whelan, is and how his release could affect the relationship between Germany and the US. \"}, {'path': 'https://www.cnn.com/2022/12/13/australia/daniel-duggan-pilot-china-australia-intl-hnk/index.html', 'type': 'article', 'headline': 'Former US pilot held in Australia faces charges over training Chinese military pilot', 'thumbnail': 'https://cdn.cnn.com/cnnnext/dam/assets/221026103244-australian-federal-police-story-body.jpg', 'sourceId': 'article_19A6B2E0-7664-17C0-E998-09D613ABCAA7', 'url': 'https://www.cnn.com/2022/12/13/australia/daniel-duggan-pilot-china-australia-intl-hnk/index.html', 'lastModifiedDate': '2022-12-13T05:14:03Z', 'body': 'Former US Marine pilot Daniel Duggan, who was arrested earlier this year in Australia, is accused of breaking US arms control law by training Chinese military pilots to land on aircraft carriers, according to an indictment unsealed by a US court.'}]}\n",
      "{'message': 'success', 'meta': {'start': 4000, 'end': 4010, 'of': 56498, 'total': 10, 'maxScore': 0, 'duration': 0}, 'result': [{'path': 'https://www.cnn.com/2022/11/16/politics/house-majority-republican-plans/index.html', 'type': 'article', 'headline': 'What Republicans plan to do with their new House majority', 'thumbnail': 'https://cdn.cnn.com/cnnnext/dam/assets/221115183018-04-kevin-mccarthy-1115-story-body.jpg', 'sourceId': 'article_43331B34-D58A-BCE1-618C-82C4AEA5C92D', 'url': 'https://www.cnn.com/2022/11/16/politics/house-majority-republican-plans/index.html', 'lastModifiedDate': '2022-11-17T00:39:58Z', 'body': \"Winning the House majority, even with a smaller margin than they'd hoped, will give Republicans some newfound power to set the agenda when they take over the chamber in January.\"}, {'path': 'https://www.cnn.com/2022/11/16/politics/republicans-win-house-of-representatives/index.html', 'type': 'article', 'headline': 'Republicans will win the House, CNN projects', 'thumbnail': 'https://cdn.cnn.com/cnnnext/dam/assets/221106093920-01-us-capitol-file-2018-story-body.jpg', 'sourceId': 'article_7D78D008-9228-5BE3-1CD4-82C3E56B02C3', 'url': 'https://www.cnn.com/2022/11/16/politics/republicans-win-house-of-representatives/index.html', 'lastModifiedDate': '2022-11-17T16:23:16Z', 'body': 'Republicans will win the House of Representatives, CNN projects, in a victory that will fall short of their hopes of a \"red wave\" but thwart President Joe Biden\\'s domestic agenda and will likely subject his White House to relentless investigations.'}, {'path': 'https://www.cnn.com/2022/11/16/politics/senate-republicans-vote-same-sex-marriage/index.html', 'type': 'article', 'headline': '12 Republican senators voted to break a filibuster on same-sex marriage bill', 'thumbnail': 'https://cdn.cnn.com/cnnnext/dam/assets/220408121813-collins-romney-murkowski-split-story-body.jpg', 'sourceId': 'article_EFA72DEA-1D3A-A403-FFF6-82770999334D', 'url': 'https://www.cnn.com/2022/11/16/politics/senate-republicans-vote-same-sex-marriage/index.html', 'lastModifiedDate': '2022-11-17T00:16:53Z', 'body': 'The Senate voted 62-37 to break a filibuster to advance legislation that protects same-sex and interracial marriage, clearing a key 60-vote threshold putting the historic legislation on track to eventually be passed through the chamber.'}, {'path': 'https://www.cnn.com/2022/11/16/politics/california-midterm-election-counting-house-control/index.html', 'type': 'article', 'headline': 'Why it takes California so long to count its votes', 'thumbnail': 'https://cdn.cnn.com/cnnnext/dam/assets/221116110133-california-vote-counting-0909-restricted-story-body.jpg', 'sourceId': 'article_492E765D-C134-C579-9319-8107522CFDFA', 'url': 'https://www.cnn.com/2022/11/16/politics/california-midterm-election-counting-house-control/index.html', 'lastModifiedDate': '2022-11-17T00:15:50Z', 'body': 'Even after CNN projected on Wednesday that Republicans will win the House majority, five House races in California remained uncalled. That raises a perennial question: Why does it take California so long to count its votes?'}, {'path': 'https://www.cnn.com/videos/politics/2022/11/16/us-house-republican-take-control-vpx.cnn', 'type': 'video', 'headline': 'What the GOP taking control of the House means', 'thumbnail': 'https://cdn.cnn.com/cnnnext/dam/assets/201021084007-capitol-hill-1020-story-body.jpg', 'sourceId': 'video_D67551AF-2F30-59DB-662E-82D40DE01441', 'url': 'https://www.cnn.com/videos/politics/2022/11/16/us-house-republican-take-control-vpx.cnn', 'lastModifiedDate': '2022-11-16T23:53:07Z', 'body': \"Republicans will win control of the House of Representatives, CNN projects, reaching the threshold of 218 seats needed for a majority in the chamber. CNN's Manu Raju reports.\"}, {'path': 'https://www.cnn.com/videos/tv/2022/11/16/lead-matthew-chance-live.cnn', 'type': 'video', 'headline': 'The European Union\\'s top diplomat says the missile incident in Poland was the result of a \"wave of missile attacks on Ukrainian cities by Russia\"', 'thumbnail': 'https://cdn.cnn.com/cnnnext/dam/assets/221116173723-lead-matthew-chance-live-00033913-story-body.png', 'sourceId': 'video_61B61241-1D38-0B3F-67A7-8286EC9C2F86', 'url': 'https://www.cnn.com/videos/tv/2022/11/16/lead-matthew-chance-live.cnn', 'lastModifiedDate': '2022-11-16T23:33:17Z', 'body': \"CNN's Matthew Chance reports.\"}, {'path': 'https://www.cnn.com/videos/tv/2022/11/16/lead-john-berman-live.cnn', 'type': 'video', 'headline': 'Republicans are one seat away from securing slim House majority', 'thumbnail': 'https://cdn.cnn.com/cnnnext/dam/assets/221116171058-lead-john-berman-live-00020908-story-body.png', 'sourceId': 'video_46AEAFA7-3C9A-EDFD-934D-825F735A60A4', 'url': 'https://www.cnn.com/videos/tv/2022/11/16/lead-john-berman-live.cnn', 'lastModifiedDate': '2022-11-16T23:32:10Z', 'body': \"CNN's John Berman reports.\"}, {'path': 'https://www.cnn.com/videos/us/2022/11/16/texas-woman-abortion-near-death-amanda-eid-lead-contd-vpx.cnn', 'type': 'video', 'headline': 'Hear how a Texas woman almost died after being denied an abortion', 'thumbnail': 'https://cdn.cnn.com/cnnnext/dam/assets/221114143751-01-amanda-and-josh-zurawski-intv-screenshot-story-body.jpg', 'sourceId': 'video_DC2848A9-D24A-CEE6-E97E-828F0BB69D8F', 'url': 'https://www.cnn.com/videos/us/2022/11/16/texas-woman-abortion-near-death-amanda-eid-lead-contd-vpx.cnn', 'lastModifiedDate': '2022-11-16T23:01:17Z', 'body': \"Amanda Eid and Josh Zurawski share their terrifying experience after being denied an abortion due to Texas' strict anti-abortion laws. CNN's Elizabeth Cohen reports. \"}, {'path': 'https://www.cnn.com/2022/11/16/americas/lula-brazil-amazon-deforestation-climate-cop27-intl/index.html', 'type': 'article', 'headline': \"As scientists warn Brazil's rainforest is nearing a point of irreversible decline, Lula makes ambitious deforestation pledge\", 'thumbnail': 'https://cdn.cnn.com/cnnnext/dam/assets/221114165002-02-amazon-deforestation-file-091622-story-body.jpg', 'sourceId': 'article_9A8B37B7-2860-FCC6-3AD8-67EB84AC732A', 'url': 'https://www.cnn.com/2022/11/16/americas/lula-brazil-amazon-deforestation-climate-cop27-intl/index.html', 'lastModifiedDate': '2022-11-16T22:41:26Z', 'body': \"Lula has promised to reach zero deforestation in Brazil -- a substantially more ambitious pledge than his previous government's.\"}, {'path': 'https://www.cnn.com/2022/11/16/entertainment/candace-cameron-bure-jojo-siwa/index.html', 'type': 'article', 'headline': \"Candace Cameron Bure criticized by JoJo Siwa and others over 'traditional marriage' comment\", 'thumbnail': 'https://cdn.cnn.com/cnnnext/dam/assets/221116084543-02-candace-cameron-bure-jojo-siwa-split-story-body.jpg', 'sourceId': 'article_3CAEFC6F-F7F0-2597-6794-809F1BA814A7', 'url': 'https://www.cnn.com/2022/11/16/entertainment/candace-cameron-bure-jojo-siwa/index.html', 'lastModifiedDate': '2022-11-16T22:10:03Z', 'body': 'Months after they had a public back and forth, JoJo Siwa is voicing her disappointment with Candace Cameron Bure.'}]}\n",
      "{'message': 'success', 'meta': {'start': 5000, 'end': 5010, 'of': 56498, 'total': 10, 'maxScore': 0, 'duration': 0}, 'result': [{'path': 'https://www.cnn.com/videos/politics/2022/10/18/barack-obama-mistake-pod-save-america-sotu-bash-sullivan-intv-vpx.cnn', 'type': 'video', 'headline': \"Obama speaks out on 'mistake' during his presidency\", 'thumbnail': 'https://cdn.cnn.com/cnnnext/dam/assets/221018072552-obama-pod-save-america-vpx-story-body.jpeg', 'sourceId': 'video_A1FC2FBC-E0D5-22C5-F7E0-EACB0EF7B9C6', 'url': 'https://www.cnn.com/videos/politics/2022/10/18/barack-obama-mistake-pod-save-america-sotu-bash-sullivan-intv-vpx.cnn', 'lastModifiedDate': '2022-10-24T19:20:49Z', 'body': \"CNN's Dana Bash talks to National Security Adviser Jake Sullivan about how the Biden administration is responding to Iranian crackdowns on protestors, and how former President Obama compared his handling of protests to the current situation.\"}, {'path': 'https://www.cnn.com/videos/politics/2022/10/23/nevada-secretary-of-state-candidate-jim-marchant-ad-sotu-vpx.cnn', 'type': 'video', 'headline': \"'Truly deranged': Jake Tapper plays ad for GOP candidate who could win\", 'thumbnail': 'https://cdn.cnn.com/cnnnext/dam/assets/221023100526-jake-tapper-sotu-10-25-2022-story-body.jpg', 'sourceId': 'video_55D5CC8F-65A2-750D-60F9-052578673609', 'url': 'https://www.cnn.com/videos/politics/2022/10/23/nevada-secretary-of-state-candidate-jim-marchant-ad-sotu-vpx.cnn', 'lastModifiedDate': '2022-10-24T19:18:34Z', 'body': \"CNN's Jake Tapper plays an ad from Jim Marchant, the Republican Secretary of State candidate in Nevada, and discusses how election lies have become mainstream in the party.\"}, {'path': 'https://www.cnn.com/videos/tv/2022/10/24/amanpour-fraser-nelson-ayesha-hazarika-rishi-sunak.cnn', 'type': 'video', 'headline': 'The uphill economic battle facing new UK PM Rishi Sunak: Analysts weigh in', 'thumbnail': 'https://cdn.cnn.com/cnnnext/dam/assets/221024185444-amanpour-sunak-still-story-body.jpg', 'sourceId': 'video_36F0323B-BE5A-9D8F-E13D-0B21D5AF7F98', 'url': 'https://www.cnn.com/videos/tv/2022/10/24/amanpour-fraser-nelson-ayesha-hazarika-rishi-sunak.cnn', 'lastModifiedDate': '2022-10-24T18:52:37Z', 'body': 'Journalist Ayesha Hazarika and Editor of The Spectator Fraser Nelson join Christiane Amanpour to discuss the various challenges facing new UK Prime Minister Rishi Sunak.'}, {'path': 'https://www.cnn.com/videos/tv/2022/10/24/amanpour-clea-newman-paul-newman-extraordinary-life-ordinary-man.cnn', 'type': 'video', 'headline': \"Paul Newman's daughter: His struggles and triumphs 'give me great hope'\", 'thumbnail': 'https://cdn.cnn.com/cnnnext/dam/assets/221024141431-amanpour-newman-story-body.jpg', 'sourceId': 'video_16FEC670-0889-FCF4-A83A-0B2BF6A1DC67', 'url': 'https://www.cnn.com/videos/tv/2022/10/24/amanpour-clea-newman-paul-newman-extraordinary-life-ordinary-man.cnn', 'lastModifiedDate': '2022-10-24T18:40:10Z', 'body': 'Clea Newman Soderlund is inspired by her father\\'s resilience, as chronicled in his memoir, \"Paul Newman: The Extraordinary Life of an Ordinary Man.\"'}, {'path': 'https://www.cnn.com/2022/10/23/entertainment/creepy-doll-movies/index.html', 'type': 'article', 'headline': \"'M3GAN,' the next generation of creepy doll movies, is not playing around\", 'thumbnail': 'https://cdn.cnn.com/cnnnext/dam/assets/221022144525-01-doll-horror-movies-halloween-story-body.jpg', 'sourceId': 'article_5DFEB43C-9B29-6235-9F44-F2206C851E6E', 'url': 'https://www.cnn.com/2022/10/23/entertainment/creepy-doll-movies/index.html', 'lastModifiedDate': '2022-10-24T18:21:19Z', 'body': ''}, {'path': 'https://www.cnn.com/style/article/edward-enninful-vogue-amanpour-a-visble-man-oct/index.html', 'type': 'article', 'headline': \"Vogue's Edward Enninful addresses speculation about his next job\", 'thumbnail': 'https://cdn.cnn.com/cnnnext/dam/assets/221024105649-03-edward-enninful-interview-october-2022-restricted-story-body.jpg', 'sourceId': 'article_AF9E0B5C-0615-F5AA-BDD8-0B2833F588F7', 'url': 'https://www.cnn.com/style/article/edward-enninful-vogue-amanpour-a-visble-man-oct/index.html', 'lastModifiedDate': '2022-10-24T18:17:39Z', 'body': 'Despite speculation that he\\'s next in line to take the top editorial seat at Vogue, currently occupied by Anna Wintour, Enninful said in an exclusive interview with CNN, \"I don\\'t want Anna\\'s job,\" but suggested other changes may be on the horizon.'}, {'path': 'https://www.cnn.com/videos/fashion/2022/10/24/edward-enninful-amanpour-vogue-anna-wintour.cnn', 'type': 'video', 'headline': \"British Vogue editor Edward Enninful: 'I don't want Anna [Wintour]'s job' at US Vogue\", 'thumbnail': 'https://cdn.cnn.com/cnnnext/dam/assets/221024161330-amanpour-edward-enninful-story-body.jpg', 'sourceId': 'video_73DB320C-F114-6B60-8F69-0A999ED1D587', 'url': 'https://www.cnn.com/videos/fashion/2022/10/24/edward-enninful-amanpour-vogue-anna-wintour.cnn', 'lastModifiedDate': '2022-10-24T17:36:43Z', 'body': 'Editor-in-Chief of British Vogue Edward Enninful rules out a move to American Vogue and tells Christiane Amanpour his future is beyond \"one magazine.\"'}, {'path': 'https://www.cnn.com/2022/10/24/economy/nabe-business-conditions-survey-october/index.html', 'type': 'article', 'headline': 'Almost two-thirds of economists think the economy is in or near a recession', 'thumbnail': 'https://cdn.cnn.com/cnnnext/dam/assets/221021161106-us-recession-odds-restricted-story-body.jpg', 'sourceId': 'article_98AA439B-6F20-C474-24A8-FBA3D5D3D2CE', 'url': 'https://www.cnn.com/2022/10/24/economy/nabe-business-conditions-survey-october/index.html', 'lastModifiedDate': '2022-10-24T17:24:12Z', 'body': 'Almost two-thirds of corporate economists believe the United States is already in a recession or will be within the next 12 months, according to the latest survey from the National Association for Business Economics.'}, {'path': 'https://www.cnn.com/2022/10/24/economy/goldman-sachs-accidental-recession-warning/index.html', 'type': 'article', 'headline': 'The risk of an accidental recession is rising, Goldman Sachs says', 'thumbnail': 'https://cdn.cnn.com/cnnnext/dam/assets/221024115736-02-us-housing-market-story-body.jpg', 'sourceId': 'article_CA8040FB-579D-4908-A489-0A8A6D7448BB', 'url': 'https://www.cnn.com/2022/10/24/economy/goldman-sachs-accidental-recession-warning/index.html', 'lastModifiedDate': '2022-10-24T16:45:06Z', 'body': 'Goldman Sachs is urging the Federal Reserve to be patient in its quest to squash inflation.'}, {'path': 'https://www.cnn.com/travel/article/airlines-criticize-dot-request-flight-delay-compensation/index.html', 'type': 'article', 'headline': \"Airlines critical of DOT's latest effort to publicize flight delay compensation\", 'thumbnail': 'https://cdn.cnn.com/cnnnext/dam/assets/220920092916-02-airport-satisfaction-study-newark-2022-story-body.jpg', 'sourceId': 'article_99D9FCAE-D145-BA51-D46E-0A69DD91B75D', 'url': 'https://www.cnn.com/travel/article/airlines-criticize-dot-request-flight-delay-compensation/index.html', 'lastModifiedDate': '2022-10-24T16:28:32Z', 'body': \"Major US airlines are criticizing the Biden administration's latest plans to publicly pressure them into offering additional passenger benefits.\"}]}\n",
      "{'message': 'success', 'meta': {'start': 6000, 'end': 6010, 'of': 63320, 'total': 10, 'maxScore': 0, 'duration': 0}, 'result': [{'path': 'https://www.cnn.com/videos/us/2022/10/08/kent-carter-arlington-naacp-killed-dnt-vpx.wusa', 'type': 'video', 'headline': 'NAACP Arlington leader killed in shootout in Turks and Caicos', 'thumbnail': 'https://cdn.cnn.com/cnnnext/dam/assets/221007215648-kent-carter-wusa-story-body.jpg', 'sourceId': 'video_1625FF74-8959-081D-A9F7-B5420328A58D', 'url': 'https://www.cnn.com/videos/us/2022/10/08/kent-carter-arlington-naacp-killed-dnt-vpx.wusa', 'lastModifiedDate': '2022-10-08T02:39:37Z', 'body': \"Kent Carter, vice president of the NAACP's Arlington, Virginia, branch, was shot and killed Sunday while vacationing in Turks & Caicos, according to statements from the NAACP and the Royal Turks and Caicos Islands Police Force. CNN affiliate WUSA talked to the president of the Arlington NAACP branch.\"}, {'path': 'https://www.cnn.com/2022/10/07/politics/arizona-abortion-ban-appeals-court/index.html', 'type': 'article', 'headline': 'Arizona appeals court temporarily blocks enforcement of near-total abortion ban', 'thumbnail': 'https://cdn.cnn.com/cnnnext/dam/assets/221007180129-az-abortion-protests-0624-story-body.jpg', 'sourceId': 'article_7B11AFBF-9BC3-D05A-5B72-B521B2B67B87', 'url': 'https://www.cnn.com/2022/10/07/politics/arizona-abortion-ban-appeals-court/index.html', 'lastModifiedDate': '2022-10-08T02:30:50Z', 'body': 'An Arizona appeals court on Friday temporarily blocked the enforcement of a ban on nearly all abortions across the state after a three-judge panel voted to grant an emergency stay filed by Planned Parenthood, court documents show.'}, {'path': 'https://www.cnn.com/2022/10/07/us/las-vegas-stabbing-suspect-court/index.html', 'type': 'article', 'headline': 'Suspect in deadly Vegas Strip stabbings appears in court', 'thumbnail': 'https://cdn.cnn.com/cnnnext/dam/assets/221007152921-yoni-barrios-court-appearance-1007-story-body.jpg', 'sourceId': 'article_84A7F71C-664C-CDF6-FD8A-B483327F22CD', 'url': 'https://www.cnn.com/2022/10/07/us/las-vegas-stabbing-suspect-court/index.html', 'lastModifiedDate': '2022-10-08T01:55:07Z', 'body': 'A man arrested in connection with a series of fatal stabbings on the Las Vegas Strip made an initial court appearance Friday.'}, {'path': 'https://www.cnn.com/2022/10/07/us/uvalde-police-department-suspended/index.html', 'type': 'article', 'headline': 'Uvalde school district suspends its police force, 2 school officials placed on administrative leave after CNN report', 'thumbnail': 'https://cdn.cnn.com/cnnnext/dam/assets/221007131829-uvalde-school-district-police-1007-story-body.jpg', 'sourceId': 'article_689EE030-4E39-67FC-E9AC-B361E9D6D3BB', 'url': 'https://www.cnn.com/2022/10/07/us/uvalde-police-department-suspended/index.html', 'lastModifiedDate': '2022-10-08T01:47:16Z', 'body': 'The Uvalde Consolidated Independent School District said Friday it had suspended its school police force, less than five months after the attack that left 19 children and two teachers dead.'}, {'path': 'https://www.cnn.com/2022/10/07/politics/us-postal-service-price-hikes/index.html', 'type': 'article', 'headline': \"US Postal Service proposes new prices 'to offset' inflation\", 'thumbnail': 'https://cdn.cnn.com/cnnnext/dam/assets/221007172427-postal-trucks-file-story-body.jpg', 'sourceId': 'article_BF2EA5F9-0C59-A7DF-71A1-B4EFB3AAC2D9', 'url': 'https://www.cnn.com/2022/10/07/politics/us-postal-service-price-hikes/index.html', 'lastModifiedDate': '2022-10-08T01:06:41Z', 'body': 'The US Postal Service on Friday proposed increased prices \"to offset the rise in inflation,\" according to a statement from the agency.'}, {'path': 'https://www.cnn.com/videos/world/2022/10/07/ukraine-liberated-town-dudchany-npw-tsr-pkg-vpx.cnn', 'type': 'video', 'headline': 'See rare access inside a newly liberated Ukrainian town', 'thumbnail': 'https://cdn.cnn.com/cnnnext/dam/assets/221007193355-npw-dudchany-story-body.jpg', 'sourceId': 'video_BC9E4E7F-0B8C-15C5-04EA-B4AF859F8232', 'url': 'https://www.cnn.com/videos/world/2022/10/07/ukraine-liberated-town-dudchany-npw-tsr-pkg-vpx.cnn', 'lastModifiedDate': '2022-10-07T23:52:40Z', 'body': \"CNN's Nick Paton Walsh gets rare access into the newly liberated town of Dudchany, Ukraine, and sees firsthand how civilians in this town are adjusting to the Russian retreat. \\n\"}, {'path': 'https://www.cnn.com/videos/politics/2022/10/07/judge-aileen-cannon-donald-trump-doj-mar-a-lago-documents-schneider-pkg-ac-360-vpx.cnn', 'type': 'video', 'headline': \"Here's why Trump-appointed judge Aileen Cannon's decisions are under scrutiny\", 'thumbnail': 'https://cdn.cnn.com/cnnnext/dam/assets/220906162006-aileen-cannon-and-donald-trump-story-body.jpg', 'sourceId': 'video_7F44480C-3250-46A0-DEFE-B4AE7CA5A4F9', 'url': 'https://www.cnn.com/videos/politics/2022/10/07/judge-aileen-cannon-donald-trump-doj-mar-a-lago-documents-schneider-pkg-ac-360-vpx.cnn', 'lastModifiedDate': '2022-10-07T23:37:35Z', 'body': \"Amid the ongoing battle between former President Donald Trump and the Department of Justice over the documents seized from Trump's Mar-a-Lago home, decisions made by federal judge Aileen Cannon, a Trump appointee, are being questioned.\"}, {'path': 'https://www.cnn.com/2022/10/07/americas/argentina-minister-quits-mapuche-evictions-intl/index.html', 'type': 'article', 'headline': 'Argentinian minister quits in protest over detention of indigenous leaders', 'thumbnail': 'https://cdn.cnn.com/cnnnext/dam/assets/221007141544-02-argentina-mapuche-eviction-story-body.jpg', 'sourceId': 'article_AAF4E852-9BDB-5B58-1B60-B4300B75D710', 'url': 'https://www.cnn.com/2022/10/07/americas/argentina-minister-quits-mapuche-evictions-intl/index.html', 'lastModifiedDate': '2022-10-07T23:32:11Z', 'body': \"The high-profile detention of several indigenous women leaders in Argentina this week has prompted Argentina's Minister for Women, Gender and Diversity, Elizabeth Gomez, to resign in protest on Friday, according to state news agency Telam.\"}, {'path': 'https://www.cnn.com/videos/tv/2022/10/07/the-lead-panel-live.cnn', 'type': 'video', 'headline': 'Panelist: Wisconsin Senate race a \"cautionary tale about the dangers of being held captive\" by your base', 'thumbnail': 'https://cdn.cnn.com/cnnnext/dam/assets/221007175519-the-lead-panel-live-00004402-story-body.png', 'sourceId': 'video_A25D35FA-105F-16CB-9B54-B45EE76E0CCC', 'url': 'https://www.cnn.com/videos/tv/2022/10/07/the-lead-panel-live.cnn', 'lastModifiedDate': '2022-10-07T23:01:51Z', 'body': 'The Lead panel discusses.'}, {'path': 'https://www.cnn.com/videos/world/2022/10/07/iran-protester-death-outrage-karadsheh-lead-vpx.cnn', 'type': 'video', 'headline': 'Renewed outrage after Amnesty Intl. says 16-year-old protester beaten to death', 'thumbnail': 'https://cdn.cnn.com/cnnnext/dam/assets/221007182552-iran-protester-death-karadsheh-10072022-story-body.jpg', 'sourceId': 'video_A548A799-72E5-97D0-2E49-B47EAFE3A597', 'url': 'https://www.cnn.com/videos/world/2022/10/07/iran-protester-death-outrage-karadsheh-lead-vpx.cnn', 'lastModifiedDate': '2022-10-07T22:50:19Z', 'body': \"Amnesty International says a 16-year-old girl protesting against Iran's oppressive laws was beaten to death by Iranian security forces.  The government denies these claims.  CNN's Jomana Karadsheh reports.\"}]}\n",
      "{'message': 'success', 'meta': {'start': 7000, 'end': 7010, 'of': 63320, 'total': 10, 'maxScore': 0, 'duration': 0}, 'result': [{'path': 'https://www.cnn.com/2022/09/16/uk/queen-royal-grandchildren-vigil-gbr-intl-scli/index.html', 'type': 'article', 'headline': \"Prince William and Prince Harry to stand vigil at Queen's coffin on Saturday\", 'thumbnail': 'https://cdn.cnn.com/cnnnext/dam/assets/220916115336-02-prince-william-and-prince-harry-story-body.jpg', 'sourceId': 'article_9C2FDAE7-A029-B9FE-AEB8-459A3808D364', 'url': 'https://www.cnn.com/2022/09/16/uk/queen-royal-grandchildren-vigil-gbr-intl-scli/index.html', 'lastModifiedDate': '2022-09-16T14:52:13Z', 'body': \"The late Queen Elizabeth II's eight grandchildren will stand vigil beside her coffin in Westminster Hall on Saturday evening, a royal source told CNN.\"}, {'path': 'https://www.cnn.com/videos/sports/2022/09/16/roger-federer-laughing-at-speaking-spanish-spt-intl.cnn', 'type': 'video', 'headline': \"The day Roger Federer couldn't stop laughing at CNN correspondent's Spanish phrases\", 'thumbnail': 'https://cdn.cnn.com/cnnnext/dam/assets/220915214710-roger-federer-intento-hablar-espanol-entrevista-pedro-pinto-tenis-deportes-cnn-00002315-story-body.png', 'sourceId': 'video_153B9F8B-3770-8935-9568-4551594924D3', 'url': 'https://www.cnn.com/videos/sports/2022/09/16/roger-federer-laughing-at-speaking-spanish-spt-intl.cnn', 'lastModifiedDate': '2022-09-16T09:27:28Z', 'body': \"Roger Federer has had an illustrious career in tennis, filled with elegant play and love from around the world. But on one day in 2009, the 20-time grand slam winner couldn't stop laughing at former CNN Sport correspondent Pedro Pinto's Spanish.\"}, {'path': 'https://www.cnn.com/2022/09/15/politics/alexandria-ocasio-cortez-clay-higgins-environmental-lawyer-climate-oil-hearing/index.html', 'type': 'article', 'headline': \"Ocasio-Cortez calls out GOP lawmaker for 'disrespect' shown to environmental lawyer in heated exchange\", 'thumbnail': 'https://cdn.cnn.com/cnnnext/dam/assets/220915160835-01-aoc-salter-0915-story-body.jpg', 'sourceId': 'article_E0AC62FD-1AAA-1C17-BB22-435B8906451D', 'url': 'https://www.cnn.com/2022/09/15/politics/alexandria-ocasio-cortez-clay-higgins-environmental-lawyer-climate-oil-hearing/index.html', 'lastModifiedDate': '2022-09-16T09:10:20Z', 'body': \"Democratic Rep. Alexandria Ocasio-Cortez on Thursday condemned Republican Rep. Clay Higgins' treatment of an environmental lawyer during a congressional hearing on the climate crisis.\"}, {'path': 'https://www.cnn.com/videos/weather/2022/09/16/daily-weather-forecast-tropical-storm-fiona-rain-west-california.cnn', 'type': 'video', 'headline': 'Rain for areas of western California and your weekend forecast', 'thumbnail': 'https://cdn.cnn.com/cnnnext/dam/assets/220916045138-storma-cali-totals-story-body.jpg', 'sourceId': 'video_B7A808F2-B82E-021F-30A5-4576FA01A8FC', 'url': 'https://www.cnn.com/videos/weather/2022/09/16/daily-weather-forecast-tropical-storm-fiona-rain-west-california.cnn', 'lastModifiedDate': '2022-09-16T09:03:07Z', 'body': 'A trough will bring much needed rain for areas of drought-stricken California and we continue to track the Tropics. CNN meteorologist Derek Van Dam has the latest forecast.'}, {'path': 'https://www.cnn.com/videos/world/2022/09/16/ukraine-izium-mass-burial-site-intl-hnk-vpx.cnn', 'type': 'video', 'headline': 'At least 440 unmarked graves found in recently liberated Ukrainian town', 'thumbnail': 'https://cdn.cnn.com/cnnnext/dam/assets/220915221939-05-ukraine-izium-mass-burial-site-intl-hnk-story-body.jpeg', 'sourceId': 'video_A5E00AC0-8A29-8501-536A-455A9DD93DD1', 'url': 'https://www.cnn.com/videos/world/2022/09/16/ukraine-izium-mass-burial-site-intl-hnk-vpx.cnn', 'lastModifiedDate': '2022-09-17T00:56:18Z', 'body': \"Ukraine's Defense Ministry says at least 440 unmarked graves were found in the city of Izium in recent days. The country's officials say some of the bodies found showed signs of torture. CNN's Nick Paton Walsh has more. \"}, {'path': 'https://www.cnn.com/2022/09/16/business-food/king-charles-duchy-originals-waitrose/index.html', 'type': 'article', 'headline': 'Charles the Entrepreneur? How the new king built a top organic food brand', 'thumbnail': 'https://cdn.cnn.com/cnnnext/dam/assets/220914145521-01-charles-duchy-originals-story-body.jpg', 'sourceId': 'article_A5C864BC-AC71-B4DE-8008-3CD86822145B', 'url': 'https://www.cnn.com/2022/09/16/business-food/king-charles-duchy-originals-waitrose/index.html', 'lastModifiedDate': '2022-09-16T08:52:00Z', 'body': \"For years, King Charles was preparing to step into the role of monarch following Queen Elizabeth's history-making reign. In the meantime, he was holding down another job: Owner of a profitable business.\"}, {'path': 'https://www.cnn.com/2022/09/16/uk/gallery/king-george-vi-funeral/index.html', 'type': 'gallery', 'headline': 'What Britain looked like the last time a monarch died', 'thumbnail': 'https://cdn.cnn.com/cnnnext/dam/assets/220914152939-06b-king-george-vi-funeral-gallery-story-body.jpg', 'sourceId': 'gallery_42B0ACF2-2137-F115-E427-3D5174382547', 'url': 'https://www.cnn.com/2022/09/16/uk/gallery/king-george-vi-funeral/index.html', 'lastModifiedDate': '2022-09-16T08:50:03Z', 'body': \"As the United Kingdom mourns Queen Elizabeth II, only a minority will remember first-hand what life was like the last time the country buried a monarch.\\nImages taken in 1952 following the death of the Queen's father, King George VI, reveal just how much the country — and the world — have changed.\\nJust like today, crowds poured into central London in February of that year, hoping to catch a glimpse of George VI's funeral procession. But while the time-honored ceremonies remain much the same, the people watching them look quite different.\\nBack then, almost everyone in the streets was White and more formally dressed, most likely wearing a hat and overcoat. Food rationing was still in place following World War II, and memories of its suffering were fresh in people's minds. Only about 1.5 million homes had a television set, so for many Britons this would be their sole chance beyond newspaper and radio reports to witness events. Some on the thronged streets of the funeral procession route held mirrors aloft in an attempt to catch a glimpse over fellow mourners' heads.\\nWhen the Queen's coffin traveled from Buckingham Palace to Westminster Hall on Wednesday, there was a sea of smartphones above the crowd of people. The faces were more diverse and many were in casual clothes, some wearing Union Jack-themed attire. Modern technology will bring the ceremonies live to millions more around the world.\\nWhat hasn't changed is the sense of history being made — and people's desire to be a part of that process.\"}, {'path': 'https://www.cnn.com/2022/09/16/europe/anti-monarchy-protests-police-intl-gbr/index.html', 'type': 'article', 'headline': \"'Not my King': Anti-monarchy protesters face police crackdown in the UK\", 'thumbnail': 'https://cdn.cnn.com/cnnnext/dam/assets/220915111547-03-anti-monarchy-protesters-story-body.jpg', 'sourceId': 'article_0E53A737-FBEA-34F2-5C21-3C904BDE891E', 'url': 'https://www.cnn.com/2022/09/16/europe/anti-monarchy-protests-police-intl-gbr/index.html', 'lastModifiedDate': '2022-09-16T08:52:21Z', 'body': 'While thousands of people have taken to the streets of the United Kingdom to remember Queen Elizabeth II following her death last week, critics of the monarchy have used this opportunity to protest.'}, {'path': 'https://www.cnn.com/style/article/great-star-of-africa-diamond-intl-lgs/index.html', 'type': 'article', 'headline': \"Royal gift or 'stolen' gem? Calls for UK to return 500 carat Great Star of Africa diamond\", 'thumbnail': 'https://cdn.cnn.com/cnnnext/dam/assets/220912080857-01-royal-sceptre-file-story-body.jpg', 'sourceId': 'article_F7B468F5-C4F5-01D6-5004-322225684207', 'url': 'https://www.cnn.com/style/article/great-star-of-africa-diamond-intl-lgs/index.html', 'lastModifiedDate': '2022-09-16T08:42:00Z', 'body': \"Calls are growing in South Africa for Britain's royal family to return the world's largest known clear-cut diamond in the wake of Queen Elizabeth II's death.\"}, {'path': 'https://www.cnn.com/2022/09/15/us/california-mosquito-wildfire-thursday/index.html', 'type': 'article', 'headline': 'The Mosquito Fire forced her out of her home. Days later, another blaze threatened the town where she found shelter', 'thumbnail': 'https://cdn.cnn.com/cnnnext/dam/assets/220914211318-03-mosquito-fire-foresthill-file-091322-story-body.jpg', 'sourceId': 'article_4C3A27EB-2961-EFBB-3DD9-3E7FA0329460', 'url': 'https://www.cnn.com/2022/09/15/us/california-mosquito-wildfire-thursday/index.html', 'lastModifiedDate': '2022-09-16T08:30:32Z', 'body': \"Last week, Janet Stickler was forced to evacuate the trailer she lived in as the Mosquito Fire -- a raging blaze that has become California's biggest this year -- was inching closer to the community of Garden Valley.\"}]}\n",
      "{'message': 'success', 'meta': {'start': 8000, 'end': 8010, 'of': 56498, 'total': 10, 'maxScore': 0, 'duration': 0}, 'result': [{'path': 'https://www.cnn.com/2022/08/15/us/brittney-griner-appeal/index.html', 'type': 'article', 'headline': \"Brittney Griner's defense team appeals verdict sentencing her to 9 years on drug smuggling\", 'thumbnail': 'https://cdn.cnn.com/cnnnext/dam/assets/220815053235-02-brittney-griner-080422-file-story-body.jpg', 'sourceId': 'article_B3AC9100-3145-8D6B-AEFD-A0D47531D42B', 'url': 'https://www.cnn.com/2022/08/15/us/brittney-griner-appeal/index.html', 'lastModifiedDate': '2022-08-15T13:47:55Z', 'body': \"Brittney Griner's legal team has filed an appeal against a Russian court's verdict sentencing the WNBA star to nine years in prison for smuggling drugs into Russia, Griner's lawyer told CNN on Monday, days after the Russian government confirmed for the first time discussions about a potential prisoner swap involving a convicted Russian arms dealer.\"}, {'path': 'https://www.cnn.com/videos/world/2022/08/15/taliban-kabul-one-year-later-live-ward-newday-intl-ldn-vpx.cnn', 'type': 'video', 'headline': \"Video: See what it's like in Kabul one year after the city fell to Taliban\", 'thumbnail': 'https://cdn.cnn.com/cnnnext/dam/assets/220815080228-taliban-anniversary-ward-kabul-video-thumbnail-1-story-body.jpg', 'sourceId': 'video_4F35AE00-E13B-2650-691F-A1535B621F36', 'url': 'https://www.cnn.com/videos/world/2022/08/15/taliban-kabul-one-year-later-live-ward-newday-intl-ldn-vpx.cnn', 'lastModifiedDate': '2022-08-15T13:33:05Z', 'body': \"CNN's Chief International Correspondent Clarissa Ward returns to Kabul one year after the Taliban's takeover and reports in front of the US embassy. The Taliban's Ministry of Labor and Social Affairs declared August 15 a public holiday to mark what it considers a victory against the United States and western forces. \"}, {'path': 'https://www.cnn.com/2022/08/15/investing/premarket-stocks-trading/index.html', 'type': 'article', 'headline': \"New business taxes are coming. Wall Street isn't worried\", 'thumbnail': 'https://cdn.cnn.com/cnnnext/dam/assets/220815074027-01-nyse-file-story-body.jpg', 'sourceId': 'article_652F0E56-BC99-F056-589F-A163F6FEF1A5', 'url': 'https://www.cnn.com/2022/08/15/investing/premarket-stocks-trading/index.html', 'lastModifiedDate': '2022-08-15T12:29:12Z', 'body': 'The most powerful business lobby in the United States is not a fan of the landmark heath care and climate package President Joe Biden is expected to shortly sign into law.'}, {'path': 'https://www.cnn.com/2022/08/15/us/fema-kentucky-flood-insurance-climate-change-invs/index.html', 'type': 'article', 'headline': \"'We thought we were safe': Kentucky disaster shows how US is ill-prepared and under-insured for devastating floods\", 'thumbnail': 'https://cdn.cnn.com/cnnnext/dam/assets/220811174649-kentucky-flooding-damage-file-073022-story-body.jpg', 'sourceId': 'article_F251FAEE-CBAB-4A24-7DB6-883BE94E928A', 'url': 'https://www.cnn.com/2022/08/15/us/fema-kentucky-flood-insurance-climate-change-invs/index.html', 'lastModifiedDate': '2022-08-15T11:38:14Z', 'body': 'When Bob and Debbie Smith signed up for flood insurance years ago, they never expected the storm that transformed the little river next to their backyard into a raging, muddy torrent. They never imagined that they and their cat would need to be rescued from their front porch by a neighbor with a boat as the floodwater reached up to their chests.'}, {'path': 'https://www.cnn.com/2022/08/15/politics/republicans-garland-trump-home-search-analysis/index.html', 'type': 'article', 'headline': 'Republicans pressure Garland as intrigue deepens over search of Trump home', 'thumbnail': 'https://cdn.cnn.com/cnnnext/dam/assets/220814203055-mar-a-lago-search-trump-republicans-garland-story-body.jpg', 'sourceId': 'article_8A126923-DBB0-5D21-A068-9EC68BD836A3', 'url': 'https://www.cnn.com/2022/08/15/politics/republicans-garland-trump-home-search-analysis/index.html', 'lastModifiedDate': '2022-08-15T11:11:00Z', 'body': \"The FBI's stunning search of ex-President Donald Trump's home triggered a legal and political earthquake whose aftershocks are only widening a week on, with key questions that will shape the nation's future still clouded in mystery.\"}, {'path': 'https://www.cnn.com/2022/08/15/us/five-things-august-15-trnd/index.html', 'type': 'article', 'headline': '5 things to know for Aug. 15: Floods, FBI Search, Taiwan, Health care strike, India', 'thumbnail': 'https://cdn.cnn.com/cnnnext/dam/assets/220812105215-01-las-vegas-monsoon-rain-0811-story-body.jpg', 'sourceId': 'article_2E31E4B6-7EE7-4C00-DF2F-5E70B5A3B35C', 'url': 'https://www.cnn.com/2022/08/15/us/five-things-august-15-trnd/index.html', 'lastModifiedDate': '2022-08-15T10:44:17Z', 'body': \"Here's what else you need to know to Get Up to Speed and On with Your Day.\"}, {'path': 'https://www.cnn.com/videos/world/2022/08/15/taliban-spokesperson-al-qaeda-ayman-al-zawahiri-clarissa-ward-intv-intl-ovn-hnk-vpx.cnn', 'type': 'video', 'headline': 'How can the US possibly trust the Taliban?: Clarissa Ward presses Taliban spokesman', 'thumbnail': 'https://cdn.cnn.com/cnnnext/dam/assets/220815164338-split-clarissa-ward-taliban-spox-story-body.jpg', 'sourceId': 'video_1A23E03A-A495-A576-13D4-A09B976EA054', 'url': 'https://www.cnn.com/videos/world/2022/08/15/taliban-spokesperson-al-qaeda-ayman-al-zawahiri-clarissa-ward-intv-intl-ovn-hnk-vpx.cnn', 'lastModifiedDate': '2022-08-15T09:03:49Z', 'body': \"On the one-year anniversary of the Taliban's takeover of Afghanistan, CNN's Clarissa Ward sits down with Taliban spokesman Abdul Qahar Balkhi to discuss the killing of former al Qaeda leader Ayman al-Zawahiri by a US drone strike and the Taliban's claims they were unaware of al-Zawahiri's presence in Kabul.\"}, {'path': 'https://www.cnn.com/videos/weather/2022/08/15/daily-weather-forecast-heat-california-storms-midwest-southeast.cnn', 'type': 'video', 'headline': 'Storms for the Midwest and warmer weather for the West', 'thumbnail': 'https://cdn.cnn.com/cnnnext/dam/assets/220815030528-storm-threat-mon-story-body.jpg', 'sourceId': 'video_0DD937D1-1E6E-2CD1-81C7-A0539905B283', 'url': 'https://www.cnn.com/videos/weather/2022/08/15/daily-weather-forecast-heat-california-storms-midwest-southeast.cnn', 'lastModifiedDate': '2022-08-15T07:59:46Z', 'body': 'A stationary front will bring showers and storms across areas of the US, meanwhile temperatures are on the rise for California and south-central US. CNN meteorologist Pedram Javaheri has the latest forecast.\\xa0'}, {'path': 'https://www.cnn.com/videos/world/2022/08/15/india-pakistan-partition-75-year-anniversary-ovn-intl-hnk-vpx.cnn', 'type': 'video', 'headline': 'See the flag ceremony performed at the India-Pakistan border', 'thumbnail': 'https://cdn.cnn.com/cnnnext/dam/assets/220815143927-screengrab-india-pakistan-flag-ceremony-story-body.jpeg', 'sourceId': 'video_0D53A094-47C7-1818-C6AC-A007DC7182C0', 'url': 'https://www.cnn.com/videos/world/2022/08/15/india-pakistan-partition-75-year-anniversary-ovn-intl-hnk-vpx.cnn', 'lastModifiedDate': '2022-08-15T06:41:27Z', 'body': \"India is marking its 75th anniversary of independence from British rule. It's an anniversary also shared by Pakistan, which was created by the partition of India at the end of British colonial rule in 1947. \"}, {'path': 'https://www.cnn.com/2022/08/14/us/six-flags-shooting-gurnee-illinois/index.html', 'type': 'article', 'headline': 'Three injured in shooting at Six Flags Great America in Illinois', 'thumbnail': 'https://cdn.cnn.com/cnnnext/dam/assets/220815021808-six-flags-shooting-gurnee-illinois-story-body.jpg', 'sourceId': 'article_835FCE0B-7C70-A855-8C3B-9F22E37DFF71', 'url': 'https://www.cnn.com/2022/08/14/us/six-flags-shooting-gurnee-illinois/index.html', 'lastModifiedDate': '2022-08-15T06:25:57Z', 'body': 'Three people were injured in a shooting in the parking lot of the Six Flags Great America amusement park in Gurnee, Illinois, Sunday night, the park and police confirmed.'}]}\n",
      "{'message': 'success', 'meta': {'start': 9000, 'end': 9010, 'of': 63320, 'total': 10, 'maxScore': 0, 'duration': 0}, 'result': [{'path': 'https://www.cnn.com/2022/08/01/politics/trump-candidate-michigan-governor-primary/index.html', 'type': 'article', 'headline': \"Trump's choice in Michigan gubernatorial primary faces criticism that she isn't 'MAGA' enough\", 'thumbnail': 'https://cdn.cnn.com/cnnnext/dam/assets/220801171118-tudor-dixon-file-070622-story-body.jpg', 'sourceId': 'article_419CB4A9-DADE-6FFB-C914-5B30BEA61EA5', 'url': 'https://www.cnn.com/2022/08/01/politics/trump-candidate-michigan-governor-primary/index.html', 'lastModifiedDate': '2022-08-01T22:13:59Z', 'body': \"In Michigan's jam-packed Republican primary fight for governor, former President Donald Trump is trying to tip the scales.\"}, {'path': 'https://www.cnn.com/2022/08/01/politics/rep-peter-meijer-michigan-gop-primary/index.html', 'type': 'article', 'headline': 'Michigan congressman slams Democrats for meddling in his primary', 'thumbnail': 'https://cdn.cnn.com/cnnnext/dam/assets/220801153859-peter-meijer-file-restricted-051222-story-body.jpg', 'sourceId': 'article_B0FF435A-25D6-637B-E24B-5ACB46252949', 'url': 'https://www.cnn.com/2022/08/01/politics/rep-peter-meijer-michigan-gop-primary/index.html', 'lastModifiedDate': '2022-08-01T22:04:50Z', 'body': \"In the final days of Rep. Peter Meijer's close fight for his party's nomination, the Michigan Republican and his allies are slamming Democrats for meddling in Tuesday's GOP primary.\"}, {'path': 'https://www.cnn.com/2022/08/01/sport/deshaun-watson-nfl-suspension-decision-spt-intl/index.html', 'type': 'article', 'headline': 'Cleveland Browns quarterback Deshaun Watson suspended for six games for sexual misconduct allegations', 'thumbnail': 'https://cdn.cnn.com/cnnnext/dam/assets/220601062622-cleveland-deshaun-watson-052522-story-body.jpg', 'sourceId': 'article_9E6BCE8A-9807-AB41-6C7D-583C0BF7458E', 'url': 'https://www.cnn.com/2022/08/01/sport/deshaun-watson-nfl-suspension-decision-spt-intl/index.html', 'lastModifiedDate': '2022-08-01T21:58:46Z', 'body': 'Cleveland Browns quarterback Deshaun Watson has been suspended for six games without pay for violating the NFL\\'s personal conduct policy for his \"predatory conduct\" in private meetings with massage therapists, according to a ruling by a judge jointly appointed by the NFL and the NFL Players Association.'}, {'path': 'https://www.cnn.com/2022/08/01/politics/manchin-deal-gas-pipeline-permitting-climate/index.html', 'type': 'article', 'headline': 'Manchin, Democratic leadership strike deal to advance controversial natural gas pipeline in Appalachia', 'thumbnail': 'https://cdn.cnn.com/cnnnext/dam/assets/220731083026-joe-manchin-0719-story-body.jpg', 'sourceId': 'article_C1CA7A68-393D-37B9-7F72-5B56882342CE', 'url': 'https://www.cnn.com/2022/08/01/politics/manchin-deal-gas-pipeline-permitting-climate/index.html', 'lastModifiedDate': '2022-08-01T21:54:58Z', 'body': \"The permitting deal was struck between Manchin, Schumer and Pelosi to secure Manchin's vote on the larger economic and energy package.\"}, {'path': 'https://www.cnn.com/2013/10/31/us/mta-new-york-city-transit-fast-facts/index.html', 'type': 'article', 'headline': 'Metropolitan Transportation Authority Fast Facts', 'thumbnail': 'https://cdn.cnn.com/cnnnext/dam/assets/140210182153-new-york-subway-story-body.jpg', 'sourceId': 'article_6AF4F91B-C04B-C69B-B301-F420D084591E', 'url': 'https://www.cnn.com/2013/10/31/us/mta-new-york-city-transit-fast-facts/index.html', 'lastModifiedDate': '2022-08-01T21:49:34Z', 'body': \"Read CNN's Fast Facts about the Metropolitan Transportation Authority (MTA), which serves New York City, Long Island, southeastern New York State, and Connecticut.\"}, {'path': 'https://www.cnn.com/2022/08/01/politics/guy-reffitt-sentencing/index.html', 'type': 'article', 'headline': 'Jan. 6 rioter who carried gun to US Capitol and threatened Nancy Pelosi gets more than 7 years in prison', 'thumbnail': 'https://cdn.cnn.com/cnnnext/dam/assets/220801164703-01-guy-reffitt-sketch-0801-story-body.jpg', 'sourceId': 'article_44C361E2-C27E-829F-A742-59D8C8BBB6CF', 'url': 'https://www.cnn.com/2022/08/01/politics/guy-reffitt-sentencing/index.html', 'lastModifiedDate': '2022-08-02T11:13:53Z', 'body': 'A federal judge on Monday sentenced Guy Reffitt, who brought a gun to the US Capitol during the January 6, 2021, riot and threatened House Speaker Nancy Pelosi, to more than seven years in prison, the longest insurrection-related sentence to date.'}, {'path': 'https://www.cnn.com/travel/article/cdc-covid-travel-risk-destinations-august-1/index.html', 'type': 'article', 'headline': \"CDC adds 3 places to its 'high' risk list for Covid-19\", 'thumbnail': 'https://cdn.cnn.com/cnnnext/dam/assets/220801222113-transylvania-romania-city-center-story-body.jpg', 'sourceId': 'article_42417603-B31B-CCE7-2B71-4BD32BF851B9', 'url': 'https://www.cnn.com/travel/article/cdc-covid-travel-risk-destinations-august-1/index.html', 'lastModifiedDate': '2022-08-01T21:01:19Z', 'body': 'The US Centers for Disease Control and Prevention added three places to its \"high\" risk category for travel on Monday, including Romania.'}, {'path': 'https://www.cnn.com/2022/08/01/politics/steve-zissou-viktor-bout-cnntv/index.html', 'type': 'article', 'headline': \"Attorney for convicted Russian arms dealer Viktor Bout is 'confident' prisoner swap with US will happen\", 'thumbnail': 'https://cdn.cnn.com/cnnnext/dam/assets/220728123328-viktor-bout-story-body.jpg', 'sourceId': 'article_8032592C-ACC8-4D17-C10F-59AAB89BBB50', 'url': 'https://www.cnn.com/2022/08/01/politics/steve-zissou-viktor-bout-cnntv/index.html', 'lastModifiedDate': '2022-08-01T20:25:12Z', 'body': 'Steve Zissou believes the proposed prisoner swap of his client for Americans Brittney Griner and Paul Whelan will happen'}, {'path': 'https://www.cnn.com/2022/08/01/entertainment/beyonce-heated-slur-intl-scli/index.html', 'type': 'article', 'headline': \"Beyoncé to remove ableist slur from 'Heated' after backlash from disability campaigners\", 'thumbnail': 'https://cdn.cnn.com/cnnnext/dam/assets/220801102933-beyonce-file-2018-story-body.jpg', 'sourceId': 'article_FAB889BF-5A7A-976A-B7CA-5A0BAD0D3068', 'url': 'https://www.cnn.com/2022/08/01/entertainment/beyonce-heated-slur-intl-scli/index.html', 'lastModifiedDate': '2022-08-01T18:43:50Z', 'body': 'Beyoncé says she will remove an ableist slur from her new album, \"Renaissance,\" after facing online backlash and criticism from disability campaigners.'}, {'path': 'https://www.cnn.com/videos/us/2022/08/01/kentucky-flood-victim-intv-sot-nr-vpx.cnn', 'type': 'video', 'headline': 'Flood survivor describes being in house as it was removed from foundation', 'thumbnail': 'https://cdn.cnn.com/cnnnext/dam/assets/220801133742-flood-survivor-split-with-flooding-vpx-story-body.jpg', 'sourceId': 'video_2F740888-76E3-5296-1F05-5A6EA6D5B459', 'url': 'https://www.cnn.com/videos/us/2022/08/01/kentucky-flood-victim-intv-sot-nr-vpx.cnn', 'lastModifiedDate': '2022-08-01T17:54:25Z', 'body': \"CNN's Ana Cabrera talks to Kentucky flood survivor Jessica Willett about being in her home as flood waters rose and eventually removed her home from its foundation while she and her kids were inside. \"}]}\n"
     ]
    }
   ],
   "source": [
    "master_df_cnn = []\n",
    "for i in range(0,10000,1000):\n",
    "    url = (f\"https://prod.di.api.cnn.io/search/query?q=&size=1000&from={i}&page={i/1000}&sort=newest&sections=politics\")\n",
    "    response = requests.get(url)\n",
    "#     print(response.text)\n",
    "    lst_url = []\n",
    "    y = json.loads(response.text)\n",
    "    print(y)\n",
    "#     for x in range(0,len(y)):\n",
    "#         if \"https://www.foxnews.com/video/\" not in y[x]['url']:\n",
    "#             lst_url.append(y[x]['url'])\n",
    "#     for j in range(0,len(lst_url)):\n",
    "#         df_dict = {\"title\":get_title(lst_url[j]) , \"body\":get_body(lst_url[j]) , \"Url\":\"https://www.foxnews.com\" + lst_url[j]}\n",
    "#         master_df.append(df_dict)"
   ]
  },
  {
   "cell_type": "code",
   "execution_count": null,
   "id": "b42025f0",
   "metadata": {},
   "outputs": [],
   "source": []
  }
 ],
 "metadata": {
  "kernelspec": {
   "display_name": "Python 3 (ipykernel)",
   "language": "python",
   "name": "python3"
  },
  "language_info": {
   "codemirror_mode": {
    "name": "ipython",
    "version": 3
   },
   "file_extension": ".py",
   "mimetype": "text/x-python",
   "name": "python",
   "nbconvert_exporter": "python",
   "pygments_lexer": "ipython3",
   "version": "3.10.8"
  }
 },
 "nbformat": 4,
 "nbformat_minor": 5
}
